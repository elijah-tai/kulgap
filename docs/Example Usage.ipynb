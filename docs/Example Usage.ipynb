{
 "cells": [
  {
   "cell_type": "markdown",
   "metadata": {},
   "source": [
    "# Purpose"
   ]
  },
  {
   "cell_type": "markdown",
   "metadata": {},
   "source": [
    "Of this notebook is to demonstrate some common usages of the `kulgap` package."
   ]
  },
  {
   "cell_type": "markdown",
   "metadata": {},
   "source": [
    "### Define a Collection"
   ]
  },
  {
   "cell_type": "markdown",
   "metadata": {},
   "source": [
    "A collection is essentially is list of all of your timeseries data structured like:"
   ]
  },
  {
   "cell_type": "code",
   "execution_count": 1,
   "metadata": {},
   "outputs": [],
   "source": [
    "import numpy as np\n",
    "\n",
    "# import some data\n",
    "control_obs_times = np.array([0, 4, 7, 11, 14, 18, 21])\n",
    "control_obs_seqs = np.array(\n",
    "    [\n",
    "        [186.98, 368.7, 488.45, 782.15, 924.55, 970.16, 1081.03],\n",
    "        [267.6, 495.77, 628.39, 892.86, 984.88, 1096.8, 1314.03],\n",
    "        [164.48, 265.19, 321.11, 429.37, 554.81, 602.29, 801.5],\n",
    "        [201.21, 363.26, 443.48,660, 860.98, 961.62, 1005.79]\n",
    "    ]\n",
    ")\n",
    "\n",
    "treatment_obs_times = np.array([0, 4, 7, 11, 14, 18, 21])\n",
    "treatment_obs_seqs = np.array(\n",
    "    [\n",
    "        [118.82, 296.3, 465.59, 600.2, 482.71, 613.6, 408.73],\n",
    "        [151.67, 264.68, 384.61, 370.35, 304.5, 311.43, 213.42],\n",
    "        [127.3, 211.11, 270.17, 166.8, 87.16, 72.28, 54.18]\n",
    "    ]\n",
    ")"
   ]
  },
  {
   "cell_type": "markdown",
   "metadata": {},
   "source": [
    "`control_obs_times` is the sequence of times at which measurements were taken for the control case. `control_obs_seqs` is the sequence**s** of the actual measurements taken at each individual time."
   ]
  },
  {
   "cell_type": "code",
   "execution_count": 2,
   "metadata": {
    "scrolled": true
   },
   "outputs": [
    {
     "name": "stderr",
     "output_type": "stream",
     "text": [
      "INFO:kulgap.config:Normalizing data...\n",
      "INFO:kulgap.config:Normalizing data...\n"
     ]
    }
   ],
   "source": [
    "from kulgap.collection import Collection\n",
    "\n",
    "control_collection = Collection(\"control\", control_obs_times, control_obs_seqs)\n",
    "treatment_collection = Collection(\"treatment\", treatment_obs_times, treatment_obs_seqs)"
   ]
  },
  {
   "cell_type": "markdown",
   "metadata": {},
   "source": [
    "### Calculate Metrics for the Collection"
   ]
  },
  {
   "cell_type": "code",
   "execution_count": 3,
   "metadata": {},
   "outputs": [],
   "source": [
    "%matplotlib inline\n",
    "from matplotlib import pyplot as plt"
   ]
  },
  {
   "cell_type": "markdown",
   "metadata": {},
   "source": [
    "These are the supported metric types:"
   ]
  },
  {
   "cell_type": "code",
   "execution_count": 4,
   "metadata": {},
   "outputs": [
    {
     "data": {
      "text/plain": [
       "('KL_DIVERGENCE',\n",
       " 'KL_P_VALUE',\n",
       " 'MRECIST',\n",
       " 'MRECIST_COUNTS',\n",
       " 'ANGLE',\n",
       " 'ANGLE_RELATIVE',\n",
       " 'ANGLE_AVERAGE',\n",
       " 'ANGLE_AVERAGE_RELATIVE',\n",
       " 'AUC',\n",
       " 'AUC_NORM',\n",
       " 'AUC_GP',\n",
       " 'DIRECTION',\n",
       " 'CREDIBLE_INTERVALS',\n",
       " 'PERCENT_CREDIBLE_INTERVALS',\n",
       " 'RATES_LIST',\n",
       " 'DELTA_LOG_LIKELIHOOD_H0_H1')"
      ]
     },
     "execution_count": 4,
     "metadata": {},
     "output_type": "execute_result"
    }
   ],
   "source": [
    "from kulgap.metrics import Metrics\n",
    "Metrics.TYPES"
   ]
  },
  {
   "cell_type": "markdown",
   "metadata": {},
   "source": [
    "You need to pass into the Metrics the Collection on which you'd like to perform analysis on, and you're ready to calculate the metrics."
   ]
  },
  {
   "cell_type": "code",
   "execution_count": 23,
   "metadata": {},
   "outputs": [],
   "source": [
    "control_metrics = Metrics(collection=control_collection)\n",
    "treatment_metrics = Metrics(collection=treatment_collection)"
   ]
  },
  {
   "cell_type": "markdown",
   "metadata": {},
   "source": [
    "### KL Divergence"
   ]
  },
  {
   "cell_type": "markdown",
   "metadata": {},
   "source": [
    "The main supported distance metric between two Gaussian processes."
   ]
  },
  {
   "cell_type": "code",
   "execution_count": 24,
   "metadata": {
    "scrolled": true
   },
   "outputs": [
    {
     "name": "stderr",
     "output_type": "stream",
     "text": [
      "INFO:kulgap.config:Currently no fit GP on treatment, fitting a GP\n",
      "INFO:GP:initializing Y\n",
      "INFO:GP:initializing inference method\n",
      "INFO:GP:adding kernel and likelihood as parameters\n",
      "INFO:kulgap.config:Currently no fit GP on control, fitting a GP\n"
     ]
    },
    {
     "name": "stdout",
     "output_type": "stream",
     "text": [
      "Optimization restart 1/7, f = 24.679507527412888\n",
      "Optimization restart 2/7, f = 24.679507527118744\n",
      "Optimization restart 3/7, f = 24.679507527180185\n",
      "Optimization restart 4/7, f = 24.679507527214284\n",
      "Optimization restart 5/7, f = 32.57611537622304\n",
      "Optimization restart 6/7, f = 24.679507527592577\n",
      "Optimization restart 7/7, f = 32.57611537622234\n"
     ]
    },
    {
     "name": "stderr",
     "output_type": "stream",
     "text": [
      "INFO:GP:initializing Y\n",
      "INFO:GP:initializing inference method\n",
      "INFO:GP:adding kernel and likelihood as parameters\n"
     ]
    },
    {
     "name": "stdout",
     "output_type": "stream",
     "text": [
      "Optimization restart 1/7, f = -9.145489191420284\n",
      "Optimization restart 2/7, f = -9.145489191455582\n",
      "Optimization restart 3/7, f = 6.877801178677256\n",
      "Optimization restart 4/7, f = -9.145489191148718\n",
      "Optimization restart 5/7, f = 6.877800484791438\n",
      "Optimization restart 6/7, f = 6.877801178671929\n"
     ]
    },
    {
     "name": "stderr",
     "output_type": "stream",
     "text": [
      "INFO:kulgap.config:Calculating the KL Divergence between treatment and control\n",
      "INFO:kulgap.config:Calculated KL divergence is: 28.260212\n"
     ]
    },
    {
     "name": "stdout",
     "output_type": "stream",
     "text": [
      "Optimization restart 7/7, f = -9.145489191406373\n"
     ]
    },
    {
     "data": {
      "text/plain": [
       "28.2602121290738"
      ]
     },
     "execution_count": 24,
     "metadata": {},
     "output_type": "execute_result"
    }
   ],
   "source": [
    "treatment_metrics.kl_divergence(control_metrics)"
   ]
  },
  {
   "cell_type": "code",
   "execution_count": 25,
   "metadata": {},
   "outputs": [
    {
     "data": {
      "text/plain": [
       "<matplotlib.axes._subplots.AxesSubplot at 0x10ded7358>"
      ]
     },
     "execution_count": 25,
     "metadata": {},
     "output_type": "execute_result"
    },
    {
     "name": "stderr",
     "output_type": "stream",
     "text": [
      " /usr/local/lib/python3.6/site-packages/matplotlib/figure.py:1742: UserWarning:This figure includes Axes that are not compatible with tight_layout, so its results might be incorrect.\n"
     ]
    },
    {
     "data": {
      "image/png": "[encoded data removed]",
      "text/plain": [
       "<matplotlib.figure.Figure at 0x10dec79e8>"
      ]
     },
     "metadata": {},
     "output_type": "display_data"
    }
   ],
   "source": [
    "treatment_metrics.fit_gp.plot()"
   ]
  },
  {
   "cell_type": "code",
   "execution_count": 26,
   "metadata": {
    "scrolled": true
   },
   "outputs": [
    {
     "name": "stderr",
     "output_type": "stream",
     "text": [
      "INFO:kulgap.config:Calculating the KL Divergence between control and treatment\n",
      "INFO:kulgap.config:Calculated KL divergence is: 468.149878\n"
     ]
    },
    {
     "data": {
      "text/plain": [
       "468.1498784372714"
      ]
     },
     "execution_count": 26,
     "metadata": {},
     "output_type": "execute_result"
    }
   ],
   "source": [
    "control_metrics.kl_divergence(treatment_metrics)"
   ]
  },
  {
   "cell_type": "markdown",
   "metadata": {},
   "source": [
    "Of course, KL divergence is not symmetric."
   ]
  },
  {
   "cell_type": "code",
   "execution_count": 27,
   "metadata": {},
   "outputs": [
    {
     "data": {
      "text/plain": [
       "<matplotlib.axes._subplots.AxesSubplot at 0x10df5e748>"
      ]
     },
     "execution_count": 27,
     "metadata": {},
     "output_type": "execute_result"
    },
    {
     "name": "stderr",
     "output_type": "stream",
     "text": [
      " /usr/local/lib/python3.6/site-packages/matplotlib/figure.py:1742: UserWarning:This figure includes Axes that are not compatible with tight_layout, so its results might be incorrect.\n"
     ]
    },
    {
     "data": {
      "image/png": "[encoded data removed]",
      "text/plain": [
       "<matplotlib.figure.Figure at 0x10df73d68>"
      ]
     },
     "metadata": {},
     "output_type": "display_data"
    }
   ],
   "source": [
    "control_metrics.fit_gp.plot()"
   ]
  },
  {
   "cell_type": "markdown",
   "metadata": {},
   "source": [
    "### Jensen Shannon Divergence"
   ]
  },
  {
   "cell_type": "markdown",
   "metadata": {},
   "source": [
    "The symmetric version of KL divergence."
   ]
  },
  {
   "cell_type": "markdown",
   "metadata": {},
   "source": [
    "### P value for the observed KL divergence"
   ]
  },
  {
   "cell_type": "code",
   "execution_count": 28,
   "metadata": {},
   "outputs": [
    {
     "name": "stderr",
     "output_type": "stream",
     "text": [
      "INFO:kulgap.config:Processed 0 out of 70 cases\n",
      "INFO:GP:initializing Y\n",
      "INFO:GP:initializing inference method\n",
      "INFO:GP:adding kernel and likelihood as parameters\n"
     ]
    },
    {
     "name": "stdout",
     "output_type": "stream",
     "text": [
      "Optimization restart 1/7, f = 32.583690003298415\n",
      "Optimization restart 2/7, f = 41.70602248293774\n",
      "Optimization restart 3/7, f = 32.58369000750814\n",
      "Optimization restart 4/7, f = 32.58369000329053\n",
      "Optimization restart 5/7, f = 41.706022482913525\n",
      "Optimization restart 6/7, f = 32.583690003290826\n"
     ]
    },
    {
     "name": "stderr",
     "output_type": "stream",
     "text": [
      "INFO:GP:initializing Y\n",
      "INFO:GP:initializing inference method\n",
      "INFO:GP:adding kernel and likelihood as parameters\n"
     ]
    },
    {
     "name": "stdout",
     "output_type": "stream",
     "text": [
      "Optimization restart 7/7, f = 32.58369000328993\n",
      "Optimization restart 1/7, f = -10.192852172568353\n",
      "Optimization restart 2/7, f = -10.192852184306595\n",
      "Optimization restart 3/7, f = -10.192852184315825\n",
      "Optimization restart 4/7, f = 5.931897945310354\n",
      "Optimization restart 5/7, f = -10.192852184318163\n",
      "Optimization restart 6/7, f = 5.931897945305995\n",
      "Optimization restart 7/7, f = -10.192852184292267\n"
     ]
    },
    {
     "name": "stderr",
     "output_type": "stream",
     "text": [
      " /Users/wonjunetai/src/github.com/kulgap/kulgap/metrics.py:159: RuntimeWarning:invalid value encountered in log10\n",
      " /usr/local/lib/python3.6/site-packages/scipy/integrate/quadpack.py:356: IntegrationWarning:The occurrence of roundoff error is detected, which prevents \n",
      "  the requested tolerance from being achieved.  The error may be \n",
      "  underestimated.\n",
      "INFO:kulgap.config:Processed 1 out of 70 cases\n",
      "INFO:GP:initializing Y\n",
      "INFO:GP:initializing inference method\n",
      "INFO:GP:adding kernel and likelihood as parameters\n"
     ]
    },
    {
     "name": "stdout",
     "output_type": "stream",
     "text": [
      "Optimization restart 1/7, f = 31.146051935022765\n",
      "Optimization restart 2/7, f = 31.14605193571953\n",
      "Optimization restart 3/7, f = 40.34498020701457\n",
      "Optimization restart 4/7, f = 31.146051936978314\n",
      "Optimization restart 5/7, f = 40.34498020600504\n",
      "Optimization restart 6/7, f = 31.146051939699163\n"
     ]
    },
    {
     "name": "stderr",
     "output_type": "stream",
     "text": [
      "INFO:GP:initializing Y\n",
      "INFO:GP:initializing inference method\n",
      "INFO:GP:adding kernel and likelihood as parameters\n"
     ]
    },
    {
     "name": "stdout",
     "output_type": "stream",
     "text": [
      "Optimization restart 7/7, f = 40.34498020712625\n",
      "Optimization restart 1/7, f = -3.0575608927735924\n",
      "Optimization restart 2/7, f = 12.635856868326021\n",
      "Optimization restart 3/7, f = 12.635856868332445\n",
      "Optimization restart 4/7, f = -3.057560898679842\n",
      "Optimization restart 5/7, f = 12.6358568671298\n",
      "Optimization restart 6/7, f = -3.0575608986720866\n",
      "Optimization restart 7/7, f = 12.635856868447103\n"
     ]
    },
    {
     "name": "stderr",
     "output_type": "stream",
     "text": [
      "INFO:kulgap.config:Processed 2 out of 70 cases\n",
      "INFO:GP:initializing Y\n",
      "INFO:GP:initializing inference method\n",
      "INFO:GP:adding kernel and likelihood as parameters\n"
     ]
    },
    {
     "name": "stdout",
     "output_type": "stream",
     "text": [
      "Optimization restart 1/7, f = 30.715772533242173\n",
      "Optimization restart 2/7, f = 30.715772533216693\n",
      "Optimization restart 3/7, f = 40.00800319608033\n",
      "Optimization restart 4/7, f = 30.715772534247794\n",
      "Optimization restart 5/7, f = 30.71577253706323\n"
     ]
    },
    {
     "name": "stderr",
     "output_type": "stream",
     "text": [
      " /usr/local/lib/python3.6/site-packages/GPy/kern/src/rbf.py:51: RuntimeWarning:overflow encountered in square\n",
      "INFO:GP:initializing Y\n",
      "INFO:GP:initializing inference method\n",
      "INFO:GP:adding kernel and likelihood as parameters\n"
     ]
    },
    {
     "name": "stdout",
     "output_type": "stream",
     "text": [
      "Optimization restart 6/7, f = 30.715772533214643\n",
      "Optimization restart 7/7, f = 30.71577253330378\n",
      "Optimization restart 1/7, f = -9.284332883570613\n",
      "Optimization restart 2/7, f = -9.284332883702286\n",
      "Optimization restart 3/7, f = 6.903400260240083\n",
      "Optimization restart 4/7, f = 6.903400260111319\n"
     ]
    },
    {
     "name": "stderr",
     "output_type": "stream",
     "text": [
      "INFO:kulgap.config:Processed 3 out of 70 cases\n"
     ]
    },
    {
     "name": "stdout",
     "output_type": "stream",
     "text": [
      "Optimization restart 5/7, f = 6.903400260086496\n",
      "Optimization restart 6/7, f = 6.903400259959266\n",
      "Optimization restart 7/7, f = 6.903400259986192\n"
     ]
    },
    {
     "name": "stderr",
     "output_type": "stream",
     "text": [
      "INFO:GP:initializing Y\n",
      "INFO:GP:initializing inference method\n",
      "INFO:GP:adding kernel and likelihood as parameters\n"
     ]
    },
    {
     "name": "stdout",
     "output_type": "stream",
     "text": [
      "Optimization restart 1/7, f = 31.60350166428249\n",
      "Optimization restart 2/7, f = 40.834117421510115\n",
      "Optimization restart 3/7, f = 40.83412193444006\n",
      "Optimization restart 4/7, f = 31.603501654929595\n",
      "Optimization restart 5/7, f = 31.603501655057997\n",
      "Optimization restart 6/7, f = 32.399585388882585\n"
     ]
    },
    {
     "name": "stderr",
     "output_type": "stream",
     "text": [
      " /usr/local/lib/python3.6/site-packages/GPy/kern/src/stationary.py:168: RuntimeWarning:overflow encountered in true_divide\n",
      " /usr/local/lib/python3.6/site-packages/GPy/kern/src/rbf.py:54: RuntimeWarning:invalid value encountered in multiply\n",
      "INFO:GP:initializing Y\n",
      "INFO:GP:initializing inference method\n",
      "INFO:GP:adding kernel and likelihood as parameters\n"
     ]
    },
    {
     "name": "stdout",
     "output_type": "stream",
     "text": [
      "Optimization restart 7/7, f = 40.834121934423806\n",
      "Optimization restart 1/7, f = -2.529952137309845\n",
      "Optimization restart 2/7, f = -2.529952137321203\n",
      "Optimization restart 3/7, f = 12.711477282781642\n",
      "Optimization restart 4/7, f = -2.5299521372893654\n",
      "Optimization restart 5/7, f = -2.529952137122649\n"
     ]
    },
    {
     "name": "stderr",
     "output_type": "stream",
     "text": [
      "INFO:kulgap.config:Processed 4 out of 70 cases\n"
     ]
    },
    {
     "name": "stdout",
     "output_type": "stream",
     "text": [
      "Optimization restart 6/7, f = -2.5299521368750355\n",
      "Optimization restart 7/7, f = -2.529952137203029\n"
     ]
    },
    {
     "name": "stderr",
     "output_type": "stream",
     "text": [
      "INFO:GP:initializing Y\n",
      "INFO:GP:initializing inference method\n",
      "INFO:GP:adding kernel and likelihood as parameters\n"
     ]
    },
    {
     "name": "stdout",
     "output_type": "stream",
     "text": [
      "Optimization restart 1/7, f = 15.6524206157811\n",
      "Optimization restart 2/7, f = 15.652420616743825\n",
      "Optimization restart 3/7, f = 15.652420615729916\n",
      "Optimization restart 4/7, f = 15.652420615793826\n",
      "Optimization restart 5/7, f = 15.652420616007952\n",
      "Optimization restart 6/7, f = 28.17682734437186\n"
     ]
    },
    {
     "name": "stderr",
     "output_type": "stream",
     "text": [
      "INFO:GP:initializing Y\n",
      "INFO:GP:initializing inference method\n",
      "INFO:GP:adding kernel and likelihood as parameters\n"
     ]
    },
    {
     "name": "stdout",
     "output_type": "stream",
     "text": [
      "Optimization restart 7/7, f = 15.652420615730335\n",
      "Optimization restart 1/7, f = 25.412401326574646\n",
      "Optimization restart 2/7, f = 34.16374257748357\n",
      "Optimization restart 3/7, f = 34.16374257748243\n",
      "Optimization restart 4/7, f = 34.163742438287535\n",
      "Optimization restart 5/7, f = 25.412401326586995\n",
      "Optimization restart 6/7, f = 34.16374230843195\n",
      "Optimization restart 7/7, f = 25.412401326859868\n"
     ]
    },
    {
     "name": "stderr",
     "output_type": "stream",
     "text": [
      "INFO:kulgap.config:Processed 5 out of 70 cases\n",
      "INFO:GP:initializing Y\n",
      "INFO:GP:initializing inference method\n",
      "INFO:GP:adding kernel and likelihood as parameters\n",
      "INFO:GP:initializing Y\n",
      "INFO:GP:initializing inference method\n",
      "INFO:GP:adding kernel and likelihood as parameters\n"
     ]
    },
    {
     "name": "stdout",
     "output_type": "stream",
     "text": [
      "Optimization restart 1/7, f = 16.24612817156763\n",
      "Optimization restart 2/7, f = 28.80834957943771\n",
      "Optimization restart 3/7, f = 28.808349579365743\n",
      "Optimization restart 4/7, f = 16.24612817154064\n",
      "Optimization restart 5/7, f = 28.808349578716268\n",
      "Optimization restart 6/7, f = 28.808349579365174\n",
      "Optimization restart 7/7, f = 28.808349579395813\n",
      "Optimization restart 1/7, f = 25.928570871587866\n",
      "Optimization restart 2/7, f = 25.928570874077476\n",
      "Optimization restart 3/7, f = 25.928570875518005\n",
      "Optimization restart 4/7, f = 34.58094970177959\n",
      "Optimization restart 5/7, f = 34.58094540708116\n",
      "Optimization restart 6/7, f = 34.580949172221835\n",
      "Optimization restart 7/7, f = 34.58094970175409\n"
     ]
    },
    {
     "name": "stderr",
     "output_type": "stream",
     "text": [
      "INFO:kulgap.config:Processed 6 out of 70 cases\n",
      "INFO:GP:initializing Y\n",
      "INFO:GP:initializing inference method\n",
      "INFO:GP:adding kernel and likelihood as parameters\n"
     ]
    },
    {
     "name": "stdout",
     "output_type": "stream",
     "text": [
      "Optimization restart 1/7, f = 16.004540969281166\n",
      "Optimization restart 2/7, f = 28.634085824005908\n",
      "Optimization restart 3/7, f = 16.004540969230284\n",
      "Optimization restart 4/7, f = 16.00454096923044\n",
      "Optimization restart 5/7, f = 28.634085824045883\n",
      "Optimization restart 6/7, f = 28.6340858239763\n"
     ]
    },
    {
     "name": "stderr",
     "output_type": "stream",
     "text": [
      "INFO:GP:initializing Y\n",
      "INFO:GP:initializing inference method\n",
      "INFO:GP:adding kernel and likelihood as parameters\n"
     ]
    },
    {
     "name": "stdout",
     "output_type": "stream",
     "text": [
      "Optimization restart 7/7, f = 16.004540969244328\n",
      "Optimization restart 1/7, f = 24.982910518069804\n",
      "Optimization restart 2/7, f = 24.98291051621672\n",
      "Optimization restart 3/7, f = 24.982910517308085\n",
      "Optimization restart 4/7, f = 33.783667400809314\n",
      "Optimization restart 5/7, f = 24.982910516247482\n",
      "Optimization restart 6/7, f = 33.78366740219292\n",
      "Optimization restart 7/7, f = 24.982910516364107\n"
     ]
    },
    {
     "name": "stderr",
     "output_type": "stream",
     "text": [
      "INFO:kulgap.config:Processed 7 out of 70 cases\n",
      "INFO:GP:initializing Y\n",
      "INFO:GP:initializing inference method\n",
      "INFO:GP:adding kernel and likelihood as parameters\n"
     ]
    },
    {
     "name": "stdout",
     "output_type": "stream",
     "text": [
      "Optimization restart 1/7, f = 14.216218438430253\n",
      "Optimization restart 2/7, f = 14.21621843845955\n",
      "Optimization restart 3/7, f = 14.216218438441256\n",
      "Optimization restart 4/7, f = 14.216218439882999\n",
      "Optimization restart 5/7, f = 14.216218438436497\n"
     ]
    },
    {
     "name": "stderr",
     "output_type": "stream",
     "text": [
      "INFO:GP:initializing Y\n",
      "INFO:GP:initializing inference method\n",
      "INFO:GP:adding kernel and likelihood as parameters\n"
     ]
    },
    {
     "name": "stdout",
     "output_type": "stream",
     "text": [
      "Optimization restart 6/7, f = 14.216218439013637\n",
      "Optimization restart 7/7, f = 14.216218438816895\n",
      "Optimization restart 1/7, f = 27.160118289335095\n",
      "Optimization restart 2/7, f = 27.160118289563155\n",
      "Optimization restart 3/7, f = 27.16011828921629\n",
      "Optimization restart 4/7, f = 35.6218440645351\n",
      "Optimization restart 5/7, f = 35.621841988826446\n",
      "Optimization restart 6/7, f = 35.62184406433954\n"
     ]
    },
    {
     "name": "stderr",
     "output_type": "stream",
     "text": [
      "INFO:kulgap.config:Processed 8 out of 70 cases\n",
      "INFO:GP:initializing Y\n",
      "INFO:GP:initializing inference method\n",
      "INFO:GP:adding kernel and likelihood as parameters\n"
     ]
    },
    {
     "name": "stdout",
     "output_type": "stream",
     "text": [
      "Optimization restart 7/7, f = 27.256506103506574\n",
      "Optimization restart 1/7, f = 14.408355454013199\n",
      "Optimization restart 2/7, f = 27.111349994173473\n",
      "Optimization restart 3/7, f = 14.408355454010138\n",
      "Optimization restart 4/7, f = 14.408355454003729\n",
      "Optimization restart 5/7, f = 14.408355454018983\n",
      "Optimization restart 6/7, f = 14.408355454437855\n"
     ]
    },
    {
     "name": "stderr",
     "output_type": "stream",
     "text": [
      "INFO:GP:initializing Y\n",
      "INFO:GP:initializing inference method\n",
      "INFO:GP:adding kernel and likelihood as parameters\n"
     ]
    },
    {
     "name": "stdout",
     "output_type": "stream",
     "text": [
      "Optimization restart 7/7, f = 14.408355454012048\n",
      "Optimization restart 1/7, f = 26.427504197529558\n",
      "Optimization restart 2/7, f = 34.99467083103793\n",
      "Optimization restart 3/7, f = 26.427504197162865\n",
      "Optimization restart 4/7, f = 34.99467083093184\n",
      "Optimization restart 5/7, f = 26.427504197205206\n",
      "Optimization restart 6/7, f = 26.42750419713343\n",
      "Optimization restart 7/7, f = 34.994670830896524\n"
     ]
    },
    {
     "name": "stderr",
     "output_type": "stream",
     "text": [
      "INFO:kulgap.config:Processed 9 out of 70 cases\n",
      "INFO:GP:initializing Y\n",
      "INFO:GP:initializing inference method\n",
      "INFO:GP:adding kernel and likelihood as parameters\n"
     ]
    },
    {
     "name": "stdout",
     "output_type": "stream",
     "text": [
      "Optimization restart 1/7, f = 14.788928386461095\n",
      "Optimization restart 2/7, f = 14.788928386580537\n",
      "Optimization restart 3/7, f = 14.788928388670671\n",
      "Optimization restart 4/7, f = 27.560527417672482\n",
      "Optimization restart 5/7, f = 14.7889283865955\n",
      "Optimization restart 6/7, f = 14.788928386549932\n"
     ]
    },
    {
     "name": "stderr",
     "output_type": "stream",
     "text": [
      "INFO:GP:initializing Y\n",
      "INFO:GP:initializing inference method\n",
      "INFO:GP:adding kernel and likelihood as parameters\n"
     ]
    },
    {
     "name": "stdout",
     "output_type": "stream",
     "text": [
      "Optimization restart 7/7, f = 27.56052741796897\n",
      "Optimization restart 1/7, f = 26.842848645541732\n",
      "Optimization restart 2/7, f = 35.32929161082728\n",
      "Optimization restart 3/7, f = 35.32930503267748\n",
      "Optimization restart 4/7, f = 26.842848645713715\n",
      "Optimization restart 5/7, f = 26.84284864565727\n",
      "Optimization restart 6/7, f = 35.329304998042645\n",
      "Optimization restart 7/7, f = 26.842848645535685\n"
     ]
    },
    {
     "name": "stderr",
     "output_type": "stream",
     "text": [
      "INFO:kulgap.config:Processed 10 out of 70 cases\n",
      "INFO:GP:initializing Y\n",
      "INFO:GP:initializing inference method\n",
      "INFO:GP:adding kernel and likelihood as parameters\n"
     ]
    },
    {
     "name": "stdout",
     "output_type": "stream",
     "text": [
      "Optimization restart 1/7, f = 33.48205410678726\n",
      "Optimization restart 2/7, f = 33.28023626564463\n",
      "Optimization restart 3/7, f = 33.28023626564524\n"
     ]
    },
    {
     "name": "stderr",
     "output_type": "stream",
     "text": [
      "INFO:GP:initializing Y\n",
      "INFO:GP:initializing inference method\n",
      "INFO:GP:adding kernel and likelihood as parameters\n"
     ]
    },
    {
     "name": "stdout",
     "output_type": "stream",
     "text": [
      "Optimization restart 4/7, f = 33.28023626564641\n",
      "Optimization restart 5/7, f = 42.79329788238667\n",
      "Optimization restart 6/7, f = 42.79329788240909\n",
      "Optimization restart 7/7, f = 33.28023626569143\n",
      "Optimization restart 1/7, f = 11.193059767197084\n",
      "Optimization restart 2/7, f = 23.744669648307735\n",
      "Optimization restart 3/7, f = 11.193059767218942\n"
     ]
    },
    {
     "name": "stderr",
     "output_type": "stream",
     "text": [
      "INFO:kulgap.config:Processed 11 out of 70 cases\n",
      "INFO:GP:initializing Y\n",
      "INFO:GP:initializing inference method\n",
      "INFO:GP:adding kernel and likelihood as parameters\n"
     ]
    },
    {
     "name": "stdout",
     "output_type": "stream",
     "text": [
      "Optimization restart 4/7, f = 23.74466964831337\n",
      "Optimization restart 5/7, f = 11.19305976716321\n",
      "Optimization restart 6/7, f = 11.193059767215292\n",
      "Optimization restart 7/7, f = 23.744669648285992\n",
      "Optimization restart 1/7, f = 33.09660331263443\n",
      "Optimization restart 2/7, f = 33.09660331276568\n",
      "Optimization restart 3/7, f = 42.661362403648944\n"
     ]
    },
    {
     "name": "stderr",
     "output_type": "stream",
     "text": [
      "INFO:GP:initializing Y\n",
      "INFO:GP:initializing inference method\n",
      "INFO:GP:adding kernel and likelihood as parameters\n"
     ]
    },
    {
     "name": "stdout",
     "output_type": "stream",
     "text": [
      "Optimization restart 4/7, f = 42.661361447013554\n",
      "Optimization restart 5/7, f = 33.09660331299985\n",
      "Optimization restart 6/7, f = 42.66136240356546\n",
      "Optimization restart 7/7, f = 42.6613624035876\n",
      "Optimization restart 1/7, f = 11.65359158069425\n",
      "Optimization restart 2/7, f = 24.052297087367677\n",
      "Optimization restart 3/7, f = 11.653591580649937\n",
      "Optimization restart 4/7, f = 24.05229710894227\n"
     ]
    },
    {
     "name": "stderr",
     "output_type": "stream",
     "text": [
      "INFO:kulgap.config:Processed 12 out of 70 cases\n",
      "INFO:GP:initializing Y\n",
      "INFO:GP:initializing inference method\n",
      "INFO:GP:adding kernel and likelihood as parameters\n"
     ]
    },
    {
     "name": "stdout",
     "output_type": "stream",
     "text": [
      "Optimization restart 5/7, f = 11.653591580676368\n",
      "Optimization restart 6/7, f = 24.052297108966144\n",
      "Optimization restart 7/7, f = 11.653591580674771\n",
      "Optimization restart 1/7, f = 33.53450418828419\n",
      "Optimization restart 2/7, f = 33.534504188280906\n",
      "Optimization restart 3/7, f = 43.083986659807515\n",
      "Optimization restart 4/7, f = 43.08398665982576\n",
      "Optimization restart 5/7, f = 33.534504188396795\n",
      "Optimization restart 6/7, f = 43.083986659829904\n",
      "Optimization restart 7/7, f = 33.5345041885113\n"
     ]
    },
    {
     "name": "stderr",
     "output_type": "stream",
     "text": [
      "INFO:GP:initializing Y\n",
      "INFO:GP:initializing inference method\n",
      "INFO:GP:adding kernel and likelihood as parameters\n"
     ]
    },
    {
     "name": "stdout",
     "output_type": "stream",
     "text": [
      "Optimization restart 1/7, f = 10.3508683097438\n",
      "Optimization restart 2/7, f = 10.350868309384406\n",
      "Optimization restart 3/7, f = 10.350868310036779\n",
      "Optimization restart 4/7, f = 10.350868309418296\n",
      "Optimization restart 5/7, f = 22.934603129224392\n",
      "Optimization restart 6/7, f = 10.35086830963674\n",
      "Optimization restart 7/7, f = 10.350868309385547\n"
     ]
    },
    {
     "name": "stderr",
     "output_type": "stream",
     "text": [
      "INFO:kulgap.config:Processed 13 out of 70 cases\n",
      "INFO:GP:initializing Y\n",
      "INFO:GP:initializing inference method\n",
      "INFO:GP:adding kernel and likelihood as parameters\n"
     ]
    },
    {
     "name": "stdout",
     "output_type": "stream",
     "text": [
      "Optimization restart 1/7, f = 31.978831017648204\n",
      "Optimization restart 2/7, f = 41.6155912784906\n",
      "Optimization restart 3/7, f = 31.978831013510412\n",
      "Optimization restart 4/7, f = 31.97883101364893\n",
      "Optimization restart 5/7, f = 41.61559127984269\n",
      "Optimization restart 6/7, f = 41.615591279766534\n"
     ]
    },
    {
     "name": "stderr",
     "output_type": "stream",
     "text": [
      "INFO:GP:initializing Y\n",
      "INFO:GP:initializing inference method\n",
      "INFO:GP:adding kernel and likelihood as parameters\n"
     ]
    },
    {
     "name": "stdout",
     "output_type": "stream",
     "text": [
      "Optimization restart 7/7, f = 31.97883101350922\n",
      "Optimization restart 1/7, f = 13.950601448952135\n",
      "Optimization restart 2/7, f = 13.950601448951552\n",
      "Optimization restart 3/7, f = 13.950601449523704\n",
      "Optimization restart 4/7, f = 25.97993675670178\n",
      "Optimization restart 5/7, f = 13.950601448952547\n",
      "Optimization restart 6/7, f = 13.950601449595835\n",
      "Optimization restart 7/7, f = 13.950601449037872\n"
     ]
    },
    {
     "name": "stderr",
     "output_type": "stream",
     "text": [
      "INFO:kulgap.config:Processed 14 out of 70 cases\n",
      "INFO:GP:initializing Y\n",
      "INFO:GP:initializing inference method\n",
      "INFO:GP:adding kernel and likelihood as parameters\n"
     ]
    },
    {
     "name": "stdout",
     "output_type": "stream",
     "text": [
      "Optimization restart 1/7, f = 32.560127195498126\n",
      "Optimization restart 2/7, f = 32.56012719582676\n",
      "Optimization restart 3/7, f = 32.560127195706876\n"
     ]
    },
    {
     "name": "stderr",
     "output_type": "stream",
     "text": [
      "INFO:GP:initializing Y\n",
      "INFO:GP:initializing inference method\n",
      "INFO:GP:adding kernel and likelihood as parameters\n"
     ]
    },
    {
     "name": "stdout",
     "output_type": "stream",
     "text": [
      "Optimization restart 4/7, f = 42.16354731887194\n",
      "Optimization restart 5/7, f = 42.16354701201577\n",
      "Optimization restart 6/7, f = 42.16354732286954\n",
      "Optimization restart 7/7, f = 32.56012719550765\n",
      "Optimization restart 1/7, f = 13.44641909672205\n",
      "Optimization restart 2/7, f = 13.44641909618214\n",
      "Optimization restart 3/7, f = 13.446419096190493\n",
      "Optimization restart 4/7, f = 25.521396037070623\n",
      "Optimization restart 5/7, f = 13.44641909953656\n",
      "Optimization restart 6/7, f = 13.446419096978962\n",
      "Optimization restart 7/7, f = 13.446419096422826\n"
     ]
    },
    {
     "name": "stderr",
     "output_type": "stream",
     "text": [
      "INFO:kulgap.config:Processed 15 out of 70 cases\n",
      "INFO:GP:initializing Y\n",
      "INFO:GP:initializing inference method\n",
      "INFO:GP:adding kernel and likelihood as parameters\n"
     ]
    },
    {
     "name": "stdout",
     "output_type": "stream",
     "text": [
      "Optimization restart 1/7, f = 32.30145234435734\n",
      "Optimization restart 2/7, f = 32.30145234437103\n",
      "Optimization restart 3/7, f = 41.96930855784364\n",
      "Optimization restart 4/7, f = 32.301452345416415\n"
     ]
    },
    {
     "name": "stderr",
     "output_type": "stream",
     "text": [
      "INFO:GP:initializing Y\n",
      "INFO:GP:initializing inference method\n",
      "INFO:GP:adding kernel and likelihood as parameters\n"
     ]
    },
    {
     "name": "stdout",
     "output_type": "stream",
     "text": [
      "Optimization restart 5/7, f = 32.30145234592261\n",
      "Optimization restart 6/7, f = 41.969306938388186\n",
      "Optimization restart 7/7, f = 32.301452344339616\n",
      "Optimization restart 1/7, f = 13.527199866675458\n",
      "Optimization restart 2/7, f = 13.527199866886523\n",
      "Optimization restart 3/7, f = 13.527199866674955\n",
      "Optimization restart 4/7, f = 25.53409061032508\n",
      "Optimization restart 5/7, f = 25.534078362309593\n",
      "Optimization restart 6/7, f = 13.52719986667678\n",
      "Optimization restart 7/7, f = 25.53409049329062\n"
     ]
    },
    {
     "name": "stderr",
     "output_type": "stream",
     "text": [
      "INFO:kulgap.config:Processed 16 out of 70 cases\n",
      "INFO:GP:initializing Y\n",
      "INFO:GP:initializing inference method\n",
      "INFO:GP:adding kernel and likelihood as parameters\n"
     ]
    },
    {
     "name": "stdout",
     "output_type": "stream",
     "text": [
      "Optimization restart 1/7, f = 2.27399106604674\n",
      "Optimization restart 2/7, f = 2.273991066048099\n",
      "Optimization restart 3/7, f = 16.970411028286794\n",
      "Optimization restart 4/7, f = 16.970421584264336\n",
      "Optimization restart 5/7, f = 2.2739910660481506\n"
     ]
    },
    {
     "name": "stderr",
     "output_type": "stream",
     "text": [
      "INFO:GP:initializing Y\n",
      "INFO:GP:initializing inference method\n",
      "INFO:GP:adding kernel and likelihood as parameters\n"
     ]
    },
    {
     "name": "stdout",
     "output_type": "stream",
     "text": [
      "Optimization restart 6/7, f = 2.273991066047042\n",
      "Optimization restart 7/7, f = 16.970421592370577\n",
      "Optimization restart 1/7, f = 24.0104511155673\n",
      "Optimization restart 2/7, f = 24.010451115601974\n",
      "Optimization restart 3/7, f = 24.010451116087417\n"
     ]
    },
    {
     "name": "stderr",
     "output_type": "stream",
     "text": [
      "INFO:kulgap.config:Processed 17 out of 70 cases\n",
      "INFO:GP:initializing Y\n",
      "INFO:GP:initializing inference method\n",
      "INFO:GP:adding kernel and likelihood as parameters\n"
     ]
    },
    {
     "name": "stdout",
     "output_type": "stream",
     "text": [
      "Optimization restart 4/7, f = 23.630759123260205\n",
      "Optimization restart 5/7, f = 32.32694424432368\n",
      "Optimization restart 6/7, f = 32.32694424455077\n",
      "Optimization restart 7/7, f = 24.010451115449634\n",
      "Optimization restart 1/7, f = 26.594516000077213\n"
     ]
    },
    {
     "name": "stderr",
     "output_type": "stream",
     "text": [
      " /usr/local/lib/python3.6/site-packages/paramz/transformations.py:111: RuntimeWarning:overflow encountered in expm1\n",
      "INFO:GP:initializing Y\n",
      "INFO:GP:initializing inference method\n",
      "INFO:GP:adding kernel and likelihood as parameters\n"
     ]
    },
    {
     "name": "stdout",
     "output_type": "stream",
     "text": [
      "Optimization restart 2/7, f = -2.29789044593506\n",
      "Optimization restart 3/7, f = -2.297890446033522\n",
      "Optimization restart 4/7, f = -2.297890446033609\n",
      "Optimization restart 5/7, f = 12.955369570349767\n",
      "Optimization restart 6/7, f = -2.297890446027388\n",
      "Optimization restart 7/7, f = 12.955369563549224\n",
      "Optimization restart 1/7, f = 22.05973465890687\n",
      "Optimization restart 2/7, f = 22.059699125516616\n",
      "Optimization restart 3/7, f = 31.041076239465156\n",
      "Optimization restart 4/7, f = 31.0410781281066\n",
      "Optimization restart 5/7, f = 31.041078041127776\n"
     ]
    },
    {
     "name": "stderr",
     "output_type": "stream",
     "text": [
      "INFO:kulgap.config:Processed 18 out of 70 cases\n",
      "INFO:GP:initializing Y\n",
      "INFO:GP:initializing inference method\n",
      "INFO:GP:adding kernel and likelihood as parameters\n"
     ]
    },
    {
     "name": "stdout",
     "output_type": "stream",
     "text": [
      "Optimization restart 6/7, f = 31.041072605319325\n",
      "Optimization restart 7/7, f = 22.059749953049202\n",
      "Optimization restart 1/7, f = 26.820975807867356\n",
      "Optimization restart 2/7, f = 2.0742507798420196\n",
      "Optimization restart 3/7, f = 17.11812084867004\n"
     ]
    },
    {
     "name": "stderr",
     "output_type": "stream",
     "text": [
      "INFO:GP:initializing Y\n",
      "INFO:GP:initializing inference method\n",
      "INFO:GP:adding kernel and likelihood as parameters\n"
     ]
    },
    {
     "name": "stdout",
     "output_type": "stream",
     "text": [
      "Optimization restart 4/7, f = 17.118120848670266\n",
      "Optimization restart 5/7, f = 17.118120272638272\n",
      "Optimization restart 6/7, f = 17.118120848669655\n",
      "Optimization restart 7/7, f = 17.11812084855189\n",
      "Optimization restart 1/7, f = 23.40378196770432\n",
      "Optimization restart 2/7, f = 23.011389434097012\n",
      "Optimization restart 3/7, f = 23.40378200982059\n",
      "Optimization restart 4/7, f = 31.736372983172117\n",
      "Optimization restart 5/7, f = 23.011402893184115\n",
      "Optimization restart 6/7, f = 23.403781967706944\n"
     ]
    },
    {
     "name": "stderr",
     "output_type": "stream",
     "text": [
      "INFO:kulgap.config:Processed 19 out of 70 cases\n",
      "INFO:GP:initializing Y\n",
      "INFO:GP:initializing inference method\n",
      "INFO:GP:adding kernel and likelihood as parameters\n"
     ]
    },
    {
     "name": "stdout",
     "output_type": "stream",
     "text": [
      "Optimization restart 7/7, f = 23.40378196770399\n",
      "Optimization restart 1/7, f = 25.618949348503502\n",
      "Optimization restart 2/7, f = 0.5903924785985168\n",
      "Optimization restart 3/7, f = 15.604831902794864\n",
      "Optimization restart 4/7, f = 0.5903924785889849\n",
      "Optimization restart 5/7, f = 15.604832055673784\n"
     ]
    },
    {
     "name": "stderr",
     "output_type": "stream",
     "text": [
      "INFO:GP:initializing Y\n",
      "INFO:GP:initializing inference method\n",
      "INFO:GP:adding kernel and likelihood as parameters\n"
     ]
    },
    {
     "name": "stdout",
     "output_type": "stream",
     "text": [
      "Optimization restart 6/7, f = 15.604832057295658\n",
      "Optimization restart 7/7, f = 15.604832056900616\n",
      "Optimization restart 1/7, f = 25.355502603213047\n",
      "Optimization restart 2/7, f = 25.00740179127639\n",
      "Optimization restart 3/7, f = 25.355502602017673\n",
      "Optimization restart 4/7, f = 33.45321764481528\n",
      "Optimization restart 5/7, f = 25.35550260321193\n",
      "Optimization restart 6/7, f = 25.35550260196005\n",
      "Optimization restart 7/7, f = 25.00724188325451\n"
     ]
    },
    {
     "name": "stderr",
     "output_type": "stream",
     "text": [
      "INFO:kulgap.config:Processed 20 out of 70 cases\n",
      "INFO:GP:initializing Y\n",
      "INFO:GP:initializing inference method\n",
      "INFO:GP:adding kernel and likelihood as parameters\n",
      "INFO:GP:initializing Y\n",
      "INFO:GP:initializing inference method\n"
     ]
    },
    {
     "name": "stdout",
     "output_type": "stream",
     "text": [
      "Optimization restart 1/7, f = 31.999184554405943\n",
      "Optimization restart 2/7, f = 31.59045515230313\n",
      "Optimization restart 3/7, f = 41.031151091804745\n",
      "Optimization restart 4/7, f = 41.03115109180541\n",
      "Optimization restart 5/7, f = 41.031151091814024\n",
      "Optimization restart 6/7, f = 31.590455152460564\n",
      "Optimization restart 7/7, f = 41.031151091804844\n"
     ]
    },
    {
     "name": "stderr",
     "output_type": "stream",
     "text": [
      "INFO:GP:adding kernel and likelihood as parameters\n"
     ]
    },
    {
     "name": "stdout",
     "output_type": "stream",
     "text": [
      "Optimization restart 1/7, f = 4.506678260413855\n",
      "Optimization restart 2/7, f = 18.65804502744731\n",
      "Optimization restart 3/7, f = 18.658045026685315\n",
      "Optimization restart 4/7, f = 4.506678260299731\n",
      "Optimization restart 5/7, f = 4.5066782603034135\n",
      "Optimization restart 6/7, f = 18.658045027452545\n",
      "Optimization restart 7/7, f = 18.65804502263441\n"
     ]
    },
    {
     "name": "stderr",
     "output_type": "stream",
     "text": [
      "INFO:kulgap.config:Processed 21 out of 70 cases\n",
      "INFO:GP:initializing Y\n",
      "INFO:GP:initializing inference method\n",
      "INFO:GP:adding kernel and likelihood as parameters\n"
     ]
    },
    {
     "name": "stdout",
     "output_type": "stream",
     "text": [
      "Optimization restart 1/7, f = 31.103071809975695\n",
      "Optimization restart 2/7, f = 40.64266880004102\n",
      "Optimization restart 3/7, f = 31.10307185157674\n",
      "Optimization restart 4/7, f = 31.10307180930134\n",
      "Optimization restart 5/7, f = 40.642668800166646\n",
      "Optimization restart 6/7, f = 40.64266878868074\n"
     ]
    },
    {
     "name": "stderr",
     "output_type": "stream",
     "text": [
      "INFO:GP:initializing Y\n",
      "INFO:GP:initializing inference method\n",
      "INFO:GP:adding kernel and likelihood as parameters\n"
     ]
    },
    {
     "name": "stdout",
     "output_type": "stream",
     "text": [
      "Optimization restart 7/7, f = 31.1030718093563\n",
      "Optimization restart 1/7, f = 1.3680555027129078\n",
      "Optimization restart 2/7, f = 1.3680555027131192\n",
      "Optimization restart 3/7, f = 15.758336116630415\n",
      "Optimization restart 4/7, f = 15.758336211173518\n",
      "Optimization restart 5/7, f = 15.758336211176104\n"
     ]
    },
    {
     "name": "stderr",
     "output_type": "stream",
     "text": [
      "INFO:kulgap.config:Processed 22 out of 70 cases\n"
     ]
    },
    {
     "name": "stdout",
     "output_type": "stream",
     "text": [
      "Optimization restart 6/7, f = 1.3680555039416298\n",
      "Optimization restart 7/7, f = 15.758336211290032\n"
     ]
    },
    {
     "name": "stderr",
     "output_type": "stream",
     "text": [
      "INFO:GP:initializing Y\n",
      "INFO:GP:initializing inference method\n",
      "INFO:GP:adding kernel and likelihood as parameters\n"
     ]
    },
    {
     "name": "stdout",
     "output_type": "stream",
     "text": [
      "Optimization restart 1/7, f = 31.997859371056943\n",
      "Optimization restart 2/7, f = 31.997859370262383\n",
      "Optimization restart 3/7, f = 31.997859370283933\n"
     ]
    },
    {
     "name": "stderr",
     "output_type": "stream",
     "text": [
      "INFO:GP:initializing Y\n",
      "INFO:GP:initializing inference method\n",
      "INFO:GP:adding kernel and likelihood as parameters\n"
     ]
    },
    {
     "name": "stdout",
     "output_type": "stream",
     "text": [
      "Optimization restart 4/7, f = 31.99785937026482\n",
      "Optimization restart 5/7, f = 41.45685539371762\n",
      "Optimization restart 6/7, f = 31.99785937075643\n",
      "Optimization restart 7/7, f = 31.99785937028236\n",
      "Optimization restart 1/7, f = 4.347971944869652\n",
      "Optimization restart 2/7, f = 4.347971944875015\n",
      "Optimization restart 3/7, f = 18.212785853480526\n"
     ]
    },
    {
     "name": "stderr",
     "output_type": "stream",
     "text": [
      "INFO:kulgap.config:Processed 23 out of 70 cases"
     ]
    },
    {
     "name": "stdout",
     "output_type": "stream",
     "text": [
      "Optimization restart 4/7, f = 18.212788316642417\n",
      "Optimization restart 5/7, f = 18.212788315972233\n",
      "Optimization restart 6/7, f = 18.21278828174566\n",
      "Optimization restart 7/7, f = 4.347971944947897\n"
     ]
    },
    {
     "name": "stderr",
     "output_type": "stream",
     "text": [
      "\n",
      "INFO:GP:initializing Y\n",
      "INFO:GP:initializing inference method\n",
      "INFO:GP:adding kernel and likelihood as parameters\n"
     ]
    },
    {
     "name": "stdout",
     "output_type": "stream",
     "text": [
      "Optimization restart 1/7, f = 29.279787166338807\n",
      "Optimization restart 2/7, f = 38.986776419420245\n",
      "Optimization restart 3/7, f = 29.279787164478577\n",
      "Optimization restart 4/7, f = 38.98677643388043\n",
      "Optimization restart 5/7, f = 29.27978716489972\n",
      "Optimization restart 6/7, f = 38.986776433881744\n"
     ]
    },
    {
     "name": "stderr",
     "output_type": "stream",
     "text": [
      "INFO:GP:initializing Y\n",
      "INFO:GP:initializing inference method\n",
      "INFO:GP:adding kernel and likelihood as parameters\n"
     ]
    },
    {
     "name": "stdout",
     "output_type": "stream",
     "text": [
      "Optimization restart 7/7, f = 29.279787164233884\n",
      "Optimization restart 1/7, f = 0.9710370924169407\n",
      "Optimization restart 2/7, f = 15.68429414200459\n",
      "Optimization restart 3/7, f = 0.9710370924140843\n",
      "Optimization restart 4/7, f = 0.9710370924195715\n",
      "Optimization restart 5/7, f = 0.9710370924737273\n",
      "Optimization restart 6/7, f = 15.684294138743034\n",
      "Optimization restart 7/7, f = 0.9710370924375624\n"
     ]
    },
    {
     "name": "stderr",
     "output_type": "stream",
     "text": [
      "INFO:kulgap.config:Processed 24 out of 70 cases\n",
      "INFO:GP:initializing Y\n",
      "INFO:GP:initializing inference method\n",
      "INFO:GP:adding kernel and likelihood as parameters\n"
     ]
    },
    {
     "name": "stdout",
     "output_type": "stream",
     "text": [
      "Optimization restart 1/7, f = 30.415675728097607\n",
      "Optimization restart 2/7, f = 30.415675727369425\n",
      "Optimization restart 3/7, f = 40.014258464571284\n",
      "Optimization restart 4/7, f = 30.415675727373774\n",
      "Optimization restart 5/7, f = 30.415675727405702\n",
      "Optimization restart 6/7, f = 30.415675733868476\n"
     ]
    },
    {
     "name": "stderr",
     "output_type": "stream",
     "text": [
      "INFO:GP:initializing Y\n",
      "INFO:GP:initializing inference method\n",
      "INFO:GP:adding kernel and likelihood as parameters\n"
     ]
    },
    {
     "name": "stdout",
     "output_type": "stream",
     "text": [
      "Optimization restart 7/7, f = 30.415675727369507\n",
      "Optimization restart 1/7, f = 5.55091214469153\n",
      "Optimization restart 2/7, f = 5.550912144557907\n",
      "Optimization restart 3/7, f = 19.454167066723308\n",
      "Optimization restart 4/7, f = 5.55091214455835\n",
      "Optimization restart 5/7, f = 5.550912144562567\n",
      "Optimization restart 6/7, f = 19.45416706690989"
     ]
    },
    {
     "name": "stderr",
     "output_type": "stream",
     "text": [
      "INFO:kulgap.config:Processed 25 out of 70 cases\n",
      "INFO:GP:initializing Y\n",
      "INFO:GP:initializing inference method\n",
      "INFO:GP:adding kernel and likelihood as parameters\n"
     ]
    },
    {
     "name": "stdout",
     "output_type": "stream",
     "text": [
      "\n",
      "Optimization restart 7/7, f = 5.550912144557673\n",
      "Optimization restart 1/7, f = 29.809935429852665\n",
      "Optimization restart 2/7, f = 39.52942028330439\n",
      "Optimization restart 3/7, f = 39.529420704644906\n",
      "Optimization restart 4/7, f = 29.809935428936072\n"
     ]
    },
    {
     "name": "stderr",
     "output_type": "stream",
     "text": [
      "INFO:GP:initializing Y\n",
      "INFO:GP:initializing inference method\n",
      "INFO:GP:adding kernel and likelihood as parameters\n"
     ]
    },
    {
     "name": "stdout",
     "output_type": "stream",
     "text": [
      "Optimization restart 5/7, f = 29.809935428961676\n",
      "Optimization restart 6/7, f = 29.80993546459585\n",
      "Optimization restart 7/7, f = 29.80993542893791\n",
      "Optimization restart 1/7, f = 1.5788069268100102\n",
      "Optimization restart 2/7, f = 1.5788069268201053\n",
      "Optimization restart 3/7, f = 1.5788069271242584\n",
      "Optimization restart 4/7, f = 15.798410018086647\n",
      "Optimization restart 5/7, f = 15.798410044378404\n",
      "Optimization restart 6/7, f = 15.798410044523893\n",
      "Optimization restart 7/7, f = 1.5788069268341722\n"
     ]
    },
    {
     "name": "stderr",
     "output_type": "stream",
     "text": [
      "INFO:kulgap.config:Processed 26 out of 70 cases\n",
      "INFO:GP:initializing Y\n",
      "INFO:GP:initializing inference method\n",
      "INFO:GP:adding kernel and likelihood as parameters\n"
     ]
    },
    {
     "name": "stdout",
     "output_type": "stream",
     "text": [
      "Optimization restart 1/7, f = 13.415989278716705\n",
      "Optimization restart 2/7, f = 13.415989278305538\n",
      "Optimization restart 3/7, f = 13.415989278304057\n",
      "Optimization restart 4/7, f = 26.647415991255883\n",
      "Optimization restart 5/7, f = 26.64741597985264\n"
     ]
    },
    {
     "name": "stderr",
     "output_type": "stream",
     "text": [
      "INFO:GP:initializing Y\n",
      "INFO:GP:initializing inference method\n",
      "INFO:GP:adding kernel and likelihood as parameters\n"
     ]
    },
    {
     "name": "stdout",
     "output_type": "stream",
     "text": [
      "Optimization restart 6/7, f = 13.41598927831483\n",
      "Optimization restart 7/7, f = 13.41598927853287\n",
      "Optimization restart 1/7, f = 27.077620237493917\n",
      "Optimization restart 2/7, f = 35.28276341685423\n",
      "Optimization restart 3/7, f = 35.28276341689579\n",
      "Optimization restart 4/7, f = 35.28276341685408\n",
      "Optimization restart 5/7, f = 27.07762024003806\n",
      "Optimization restart 6/7, f = 35.2827634168542\n"
     ]
    },
    {
     "name": "stderr",
     "output_type": "stream",
     "text": [
      "INFO:kulgap.config:Processed 27 out of 70 cases\n",
      "INFO:GP:initializing Y\n"
     ]
    },
    {
     "name": "stdout",
     "output_type": "stream",
     "text": [
      "Optimization restart 7/7, f = 26.9731497616839\n"
     ]
    },
    {
     "name": "stderr",
     "output_type": "stream",
     "text": [
      "INFO:GP:initializing inference method\n",
      "INFO:GP:adding kernel and likelihood as parameters\n",
      "INFO:GP:initializing Y\n",
      "INFO:GP:initializing inference method\n",
      "INFO:GP:adding kernel and likelihood as parameters\n"
     ]
    },
    {
     "name": "stdout",
     "output_type": "stream",
     "text": [
      "Optimization restart 1/7, f = 13.73549987040289\n",
      "Optimization restart 2/7, f = 26.988030978300962\n",
      "Optimization restart 3/7, f = 13.735499870386704\n",
      "Optimization restart 4/7, f = 26.98803097852658\n",
      "Optimization restart 5/7, f = 26.98803097829802\n",
      "Optimization restart 6/7, f = 26.9880309470985\n",
      "Optimization restart 7/7, f = 13.735499870373129\n",
      "Optimization restart 1/7, f = 26.197571525882857\n",
      "Optimization restart 2/7, f = 26.197526413897624\n",
      "Optimization restart 3/7, f = 26.197528087097144\n",
      "Optimization restart 4/7, f = 26.197522819171134\n",
      "Optimization restart 5/7, f = 34.659843075394775\n",
      "Optimization restart 6/7, f = 34.659843072025\n"
     ]
    },
    {
     "name": "stderr",
     "output_type": "stream",
     "text": [
      "INFO:kulgap.config:Processed 28 out of 70 cases\n",
      "INFO:GP:initializing Y\n",
      "INFO:GP:initializing inference method\n",
      "INFO:GP:adding kernel and likelihood as parameters\n"
     ]
    },
    {
     "name": "stdout",
     "output_type": "stream",
     "text": [
      "Optimization restart 7/7, f = 26.197522230942155\n"
     ]
    },
    {
     "name": "stderr",
     "output_type": "stream",
     "text": [
      "INFO:GP:initializing Y\n",
      "INFO:GP:initializing inference method\n",
      "INFO:GP:adding kernel and likelihood as parameters\n"
     ]
    },
    {
     "name": "stdout",
     "output_type": "stream",
     "text": [
      "Optimization restart 1/7, f = 26.03888660241019\n",
      "Optimization restart 2/7, f = 13.88405820326749\n",
      "Optimization restart 3/7, f = 27.177242553109103\n",
      "Optimization restart 4/7, f = 27.177242553049417\n",
      "Optimization restart 5/7, f = 27.17724255304993\n",
      "Optimization restart 6/7, f = 27.177242552428005\n",
      "Optimization restart 7/7, f = 27.177242553042753\n",
      "Optimization restart 1/7, f = 26.75339916534636\n",
      "Optimization restart 2/7, f = 34.943989779513785\n",
      "Optimization restart 3/7, f = 34.94398776429232\n",
      "Optimization restart 4/7, f = 34.94399043258456\n",
      "Optimization restart 5/7, f = 34.943990421852156\n",
      "Optimization restart 6/7, f = 26.75339916480499\n",
      "Optimization restart 7/7, f = 26.599715088040107\n"
     ]
    },
    {
     "name": "stderr",
     "output_type": "stream",
     "text": [
      "INFO:kulgap.config:Processed 29 out of 70 cases\n",
      "INFO:GP:initializing Y\n",
      "INFO:GP:initializing inference method\n",
      "INFO:GP:adding kernel and likelihood as parameters\n"
     ]
    },
    {
     "name": "stdout",
     "output_type": "stream",
     "text": [
      "Optimization restart 1/7, f = 24.157808674015918\n",
      "Optimization restart 2/7, f = 11.028545098929023\n",
      "Optimization restart 3/7, f = 11.028545098730525\n",
      "Optimization restart 4/7, f = 11.028545098740587\n",
      "Optimization restart 5/7, f = 24.649229557440197\n"
     ]
    },
    {
     "name": "stderr",
     "output_type": "stream",
     "text": [
      "INFO:GP:initializing Y\n",
      "INFO:GP:initializing inference method\n",
      "INFO:GP:adding kernel and likelihood as parameters\n"
     ]
    },
    {
     "name": "stdout",
     "output_type": "stream",
     "text": [
      "Optimization restart 6/7, f = 11.028545098738462\n",
      "Optimization restart 7/7, f = 24.649229557624498\n",
      "Optimization restart 1/7, f = 27.800616637876008\n",
      "Optimization restart 2/7, f = 35.907566823589\n",
      "Optimization restart 3/7, f = 27.73848733049961\n",
      "Optimization restart 4/7, f = 27.800616629870675\n",
      "Optimization restart 5/7, f = 35.907566823597804\n",
      "Optimization restart 6/7, f = 27.738487332005278\n",
      "Optimization restart 7/7, f = 27.738487330393262\n"
     ]
    },
    {
     "name": "stderr",
     "output_type": "stream",
     "text": [
      "INFO:kulgap.config:Processed 30 out of 70 cases\n",
      "INFO:GP:initializing Y\n",
      "INFO:GP:initializing inference method\n",
      "INFO:GP:adding kernel and likelihood as parameters\n"
     ]
    },
    {
     "name": "stdout",
     "output_type": "stream",
     "text": [
      "Optimization restart 1/7, f = 31.992473621145088\n",
      "Optimization restart 2/7, f = 41.85754377349403\n",
      "Optimization restart 3/7, f = 41.85754377349191\n",
      "Optimization restart 4/7, f = 31.992473621030676\n",
      "Optimization restart 5/7, f = 31.992473622721107\n",
      "Optimization restart 6/7, f = 31.992473621022313\n"
     ]
    },
    {
     "name": "stderr",
     "output_type": "stream",
     "text": [
      "INFO:GP:initializing Y\n",
      "INFO:GP:initializing inference method\n",
      "INFO:GP:adding kernel and likelihood as parameters\n"
     ]
    },
    {
     "name": "stdout",
     "output_type": "stream",
     "text": [
      "Optimization restart 7/7, f = 31.9924736212735\n",
      "Optimization restart 1/7, f = 14.081411180634193\n",
      "Optimization restart 2/7, f = 14.081411180635337\n",
      "Optimization restart 3/7, f = 14.081411180632989\n",
      "Optimization restart 4/7, f = 25.622945015970423\n",
      "Optimization restart 5/7, f = 14.081411180694468\n",
      "Optimization restart 6/7, f = 14.08141118070965\n",
      "Optimization restart 7/7, f = 14.081411180651024\n"
     ]
    },
    {
     "name": "stderr",
     "output_type": "stream",
     "text": [
      "INFO:kulgap.config:Processed 31 out of 70 cases\n",
      "INFO:GP:initializing Y\n",
      "INFO:GP:initializing inference method\n",
      "INFO:GP:adding kernel and likelihood as parameters\n",
      "INFO:GP:initializing Y\n",
      "INFO:GP:initializing inference method\n",
      "INFO:GP:adding kernel and likelihood as parameters\n"
     ]
    },
    {
     "name": "stdout",
     "output_type": "stream",
     "text": [
      "Optimization restart 1/7, f = 32.5995901383769\n",
      "Optimization restart 2/7, f = 42.42187962944288\n",
      "Optimization restart 3/7, f = 32.59958997599681\n",
      "Optimization restart 4/7, f = 42.42188240931216\n",
      "Optimization restart 5/7, f = 42.42188240929349\n",
      "Optimization restart 6/7, f = 42.42188240931207\n",
      "Optimization restart 7/7, f = 32.59958997367791\n",
      "Optimization restart 1/7, f = 13.706365775472497\n",
      "Optimization restart 2/7, f = 13.706365775460998"
     ]
    },
    {
     "name": "stderr",
     "output_type": "stream",
     "text": [
      "INFO:kulgap.config:Processed 32 out of 70 cases\n",
      "INFO:GP:initializing Y\n",
      "INFO:GP:initializing inference method\n",
      "INFO:GP:adding kernel and likelihood as parameters\n"
     ]
    },
    {
     "name": "stdout",
     "output_type": "stream",
     "text": [
      "\n",
      "Optimization restart 3/7, f = 25.271135349318172\n",
      "Optimization restart 4/7, f = 13.706365775447411\n",
      "Optimization restart 5/7, f = 25.271135349339527\n",
      "Optimization restart 6/7, f = 13.706365775448873\n",
      "Optimization restart 7/7, f = 25.271135349414703\n",
      "Optimization restart 1/7, f = 32.2890710275324\n",
      "Optimization restart 2/7, f = 32.289071027481405\n",
      "Optimization restart 3/7, f = 42.17083728665828\n",
      "Optimization restart 4/7, f = 32.28907103424048\n"
     ]
    },
    {
     "name": "stderr",
     "output_type": "stream",
     "text": [
      "INFO:GP:initializing Y\n",
      "INFO:GP:initializing inference method\n",
      "INFO:GP:adding kernel and likelihood as parameters\n"
     ]
    },
    {
     "name": "stdout",
     "output_type": "stream",
     "text": [
      "Optimization restart 5/7, f = 42.17083727730094\n",
      "Optimization restart 6/7, f = 42.17083728668091\n",
      "Optimization restart 7/7, f = 32.2890710292967\n",
      "Optimization restart 1/7, f = 13.506746395606793\n",
      "Optimization restart 2/7, f = 13.506746395601091\n",
      "Optimization restart 3/7, f = 24.99160170938037\n",
      "Optimization restart 4/7, f = 13.506746395623635\n",
      "Optimization restart 5/7, f = 13.506746395609696\n",
      "Optimization restart 6/7, f = 13.506746395892947\n",
      "Optimization restart 7/7, f = 13.50674639559686\n"
     ]
    },
    {
     "name": "stderr",
     "output_type": "stream",
     "text": [
      "INFO:kulgap.config:Processed 33 out of 70 cases\n",
      "INFO:GP:initializing Y\n",
      "INFO:GP:initializing inference method\n",
      "INFO:GP:adding kernel and likelihood as parameters\n"
     ]
    },
    {
     "name": "stdout",
     "output_type": "stream",
     "text": [
      "Optimization restart 1/7, f = 31.018257916537046\n",
      "Optimization restart 2/7, f = 41.02783928766334\n",
      "Optimization restart 3/7, f = 41.027839293918326\n",
      "Optimization restart 4/7, f = 31.018257839192827\n",
      "Optimization restart 5/7, f = 41.02783929392395\n",
      "Optimization restart 6/7, f = 31.018257838023615\n"
     ]
    },
    {
     "name": "stderr",
     "output_type": "stream",
     "text": [
      "INFO:GP:initializing Y\n",
      "INFO:GP:initializing inference method\n",
      "INFO:GP:adding kernel and likelihood as parameters\n"
     ]
    },
    {
     "name": "stdout",
     "output_type": "stream",
     "text": [
      "Optimization restart 7/7, f = 31.01825783825867\n",
      "Optimization restart 1/7, f = 15.16224145728873\n",
      "Optimization restart 2/7, f = 26.53011356441332\n",
      "Optimization restart 3/7, f = 15.162241457288662\n",
      "Optimization restart 4/7, f = 26.53011354931739\n",
      "Optimization restart 5/7, f = 15.162241457325388\n",
      "Optimization restart 6/7, f = 15.162241457315268\n",
      "Optimization restart 7/7, f = 15.162241457357897"
     ]
    },
    {
     "name": "stderr",
     "output_type": "stream",
     "text": [
      "INFO:kulgap.config:Processed 34 out of 70 cases\n",
      "INFO:GP:initializing Y\n",
      "INFO:GP:initializing inference method\n",
      "INFO:GP:adding kernel and likelihood as parameters\n"
     ]
    },
    {
     "name": "stdout",
     "output_type": "stream",
     "text": [
      "\n",
      "Optimization restart 1/7, f = -9.14548919146841\n",
      "Optimization restart 2/7, f = 6.877801178671881\n",
      "Optimization restart 3/7, f = 6.877801178671739\n",
      "Optimization restart 4/7, f = -9.145489191442469\n"
     ]
    },
    {
     "name": "stderr",
     "output_type": "stream",
     "text": [
      "INFO:GP:initializing Y\n",
      "INFO:GP:initializing inference method\n",
      "INFO:GP:adding kernel and likelihood as parameters\n"
     ]
    },
    {
     "name": "stdout",
     "output_type": "stream",
     "text": [
      "Optimization restart 5/7, f = -9.145489191198308\n",
      "Optimization restart 6/7, f = 6.877801178659448\n",
      "Optimization restart 7/7, f = -9.145489191448407\n",
      "Optimization restart 1/7, f = 24.679507543079264\n",
      "Optimization restart 2/7, f = 32.57611052581556\n",
      "Optimization restart 3/7, f = 24.679507529663937\n"
     ]
    },
    {
     "name": "stderr",
     "output_type": "stream",
     "text": [
      "INFO:kulgap.config:Calculating the KL Divergence between treatment and control\n",
      "INFO:kulgap.config:Calculated KL divergence is: 28.260212\n",
      "INFO:kulgap.config:The calculated p value for treatment is: 0.027778.\n"
     ]
    },
    {
     "name": "stdout",
     "output_type": "stream",
     "text": [
      "Optimization restart 4/7, f = 24.67950752713884\n",
      "Optimization restart 5/7, f = 24.679507537757992\n",
      "Optimization restart 6/7, f = 32.576106597476226\n",
      "Optimization restart 7/7, f = 24.679507527342995\n"
     ]
    },
    {
     "data": {
      "text/plain": [
       "0.027777777777777776"
      ]
     },
     "execution_count": 28,
     "metadata": {},
     "output_type": "execute_result"
    }
   ],
   "source": [
    "treatment_metrics.kl_p_value(control_metrics)"
   ]
  },
  {
   "cell_type": "markdown",
   "metadata": {},
   "source": [
    "### Angles"
   ]
  },
  {
   "cell_type": "markdown",
   "metadata": {},
   "source": [
    "A line of best fit, fit using ordinary least squares."
   ]
  },
  {
   "cell_type": "code",
   "execution_count": 12,
   "metadata": {
    "scrolled": true
   },
   "outputs": [
    {
     "data": {
      "text/plain": [
       "<matplotlib.collections.PathCollection at 0x10db63f98>"
      ]
     },
     "execution_count": 12,
     "metadata": {},
     "output_type": "execute_result"
    },
    {
     "data": {
      "image/png": "[encoded data removed]",
      "text/plain": [
       "<matplotlib.figure.Figure at 0x10db00c88>"
      ]
     },
     "metadata": {},
     "output_type": "display_data"
    }
   ],
   "source": [
    "plt.scatter(treatment_obs_times, treatment_obs_seqs[0], c='r')\n",
    "plt.scatter(treatment_obs_times, treatment_obs_seqs[1], c='b')\n",
    "plt.scatter(treatment_obs_times, treatment_obs_seqs[2], c='g')"
   ]
  },
  {
   "cell_type": "code",
   "execution_count": 29,
   "metadata": {},
   "outputs": [
    {
     "data": {
      "text/plain": [
       "{0: 1.530602146122596, 1: 1.4649906995346866, 2: -0.8546621578435386}"
      ]
     },
     "execution_count": 29,
     "metadata": {},
     "output_type": "execute_result"
    }
   ],
   "source": [
    "treatment_metrics.angles()"
   ]
  },
  {
   "cell_type": "code",
   "execution_count": 30,
   "metadata": {},
   "outputs": [
    {
     "data": {
      "text/plain": [
       "1.4804976458365167"
      ]
     },
     "execution_count": 30,
     "metadata": {},
     "output_type": "execute_result"
    }
   ],
   "source": [
    "treatment_metrics.average_angle()"
   ]
  },
  {
   "cell_type": "markdown",
   "metadata": {},
   "source": [
    "### AUC"
   ]
  },
  {
   "cell_type": "markdown",
   "metadata": {},
   "source": [
    "Area under the curve metric for the GP"
   ]
  },
  {
   "cell_type": "code",
   "execution_count": 31,
   "metadata": {
    "scrolled": true
   },
   "outputs": [
    {
     "data": {
      "text/html": [
       "<style type=\"text/css\">\n",
       ".pd{\n",
       "    font-family: \"Courier New\", Courier, monospace !important;\n",
       "    width: 100%;\n",
       "    padding: 3px;\n",
       "}\n",
       "</style>\n",
       "\n",
       "<p class=pd>\n",
       "<b>Model</b>: GP regression<br>\n",
       "<b>Objective</b>: 24.679507527118744<br>\n",
       "<b>Number of Parameters</b>: 3<br>\n",
       "<b>Number of Optimization Parameters</b>: 3<br>\n",
       "<b>Updates</b>: True<br>\n",
       "</p>\n",
       "<style type=\"text/css\">\n",
       ".tg  {font-family:\"Courier New\", Courier, monospace !important;padding:2px 3px;word-break:normal;border-collapse:collapse;border-spacing:0;border-color:#DCDCDC;margin:0px auto;width:100%;}\n",
       ".tg td{font-family:\"Courier New\", Courier, monospace !important;font-weight:bold;color:#444;background-color:#F7FDFA;border-style:solid;border-width:1px;overflow:hidden;word-break:normal;border-color:#DCDCDC;}\n",
       ".tg th{font-family:\"Courier New\", Courier, monospace !important;font-weight:normal;color:#fff;background-color:#26ADE4;border-style:solid;border-width:1px;overflow:hidden;word-break:normal;border-color:#DCDCDC;}\n",
       ".tg .tg-left{font-family:\"Courier New\", Courier, monospace !important;font-weight:normal;text-align:left;}\n",
       ".tg .tg-center{font-family:\"Courier New\", Courier, monospace !important;font-weight:normal;text-align:center;}\n",
       ".tg .tg-right{font-family:\"Courier New\", Courier, monospace !important;font-weight:normal;text-align:right;}\n",
       "</style>\n",
       "<table class=\"tg\"><tr><th><b>  GP_regression.         </b></th><th><b>              value</b></th><th><b>constraints</b></th><th><b>priors</b></th></tr>\n",
       "<tr><td class=tg-left>  rbf.variance           </td><td class=tg-right> 1.5015492964488801</td><td class=tg-center>    +ve    </td><td class=tg-center>      </td></tr>\n",
       "<tr><td class=tg-left>  rbf.lengthscale        </td><td class=tg-right>  15.81067362783776</td><td class=tg-center>    +ve    </td><td class=tg-center>      </td></tr>\n",
       "<tr><td class=tg-left>  Gaussian_noise.variance</td><td class=tg-right>0.43644712525260204</td><td class=tg-center>    +ve    </td><td class=tg-center>      </td></tr>\n",
       "</table>"
      ],
      "text/plain": [
       "<GPy.models.gp_regression.GPRegression at 0x10deb5a20>"
      ]
     },
     "execution_count": 31,
     "metadata": {},
     "output_type": "execute_result"
    }
   ],
   "source": [
    "treatment_metrics.fit_gp"
   ]
  },
  {
   "cell_type": "markdown",
   "metadata": {},
   "source": [
    "### MRECIST (Modified Response Evaluation Criteria in Solid Tumors)"
   ]
  },
  {
   "cell_type": "markdown",
   "metadata": {},
   "source": [
    "Because this package was built for comparing tumour growths in patient-derived xenografts, we natively provide this metric."
   ]
  },
  {
   "cell_type": "code",
   "execution_count": 32,
   "metadata": {},
   "outputs": [
    {
     "data": {
      "text/plain": [
       "{0: 'mPD', 1: 'mPD', 2: 'mSD'}"
      ]
     },
     "execution_count": 32,
     "metadata": {},
     "output_type": "execute_result"
    }
   ],
   "source": [
    "treatment_metrics.mrecist()"
   ]
  }
 ],
 "metadata": {
  "kernelspec": {
   "display_name": "Python 3",
   "language": "python",
   "name": "python3"
  },
  "language_info": {
   "codemirror_mode": {
    "name": "ipython",
    "version": 3
   },
   "file_extension": ".py",
   "mimetype": "text/x-python",
   "name": "python",
   "nbconvert_exporter": "python",
   "pygments_lexer": "ipython3",
   "version": "3.6.5"
  }
 },
 "nbformat": 4,
 "nbformat_minor": 2
}
