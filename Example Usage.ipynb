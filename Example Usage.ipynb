{
 "cells": [
  {
   "cell_type": "markdown",
   "metadata": {},
   "source": [
    "# Purpose"
   ]
  },
  {
   "cell_type": "markdown",
   "metadata": {},
   "source": [
    "Of this notebook is to demonstrate some common usages of the `kulgap` package."
   ]
  },
  {
   "cell_type": "markdown",
   "metadata": {},
   "source": [
    "### Define a Collection"
   ]
  },
  {
   "cell_type": "markdown",
   "metadata": {},
   "source": [
    "A collection is essentially is list of all of your timeseries data structured like:"
   ]
  },
  {
   "cell_type": "code",
   "execution_count": 1,
   "metadata": {},
   "outputs": [],
   "source": [
    "import numpy as np\n",
    "\n",
    "# import some data\n",
    "control_obs_times = np.array([0, 4, 7, 11, 14, 18, 21])\n",
    "control_obs_seqs = np.array([\n",
    "    [186.98, 368.7, 488.45, 782.15, 924.55, 970.16, 1081.03],\n",
    "    [267.6, 495.77, 628.39, 892.86, 984.88, 1096.8, 1314.03],\n",
    "    [164.48, 265.19, 321.11, 429.37, 554.81, 602.29, 801.5],\n",
    "    [201.21, 363.26, 443.48,660, 860.98, 961.62, 1005.79]\n",
    "])\n",
    "\n",
    "treatment_obs_times = np.array([0, 4, 7, 11, 14, 18, 21])\n",
    "treatment_obs_seqs = np.array(\n",
    "    [\n",
    "        [118.82, 296.3, 465.59, 600.2, 482.71, 613.6, 408.73],\n",
    "        [151.67, 264.68, 384.61, 370.35, 304.5, 311.43, 213.42],\n",
    "        [127.3, 211.11, 270.17, 166.8, 87.16, 72.28, 54.18]\n",
    "    ]\n",
    ")"
   ]
  },
  {
   "cell_type": "markdown",
   "metadata": {},
   "source": [
    "`control_obs_times` is the sequence of times at which measurements were taken for the control case. `control_obs_seqs` is the sequence**s** of the actual measurements taken at each individual time."
   ]
  },
  {
   "cell_type": "code",
   "execution_count": 2,
   "metadata": {
    "scrolled": true
   },
   "outputs": [
    {
     "name": "stderr",
     "output_type": "stream",
     "text": [
      "INFO:kulgap.config:Normalizing data...\n",
      "INFO:kulgap.config:Normalizing data...\n"
     ]
    }
   ],
   "source": [
    "from kulgap.collection import Collection\n",
    "\n",
    "control_collection = Collection(name=\"control\", control_obs_times, control_obs_seqs)\n",
    "treatment_collection = Collection(name=\"treatment\", treatment_obs_times, treatment_obs_seqs)"
   ]
  },
  {
   "cell_type": "markdown",
   "metadata": {},
   "source": [
    "### Calculate Metrics for the Collection"
   ]
  },
  {
   "cell_type": "code",
   "execution_count": 3,
   "metadata": {},
   "outputs": [],
   "source": [
    "%matplotlib inline\n",
    "from matplotlib import pyplot as plt"
   ]
  },
  {
   "cell_type": "markdown",
   "metadata": {},
   "source": [
    "These are the supported metric types:"
   ]
  },
  {
   "cell_type": "code",
   "execution_count": 5,
   "metadata": {},
   "outputs": [
    {
     "data": {
      "text/plain": [
       "('KL_DIVERGENCE',\n",
       " 'KL_P_VALUE',\n",
       " 'EMPIRICAL_KL',\n",
       " 'MRECIST',\n",
       " 'MRECIST_COUNTS',\n",
       " 'RESPONSE_ANGLE',\n",
       " 'RESPONSE_ANGLE_RELATIVE',\n",
       " 'RESPONSE_ANGLE_AVERAGE',\n",
       " 'RESPONSE_ANGLE_AVERAGE_RELATIVE',\n",
       " 'AUC',\n",
       " 'AUC_NORM',\n",
       " 'AUC_GP',\n",
       " 'DIRECTION',\n",
       " 'CREDIBLE_INTERVALS',\n",
       " 'PERCENT_CREDIBLE_INTERVALS',\n",
       " 'RATES_LIST',\n",
       " 'DELTA_LOG_LIKELIHOOD_H0_H1')"
      ]
     },
     "execution_count": 5,
     "metadata": {},
     "output_type": "execute_result"
    }
   ],
   "source": [
    "from kulgap.metrics import Metrics\n",
    "Metrics.TYPES"
   ]
  },
  {
   "cell_type": "markdown",
   "metadata": {},
   "source": [
    "You need to pass into the Metrics the Collection on which you'd like to perform analysis on, and you're ready to calculate the metrics."
   ]
  },
  {
   "cell_type": "code",
   "execution_count": 6,
   "metadata": {},
   "outputs": [],
   "source": [
    "control_metrics = Metrics(collection=control_collection)\n",
    "treatment_metrics = Metrics(collection=treatment_collection)"
   ]
  },
  {
   "cell_type": "markdown",
   "metadata": {},
   "source": [
    "### KL Divergence"
   ]
  },
  {
   "cell_type": "markdown",
   "metadata": {},
   "source": [
    "The main supported distance metric between two Gaussian processes."
   ]
  },
  {
   "cell_type": "code",
   "execution_count": 7,
   "metadata": {
    "scrolled": true
   },
   "outputs": [
    {
     "name": "stderr",
     "output_type": "stream",
     "text": [
      "INFO:kulgap.config:Currently no fit GP on treatment, fitting a GP\n",
      "INFO:GP:initializing Y\n",
      "INFO:GP:initializing inference method\n",
      "INFO:GP:adding kernel and likelihood as parameters\n"
     ]
    },
    {
     "name": "stdout",
     "output_type": "stream",
     "text": [
      "Optimization restart 1/7, f = 24.679507527412888\n",
      "Optimization restart 2/7, f = 32.57611537622191\n",
      "Optimization restart 3/7, f = 24.679507527124102\n",
      "Optimization restart 4/7, f = 24.679507527145745\n",
      "Optimization restart 5/7, f = 24.679507527124102"
     ]
    },
    {
     "name": "stderr",
     "output_type": "stream",
     "text": [
      "INFO:kulgap.config:Currently no fit GP on control, fitting a GP\n",
      "INFO:GP:initializing Y\n",
      "INFO:GP:initializing inference method\n",
      "INFO:GP:adding kernel and likelihood as parameters\n"
     ]
    },
    {
     "name": "stdout",
     "output_type": "stream",
     "text": [
      "\n",
      "Optimization restart 6/7, f = 24.67950752744996\n",
      "Optimization restart 7/7, f = 24.679507527119156\n",
      "Optimization restart 1/7, f = -9.145489191420292\n",
      "Optimization restart 2/7, f = -9.145489191512382\n",
      "Optimization restart 3/7, f = -9.145489191493338\n",
      "Optimization restart 4/7, f = 6.877799883213061\n"
     ]
    },
    {
     "name": "stderr",
     "output_type": "stream",
     "text": [
      "INFO:kulgap.config:Calculating the KL Divergence between treatment and control\n",
      "INFO:kulgap.config:Calculated KL divergence is: 28.260228\n"
     ]
    },
    {
     "name": "stdout",
     "output_type": "stream",
     "text": [
      "Optimization restart 5/7, f = -9.145489191494327\n",
      "Optimization restart 6/7, f = -9.145489191505945\n",
      "Optimization restart 7/7, f = -9.145489191502095\n"
     ]
    },
    {
     "data": {
      "text/plain": [
       "28.260227786650212"
      ]
     },
     "execution_count": 7,
     "metadata": {},
     "output_type": "execute_result"
    }
   ],
   "source": [
    "treatment_metrics.kl_divergence(control_metrics)"
   ]
  },
  {
   "cell_type": "code",
   "execution_count": 10,
   "metadata": {},
   "outputs": [
    {
     "data": {
      "text/plain": [
       "<matplotlib.axes._subplots.AxesSubplot at 0x11271aa90>"
      ]
     },
     "execution_count": 10,
     "metadata": {},
     "output_type": "execute_result"
    },
    {
     "name": "stderr",
     "output_type": "stream",
     "text": [
      " /usr/local/lib/python3.6/site-packages/matplotlib/figure.py:1742: UserWarning:This figure includes Axes that are not compatible with tight_layout, so its results might be incorrect.\n"
     ]
    },
    {
     "data": {
      "image/png": "[encoded data removed]",
      "text/plain": [
       "<matplotlib.figure.Figure at 0x1126b8c50>"
      ]
     },
     "metadata": {},
     "output_type": "display_data"
    }
   ],
   "source": [
    "treatment_metrics.fit_gp.plot()"
   ]
  },
  {
   "cell_type": "code",
   "execution_count": 8,
   "metadata": {
    "scrolled": true
   },
   "outputs": [
    {
     "name": "stderr",
     "output_type": "stream",
     "text": [
      "INFO:kulgap.config:Calculating the KL Divergence between control and treatment\n",
      "INFO:kulgap.config:Calculated KL divergence is: 468.150849\n"
     ]
    },
    {
     "data": {
      "text/plain": [
       "468.1508493765417"
      ]
     },
     "execution_count": 8,
     "metadata": {},
     "output_type": "execute_result"
    }
   ],
   "source": [
    "control_metrics.kl_divergence(treatment_metrics)"
   ]
  },
  {
   "cell_type": "markdown",
   "metadata": {},
   "source": [
    "Of course, KL divergence is not symmetric."
   ]
  },
  {
   "cell_type": "code",
   "execution_count": 11,
   "metadata": {},
   "outputs": [
    {
     "data": {
      "text/plain": [
       "<matplotlib.axes._subplots.AxesSubplot at 0x1127860b8>"
      ]
     },
     "execution_count": 11,
     "metadata": {},
     "output_type": "execute_result"
    },
    {
     "name": "stderr",
     "output_type": "stream",
     "text": [
      " /usr/local/lib/python3.6/site-packages/matplotlib/figure.py:1742: UserWarning:This figure includes Axes that are not compatible with tight_layout, so its results might be incorrect.\n"
     ]
    },
    {
     "data": {
      "image/png": "[encoded data removed]",
      "text/plain": [
       "<matplotlib.figure.Figure at 0x11272b860>"
      ]
     },
     "metadata": {},
     "output_type": "display_data"
    }
   ],
   "source": [
    "control_metrics.fit_gp.plot()"
   ]
  },
  {
   "cell_type": "markdown",
   "metadata": {},
   "source": [
    "### Jensen Shannon Divergence"
   ]
  },
  {
   "cell_type": "markdown",
   "metadata": {},
   "source": [
    "The symmetric version of KL divergence."
   ]
  },
  {
   "cell_type": "markdown",
   "metadata": {},
   "source": [
    "### P value for the observed KL divergence"
   ]
  },
  {
   "cell_type": "code",
   "execution_count": 9,
   "metadata": {
    "collapsed": true
   },
   "outputs": [
    {
     "name": "stderr",
     "output_type": "stream",
     "text": [
      "INFO:kulgap.config:Processed 0 out of 70 cases\n",
      "INFO:GP:initializing Y\n",
      "INFO:GP:initializing inference method\n",
      "INFO:GP:adding kernel and likelihood as parameters\n"
     ]
    },
    {
     "name": "stdout",
     "output_type": "stream",
     "text": [
      "Optimization restart 1/7, f = 32.58369000329841\n",
      "Optimization restart 2/7, f = 41.70602246425888\n",
      "Optimization restart 3/7, f = 32.583690003310686\n",
      "Optimization restart 4/7, f = 32.58369000358502\n",
      "Optimization restart 5/7, f = 32.58369000375309\n",
      "Optimization restart 6/7, f = 41.7060224830041\n"
     ]
    },
    {
     "name": "stderr",
     "output_type": "stream",
     "text": [
      "INFO:GP:initializing Y\n",
      "INFO:GP:initializing inference method\n",
      "INFO:GP:adding kernel and likelihood as parameters\n"
     ]
    },
    {
     "name": "stdout",
     "output_type": "stream",
     "text": [
      "Optimization restart 7/7, f = 32.583690003302564\n",
      "Optimization restart 1/7, f = -10.192852172589834\n",
      "Optimization restart 2/7, f = 5.931897945310899\n",
      "Optimization restart 3/7, f = 5.931897945302726\n",
      "Optimization restart 4/7, f = -10.19285218191892\n",
      "Optimization restart 5/7, f = -10.192852184317942\n",
      "Optimization restart 6/7, f = 5.93189794555647\n",
      "Optimization restart 7/7, f = -10.192852184258893\n"
     ]
    },
    {
     "name": "stderr",
     "output_type": "stream",
     "text": [
      " /Users/wonjunetai/Documents/kulgap/kulgap/metrics.py:149: RuntimeWarning:invalid value encountered in log10\n",
      " /usr/local/lib/python3.6/site-packages/scipy/integrate/quadpack.py:356: IntegrationWarning:The occurrence of roundoff error is detected, which prevents \n",
      "  the requested tolerance from being achieved.  The error may be \n",
      "  underestimated.\n",
      "INFO:kulgap.config:Processed 1 out of 70 cases\n",
      "INFO:GP:initializing Y\n",
      "INFO:GP:initializing inference method\n",
      "INFO:GP:adding kernel and likelihood as parameters\n"
     ]
    },
    {
     "name": "stdout",
     "output_type": "stream",
     "text": [
      "Optimization restart 1/7, f = 31.146051935023447\n",
      "Optimization restart 2/7, f = 31.14605193475704\n",
      "Optimization restart 3/7, f = 40.34498020700836\n"
     ]
    },
    {
     "name": "stderr",
     "output_type": "stream",
     "text": [
      " /usr/local/lib/python3.6/site-packages/GPy/kern/src/rbf.py:35: RuntimeWarning:overflow encountered in square\n",
      "INFO:GP:initializing Y\n",
      "INFO:GP:initializing inference method\n",
      "INFO:GP:adding kernel and likelihood as parameters\n"
     ]
    },
    {
     "name": "stdout",
     "output_type": "stream",
     "text": [
      "Optimization restart 4/7, f = 31.14605193698821\n",
      "Optimization restart 5/7, f = 40.3449802069801\n",
      "Optimization restart 6/7, f = 40.34498020693526\n",
      "Optimization restart 7/7, f = 31.146051934758034\n",
      "Optimization restart 1/7, f = -3.057560892774138\n",
      "Optimization restart 2/7, f = -3.0575608986797036\n",
      "Optimization restart 3/7, f = -3.0575608977928113\n",
      "Optimization restart 4/7, f = 12.635856868352738\n",
      "Optimization restart 5/7, f = 12.635856868332503\n",
      "Optimization restart 6/7, f = -3.0575608986801566\n",
      "Optimization restart 7/7, f = -3.0575608985352005"
     ]
    },
    {
     "name": "stderr",
     "output_type": "stream",
     "text": [
      "INFO:kulgap.config:Processed 2 out of 70 cases\n",
      "INFO:GP:initializing Y\n",
      "INFO:GP:initializing inference method\n",
      "INFO:GP:adding kernel and likelihood as parameters\n",
      "INFO:GP:initializing Y\n",
      "INFO:GP:initializing inference method\n",
      "INFO:GP:adding kernel and likelihood as parameters\n"
     ]
    },
    {
     "name": "stdout",
     "output_type": "stream",
     "text": [
      "\n",
      "Optimization restart 1/7, f = 30.71577253324233\n",
      "Optimization restart 2/7, f = 40.008003196092076\n",
      "Optimization restart 3/7, f = 40.008003107932325\n",
      "Optimization restart 4/7, f = 30.71577253321636\n",
      "Optimization restart 5/7, f = 40.00799682865023\n",
      "Optimization restart 6/7, f = 40.00800319614686\n",
      "Optimization restart 7/7, f = 30.715772534062687\n",
      "Optimization restart 1/7, f = -9.284332883570308\n",
      "Optimization restart 2/7, f = 6.903400259965396\n",
      "Optimization restart 3/7, f = -9.284332881711968\n",
      "Optimization restart 4/7, f = -9.284332883701897\n",
      "Optimization restart 5/7, f = -9.284332883695114\n",
      "Optimization restart 6/7, f = 6.90340025998562\n",
      "Optimization restart 7/7, f = 6.903400259960296\n"
     ]
    },
    {
     "name": "stderr",
     "output_type": "stream",
     "text": [
      "INFO:kulgap.config:Processed 3 out of 70 cases\n",
      "INFO:GP:initializing Y\n",
      "INFO:GP:initializing inference method\n",
      "INFO:GP:adding kernel and likelihood as parameters\n"
     ]
    },
    {
     "name": "stdout",
     "output_type": "stream",
     "text": [
      "Optimization restart 1/7, f = 31.603501663769833\n",
      "Optimization restart 2/7, f = 31.603501655744047\n",
      "Optimization restart 3/7, f = 40.834121934424395\n",
      "Optimization restart 4/7, f = 31.603501654637522\n",
      "Optimization restart 5/7, f = 31.60350165459197\n"
     ]
    },
    {
     "name": "stderr",
     "output_type": "stream",
     "text": [
      "INFO:GP:initializing Y\n",
      "INFO:GP:initializing inference method\n",
      "INFO:GP:adding kernel and likelihood as parameters\n"
     ]
    },
    {
     "name": "stdout",
     "output_type": "stream",
     "text": [
      "Optimization restart 6/7, f = 31.60350165461876\n",
      "Optimization restart 7/7, f = 31.603501655037128\n",
      "Optimization restart 1/7, f = -2.529952137309696\n",
      "Optimization restart 2/7, f = -2.529952137320935\n",
      "Optimization restart 3/7, f = -2.529952137315206\n",
      "Optimization restart 4/7, f = 12.711477282787039\n",
      "Optimization restart 5/7, f = -2.529952137312284\n",
      "Optimization restart 6/7, f = 12.711477282787074\n",
      "Optimization restart 7/7, f = 12.711477275508226\n"
     ]
    },
    {
     "name": "stderr",
     "output_type": "stream",
     "text": [
      "INFO:kulgap.config:Processed 4 out of 70 cases\n",
      "INFO:GP:initializing Y\n",
      "INFO:GP:initializing inference method\n",
      "INFO:GP:adding kernel and likelihood as parameters\n"
     ]
    },
    {
     "name": "stdout",
     "output_type": "stream",
     "text": [
      "Optimization restart 1/7, f = 15.652420615781082\n",
      "Optimization restart 2/7, f = 15.65242061578066\n",
      "Optimization restart 3/7, f = 28.17682732614771\n",
      "Optimization restart 4/7, f = 28.176827336315366\n",
      "Optimization restart 5/7, f = 28.17682732190144\n"
     ]
    },
    {
     "name": "stderr",
     "output_type": "stream",
     "text": [
      "INFO:GP:initializing Y\n",
      "INFO:GP:initializing inference method\n",
      "INFO:GP:adding kernel and likelihood as parameters\n"
     ]
    },
    {
     "name": "stdout",
     "output_type": "stream",
     "text": [
      "Optimization restart 6/7, f = 15.652420615748468\n",
      "Optimization restart 7/7, f = 15.65242061573538\n",
      "Optimization restart 1/7, f = 25.412401326574646\n",
      "Optimization restart 2/7, f = 34.16374257748357\n",
      "Optimization restart 3/7, f = 34.1637425774876\n",
      "Optimization restart 4/7, f = 25.41240132659519\n",
      "Optimization restart 5/7, f = 25.412401648660975\n",
      "Optimization restart 6/7, f = 25.412401326574702\n",
      "Optimization restart 7/7, f = 25.41240133277865\n"
     ]
    },
    {
     "name": "stderr",
     "output_type": "stream",
     "text": [
      "INFO:kulgap.config:Processed 5 out of 70 cases\n",
      "INFO:GP:initializing Y\n",
      "INFO:GP:initializing inference method\n",
      "INFO:GP:adding kernel and likelihood as parameters\n"
     ]
    },
    {
     "name": "stdout",
     "output_type": "stream",
     "text": [
      "Optimization restart 1/7, f = 16.246128171567626\n",
      "Optimization restart 2/7, f = 28.808349563911705\n",
      "Optimization restart 3/7, f = 16.246128171537848\n"
     ]
    },
    {
     "name": "stderr",
     "output_type": "stream",
     "text": [
      "INFO:GP:initializing Y\n",
      "INFO:GP:initializing inference method\n",
      "INFO:GP:adding kernel and likelihood as parameters\n"
     ]
    },
    {
     "name": "stdout",
     "output_type": "stream",
     "text": [
      "Optimization restart 4/7, f = 16.246128171538146\n",
      "Optimization restart 5/7, f = 28.808349579340174\n",
      "Optimization restart 6/7, f = 16.246128171538693\n",
      "Optimization restart 7/7, f = 16.246128171608877\n",
      "Optimization restart 1/7, f = 25.928570871592157\n",
      "Optimization restart 2/7, f = 25.928570871648056\n",
      "Optimization restart 3/7, f = 34.580949702004915\n",
      "Optimization restart 4/7, f = 25.928570872769154\n",
      "Optimization restart 5/7, f = 25.928570871391656\n",
      "Optimization restart 6/7, f = 34.58094946426792\n",
      "Optimization restart 7/7, f = 25.92857087504386\n"
     ]
    },
    {
     "name": "stderr",
     "output_type": "stream",
     "text": [
      "INFO:kulgap.config:Processed 6 out of 70 cases\n",
      "INFO:GP:initializing Y\n",
      "INFO:GP:initializing inference method\n",
      "INFO:GP:adding kernel and likelihood as parameters\n"
     ]
    },
    {
     "name": "stdout",
     "output_type": "stream",
     "text": [
      "Optimization restart 1/7, f = 16.004540969231822\n",
      "Optimization restart 2/7, f = 16.004540969468156\n",
      "Optimization restart 3/7, f = 16.004540988221493\n",
      "Optimization restart 4/7, f = 16.004540970556963\n"
     ]
    },
    {
     "name": "stderr",
     "output_type": "stream",
     "text": [
      "INFO:GP:initializing Y\n",
      "INFO:GP:initializing inference method\n",
      "INFO:GP:adding kernel and likelihood as parameters\n"
     ]
    },
    {
     "name": "stdout",
     "output_type": "stream",
     "text": [
      "Optimization restart 5/7, f = 28.634054547288486\n",
      "Optimization restart 6/7, f = 28.63408582400284\n",
      "Optimization restart 7/7, f = 16.004540969231854\n",
      "Optimization restart 1/7, f = 24.982910518069215\n",
      "Optimization restart 2/7, f = 24.98291051621097\n",
      "Optimization restart 3/7, f = 24.982910516221224\n",
      "Optimization restart 4/7, f = 24.982910516305004\n",
      "Optimization restart 5/7, f = 33.783667401980594\n",
      "Optimization restart 6/7, f = 33.78366740218155\n",
      "Optimization restart 7/7, f = 33.78366740217782\n"
     ]
    },
    {
     "name": "stderr",
     "output_type": "stream",
     "text": [
      "INFO:kulgap.config:Processed 7 out of 70 cases\n",
      "INFO:GP:initializing Y\n",
      "INFO:GP:initializing inference method\n",
      "INFO:GP:adding kernel and likelihood as parameters\n"
     ]
    },
    {
     "name": "stdout",
     "output_type": "stream",
     "text": [
      "Optimization restart 1/7, f = 14.21621843848028\n",
      "Optimization restart 2/7, f = 26.894253223463338\n",
      "Optimization restart 3/7, f = 14.216218438444551\n",
      "Optimization restart 4/7, f = 14.21621843848321\n",
      "Optimization restart 5/7, f = 26.894253220175436\n",
      "Optimization restart 6/7, f = 14.216218438486749\n",
      "Optimization restart 7/7, f = 14.216218439869074"
     ]
    },
    {
     "name": "stderr",
     "output_type": "stream",
     "text": [
      "INFO:GP:initializing Y\n",
      "INFO:GP:initializing inference method\n",
      "INFO:GP:adding kernel and likelihood as parameters\n"
     ]
    },
    {
     "name": "stdout",
     "output_type": "stream",
     "text": [
      "\n",
      "Optimization restart 1/7, f = 27.160118289335614\n",
      "Optimization restart 2/7, f = 27.160118289286928\n",
      "Optimization restart 3/7, f = 35.62184406434914\n",
      "Optimization restart 4/7, f = 27.160118289264375\n",
      "Optimization restart 5/7, f = 27.160118295147957\n",
      "Optimization restart 6/7, f = 27.160118289530335\n",
      "Optimization restart 7/7, f = 27.160118292193182\n"
     ]
    },
    {
     "name": "stderr",
     "output_type": "stream",
     "text": [
      "INFO:kulgap.config:Processed 8 out of 70 cases\n",
      "INFO:GP:initializing Y\n",
      "INFO:GP:initializing inference method\n",
      "INFO:GP:adding kernel and likelihood as parameters\n"
     ]
    },
    {
     "name": "stdout",
     "output_type": "stream",
     "text": [
      "Optimization restart 1/7, f = 14.408355454001704\n",
      "Optimization restart 2/7, f = 14.408355454008028\n",
      "Optimization restart 3/7, f = 27.111349994171217\n",
      "Optimization restart 4/7, f = 14.408355454002495\n",
      "Optimization restart 5/7, f = 14.408355454009216\n"
     ]
    },
    {
     "name": "stderr",
     "output_type": "stream",
     "text": [
      "INFO:GP:initializing Y\n",
      "INFO:GP:initializing inference method\n",
      "INFO:GP:adding kernel and likelihood as parameters\n"
     ]
    },
    {
     "name": "stdout",
     "output_type": "stream",
     "text": [
      "Optimization restart 6/7, f = 14.408355454045779\n",
      "Optimization restart 7/7, f = 14.408355454048323\n",
      "Optimization restart 1/7, f = 26.427504197529572\n",
      "Optimization restart 2/7, f = 26.427504197517344\n",
      "Optimization restart 3/7, f = 26.427504197759845\n",
      "Optimization restart 4/7, f = 26.427504197163376\n",
      "Optimization restart 5/7, f = 34.994670830988966\n",
      "Optimization restart 6/7, f = 34.99466217277312\n",
      "Optimization restart 7/7, f = 26.42750419725938\n"
     ]
    },
    {
     "name": "stderr",
     "output_type": "stream",
     "text": [
      "INFO:kulgap.config:Processed 9 out of 70 cases\n",
      "INFO:GP:initializing Y\n",
      "INFO:GP:initializing inference method\n",
      "INFO:GP:adding kernel and likelihood as parameters\n"
     ]
    },
    {
     "name": "stdout",
     "output_type": "stream",
     "text": [
      "Optimization restart 1/7, f = 14.788928386456588\n",
      "Optimization restart 2/7, f = 14.788928386491921\n",
      "Optimization restart 3/7, f = 14.788928386698483\n",
      "Optimization restart 4/7, f = 27.56052741796408\n",
      "Optimization restart 5/7, f = 27.560527231792207\n",
      "Optimization restart 6/7, f = 27.560527417964572\n"
     ]
    },
    {
     "name": "stderr",
     "output_type": "stream",
     "text": [
      "INFO:GP:initializing Y\n",
      "INFO:GP:initializing inference method\n",
      "INFO:GP:adding kernel and likelihood as parameters\n"
     ]
    },
    {
     "name": "stdout",
     "output_type": "stream",
     "text": [
      "Optimization restart 7/7, f = 14.788928386464166\n",
      "Optimization restart 1/7, f = 26.84284864554173\n",
      "Optimization restart 2/7, f = 26.842848645532314\n",
      "Optimization restart 3/7, f = 26.88560711920386\n"
     ]
    },
    {
     "name": "stderr",
     "output_type": "stream",
     "text": [
      " /usr/local/lib/python3.6/site-packages/GPy/kern/src/stationary.py:160: RuntimeWarning:overflow encountered in true_divide\n",
      " /usr/local/lib/python3.6/site-packages/GPy/kern/src/rbf.py:38: RuntimeWarning:invalid value encountered in multiply\n"
     ]
    },
    {
     "name": "stdout",
     "output_type": "stream",
     "text": [
      "Optimization restart 4/7, f = 26.842848645968104\n",
      "Optimization restart 5/7, f = 35.32930503278476\n",
      "Optimization restart 6/7, f = 26.84284864553925\n",
      "Optimization restart 7/7, f = 35.32930503270066\n"
     ]
    },
    {
     "name": "stderr",
     "output_type": "stream",
     "text": [
      "INFO:kulgap.config:Processed 10 out of 70 cases\n",
      "INFO:GP:initializing Y\n",
      "INFO:GP:initializing inference method\n",
      "INFO:GP:adding kernel and likelihood as parameters\n",
      "INFO:GP:initializing Y\n",
      "INFO:GP:initializing inference method\n",
      "INFO:GP:adding kernel and likelihood as parameters\n"
     ]
    },
    {
     "name": "stdout",
     "output_type": "stream",
     "text": [
      "Optimization restart 1/7, f = 33.4819212469808\n",
      "Optimization restart 2/7, f = 42.79329375267672\n",
      "Optimization restart 3/7, f = 42.793297574674156\n",
      "Optimization restart 4/7, f = 33.4722140434443\n",
      "Optimization restart 5/7, f = 42.79329788276668\n",
      "Optimization restart 6/7, f = 42.79329788247784\n",
      "Optimization restart 7/7, f = 42.79329788240358\n",
      "Optimization restart 1/7, f = 11.193059767215008\n",
      "Optimization restart 2/7, f = 11.193059768045746\n",
      "Optimization restart 3/7, f = 23.74466963980963\n",
      "Optimization restart 4/7, f = 11.193059767359513\n",
      "Optimization restart 5/7, f = 11.193059767163263\n",
      "Optimization restart 6/7, f = 11.19305976716305\n",
      "Optimization restart 7/7, f = 23.74466964827446\n"
     ]
    },
    {
     "name": "stderr",
     "output_type": "stream",
     "text": [
      "INFO:kulgap.config:Processed 11 out of 70 cases\n",
      "INFO:GP:initializing Y\n",
      "INFO:GP:initializing inference method\n",
      "INFO:GP:adding kernel and likelihood as parameters\n"
     ]
    },
    {
     "name": "stdout",
     "output_type": "stream",
     "text": [
      "Optimization restart 1/7, f = 33.09660331263447\n",
      "Optimization restart 2/7, f = 33.09660332202917\n",
      "Optimization restart 3/7, f = 42.66135684044547\n",
      "Optimization restart 4/7, f = 33.09660332257934\n",
      "Optimization restart 5/7, f = 42.661362403587745\n",
      "Optimization restart 6/7, f = 42.66136240439281\n"
     ]
    },
    {
     "name": "stderr",
     "output_type": "stream",
     "text": [
      "INFO:GP:initializing Y\n",
      "INFO:GP:initializing inference method\n",
      "INFO:GP:adding kernel and likelihood as parameters\n"
     ]
    },
    {
     "name": "stdout",
     "output_type": "stream",
     "text": [
      "Optimization restart 7/7, f = 33.096603312584556\n",
      "Optimization restart 1/7, f = 11.653591580694123\n",
      "Optimization restart 2/7, f = 11.653591580650708\n",
      "Optimization restart 3/7, f = 24.052297108963\n",
      "Optimization restart 4/7, f = 24.05229710903056\n",
      "Optimization restart 5/7, f = 24.05229710924297"
     ]
    },
    {
     "name": "stderr",
     "output_type": "stream",
     "text": [
      "INFO:kulgap.config:Processed 12 out of 70 cases\n",
      "INFO:GP:initializing Y\n",
      "INFO:GP:initializing inference method\n",
      "INFO:GP:adding kernel and likelihood as parameters\n"
     ]
    },
    {
     "name": "stdout",
     "output_type": "stream",
     "text": [
      "\n",
      "Optimization restart 6/7, f = 24.052297108963145\n",
      "Optimization restart 7/7, f = 24.052297108964858\n",
      "Optimization restart 1/7, f = 33.53450418828418\n",
      "Optimization restart 2/7, f = 43.08398666039531\n",
      "Optimization restart 3/7, f = 43.08398665983463\n",
      "Optimization restart 4/7, f = 43.083986658997304\n",
      "Optimization restart 5/7, f = 33.53450419058416\n"
     ]
    },
    {
     "name": "stderr",
     "output_type": "stream",
     "text": [
      "INFO:GP:initializing Y\n",
      "INFO:GP:initializing inference method\n",
      "INFO:GP:adding kernel and likelihood as parameters\n"
     ]
    },
    {
     "name": "stdout",
     "output_type": "stream",
     "text": [
      "Optimization restart 6/7, f = 33.53450418828382\n",
      "Optimization restart 7/7, f = 33.53450418828271\n",
      "Optimization restart 1/7, f = 10.350868309748154\n",
      "Optimization restart 2/7, f = 22.93460312977197\n",
      "Optimization restart 3/7, f = 10.35086830951647\n",
      "Optimization restart 4/7, f = 10.350868309389767\n",
      "Optimization restart 5/7, f = 10.350868309382907\n",
      "Optimization restart 6/7, f = 10.350868309628435\n",
      "Optimization restart 7/7, f = 22.934603129724202\n"
     ]
    },
    {
     "name": "stderr",
     "output_type": "stream",
     "text": [
      "INFO:kulgap.config:Processed 13 out of 70 cases\n",
      "INFO:GP:initializing Y\n",
      "INFO:GP:initializing inference method\n",
      "INFO:GP:adding kernel and likelihood as parameters\n"
     ]
    },
    {
     "name": "stdout",
     "output_type": "stream",
     "text": [
      "Optimization restart 1/7, f = 31.97883101765092\n",
      "Optimization restart 2/7, f = 41.61559127976216\n",
      "Optimization restart 3/7, f = 41.61559112737853\n",
      "Optimization restart 4/7, f = 31.97883101351001\n",
      "Optimization restart 5/7, f = 41.61559127195617\n",
      "Optimization restart 6/7, f = 31.97883101374027"
     ]
    },
    {
     "name": "stderr",
     "output_type": "stream",
     "text": [
      "INFO:GP:initializing Y\n",
      "INFO:GP:initializing inference method\n",
      "INFO:GP:adding kernel and likelihood as parameters\n"
     ]
    },
    {
     "name": "stdout",
     "output_type": "stream",
     "text": [
      "\n",
      "Optimization restart 7/7, f = 41.615590050416884\n",
      "Optimization restart 1/7, f = 13.950601448952112\n",
      "Optimization restart 2/7, f = 13.950601448974927\n",
      "Optimization restart 3/7, f = 13.95060146389601\n",
      "Optimization restart 4/7, f = 13.950601448954608\n",
      "Optimization restart 5/7, f = 25.979936738810018\n",
      "Optimization restart 6/7, f = 13.950601448982205\n",
      "Optimization restart 7/7, f = 13.950601448952082\n"
     ]
    },
    {
     "name": "stderr",
     "output_type": "stream",
     "text": [
      "INFO:kulgap.config:Processed 14 out of 70 cases\n",
      "INFO:GP:initializing Y\n",
      "INFO:GP:initializing inference method\n",
      "INFO:GP:adding kernel and likelihood as parameters\n"
     ]
    },
    {
     "name": "stdout",
     "output_type": "stream",
     "text": [
      "Optimization restart 1/7, f = 32.56012719549813\n",
      "Optimization restart 2/7, f = 42.16353428013767\n",
      "Optimization restart 3/7, f = 32.56012719550374\n",
      "Optimization restart 4/7, f = 42.16354732280324\n",
      "Optimization restart 5/7, f = 32.56012719549778"
     ]
    },
    {
     "name": "stderr",
     "output_type": "stream",
     "text": [
      "INFO:GP:initializing Y\n",
      "INFO:GP:initializing inference method\n",
      "INFO:GP:adding kernel and likelihood as parameters\n"
     ]
    },
    {
     "name": "stdout",
     "output_type": "stream",
     "text": [
      "\n",
      "Optimization restart 6/7, f = 32.560127195500684\n",
      "Optimization restart 7/7, f = 32.5601272179535\n",
      "Optimization restart 1/7, f = 13.446419096721833\n",
      "Optimization restart 2/7, f = 13.44641909887058\n",
      "Optimization restart 3/7, f = 13.446419096178694\n",
      "Optimization restart 4/7, f = 13.446419096179184\n",
      "Optimization restart 5/7, f = 25.52139603688689\n",
      "Optimization restart 6/7, f = 25.521396036904502\n",
      "Optimization restart 7/7, f = 13.44641909636031\n"
     ]
    },
    {
     "name": "stderr",
     "output_type": "stream",
     "text": [
      "INFO:kulgap.config:Processed 15 out of 70 cases\n",
      "INFO:GP:initializing Y\n",
      "INFO:GP:initializing inference method\n",
      "INFO:GP:adding kernel and likelihood as parameters\n"
     ]
    },
    {
     "name": "stdout",
     "output_type": "stream",
     "text": [
      "Optimization restart 1/7, f = 32.301452344357344\n",
      "Optimization restart 2/7, f = 41.969308557723366\n",
      "Optimization restart 3/7, f = 32.30145234434984\n",
      "Optimization restart 4/7, f = 41.96930855774963\n",
      "Optimization restart 5/7, f = 41.96930855771187\n",
      "Optimization restart 6/7, f = 32.3014523443389\n"
     ]
    },
    {
     "name": "stderr",
     "output_type": "stream",
     "text": [
      "INFO:GP:initializing Y\n",
      "INFO:GP:initializing inference method\n",
      "INFO:GP:adding kernel and likelihood as parameters\n"
     ]
    },
    {
     "name": "stdout",
     "output_type": "stream",
     "text": [
      "Optimization restart 7/7, f = 32.30145234471387\n",
      "Optimization restart 1/7, f = 13.527199866675497\n",
      "Optimization restart 2/7, f = 25.534089110145665\n",
      "Optimization restart 3/7, f = 25.534088819939946\n",
      "Optimization restart 4/7, f = 25.53409061034442\n",
      "Optimization restart 5/7, f = 13.527199866687473\n",
      "Optimization restart 6/7, f = 25.534090610337202\n",
      "Optimization restart 7/7, f = 25.53409061033116\n"
     ]
    },
    {
     "name": "stderr",
     "output_type": "stream",
     "text": [
      "INFO:kulgap.config:Processed 16 out of 70 cases\n",
      "INFO:GP:initializing Y\n",
      "INFO:GP:initializing inference method\n",
      "INFO:GP:adding kernel and likelihood as parameters\n"
     ]
    },
    {
     "name": "stdout",
     "output_type": "stream",
     "text": [
      "Optimization restart 1/7, f = 2.2739910660468503\n",
      "Optimization restart 2/7, f = 16.97042160107189\n",
      "Optimization restart 3/7, f = 2.2739910660474276\n",
      "Optimization restart 4/7, f = 2.2739910660475147\n",
      "Optimization restart 5/7, f = 16.970421591586998\n",
      "Optimization restart 6/7, f = 16.970420735993237\n"
     ]
    },
    {
     "name": "stderr",
     "output_type": "stream",
     "text": [
      "INFO:GP:initializing Y\n",
      "INFO:GP:initializing inference method\n",
      "INFO:GP:adding kernel and likelihood as parameters\n"
     ]
    },
    {
     "name": "stdout",
     "output_type": "stream",
     "text": [
      "Optimization restart 7/7, f = 16.970421161925405\n",
      "Optimization restart 1/7, f = 24.0104511155673\n",
      "Optimization restart 2/7, f = 23.631017677984524\n",
      "Optimization restart 3/7, f = 32.32694424432367\n",
      "Optimization restart 4/7, f = 24.010451115590946"
     ]
    },
    {
     "name": "stderr",
     "output_type": "stream",
     "text": [
      "INFO:kulgap.config:Processed 17 out of 70 cases\n",
      "INFO:GP:initializing Y\n",
      "INFO:GP:initializing inference method\n",
      "INFO:GP:adding kernel and likelihood as parameters\n"
     ]
    },
    {
     "name": "stdout",
     "output_type": "stream",
     "text": [
      "\n",
      "Optimization restart 5/7, f = 32.32694368445915\n",
      "Optimization restart 6/7, f = 24.010451118724927\n",
      "Optimization restart 7/7, f = 32.32694424434213\n",
      "Optimization restart 1/7, f = 26.56490569704311\n",
      "Optimization restart 2/7, f = 12.955369570466388\n",
      "Optimization restart 3/7, f = 12.955369570181153\n"
     ]
    },
    {
     "name": "stderr",
     "output_type": "stream",
     "text": [
      " /usr/local/lib/python3.6/site-packages/paramz/transformations.py:109: RuntimeWarning:overflow encountered in expm1\n",
      "INFO:GP:initializing Y\n",
      "INFO:GP:initializing inference method\n",
      "INFO:GP:adding kernel and likelihood as parameters\n"
     ]
    },
    {
     "name": "stdout",
     "output_type": "stream",
     "text": [
      "Optimization restart 4/7, f = -2.297890446032813\n",
      "Optimization restart 5/7, f = 12.955369570177645\n",
      "Optimization restart 6/7, f = -2.297890446019899\n",
      "Optimization restart 7/7, f = -2.2978904460299656\n",
      "Optimization restart 1/7, f = 22.059699379652358\n",
      "Optimization restart 2/7, f = 31.04107890289385\n",
      "Optimization restart 3/7, f = 22.059699768850948\n",
      "Optimization restart 4/7, f = 22.05969917328891\n",
      "Optimization restart 5/7, f = 31.04107906746215\n",
      "Optimization restart 6/7, f = 31.041078551188697\n"
     ]
    },
    {
     "name": "stderr",
     "output_type": "stream",
     "text": [
      "INFO:kulgap.config:Processed 18 out of 70 cases\n",
      "INFO:GP:initializing Y\n",
      "INFO:GP:initializing inference method\n",
      "INFO:GP:adding kernel and likelihood as parameters\n"
     ]
    },
    {
     "name": "stdout",
     "output_type": "stream",
     "text": [
      "Optimization restart 7/7, f = 22.059930222619528\n",
      "Optimization restart 1/7, f = 26.820971481411192\n",
      "Optimization restart 2/7, f = 17.118119640450338\n",
      "Optimization restart 3/7, f = 17.118120837140722\n",
      "Optimization restart 4/7, f = 17.118120655098597\n",
      "Optimization restart 5/7, f = 17.118119368406518\n",
      "Optimization restart 6/7, f = 2.0742507799636893"
     ]
    },
    {
     "name": "stderr",
     "output_type": "stream",
     "text": [
      "INFO:GP:initializing Y\n",
      "INFO:GP:initializing inference method\n",
      "INFO:GP:adding kernel and likelihood as parameters\n"
     ]
    },
    {
     "name": "stdout",
     "output_type": "stream",
     "text": [
      "\n",
      "Optimization restart 7/7, f = 2.074250779812143\n",
      "Optimization restart 1/7, f = 23.403781967704326\n",
      "Optimization restart 2/7, f = 23.403781968823345\n",
      "Optimization restart 3/7, f = 31.73637298313942\n",
      "Optimization restart 4/7, f = 23.403781967800384\n",
      "Optimization restart 5/7, f = 31.73637298318735\n",
      "Optimization restart 6/7, f = 31.73637298317213\n"
     ]
    },
    {
     "name": "stderr",
     "output_type": "stream",
     "text": [
      "INFO:kulgap.config:Processed 19 out of 70 cases\n",
      "INFO:GP:initializing Y\n",
      "INFO:GP:initializing inference method\n",
      "INFO:GP:adding kernel and likelihood as parameters\n"
     ]
    },
    {
     "name": "stdout",
     "output_type": "stream",
     "text": [
      "Optimization restart 7/7, f = 23.403781967727582\n",
      "Optimization restart 1/7, f = 0.5903924786093722\n",
      "Optimization restart 2/7, f = 0.5903924786798527\n"
     ]
    },
    {
     "name": "stderr",
     "output_type": "stream",
     "text": [
      "INFO:GP:initializing Y\n",
      "INFO:GP:initializing inference method\n",
      "INFO:GP:adding kernel and likelihood as parameters\n"
     ]
    },
    {
     "name": "stdout",
     "output_type": "stream",
     "text": [
      "Optimization restart 3/7, f = 0.5903924785933619\n",
      "Optimization restart 4/7, f = 0.5903924785887185\n",
      "Optimization restart 5/7, f = 0.5903924788651498\n",
      "Optimization restart 6/7, f = 0.5903924786444339\n",
      "Optimization restart 7/7, f = 15.604832056887343\n",
      "Optimization restart 1/7, f = 25.355502603215008\n",
      "Optimization restart 2/7, f = 33.45321753701268\n",
      "Optimization restart 3/7, f = 33.453211740843784\n",
      "Optimization restart 4/7, f = 25.00727420378967\n",
      "Optimization restart 5/7, f = 25.355502602112587\n",
      "Optimization restart 6/7, f = 25.355502602118857\n",
      "Optimization restart 7/7, f = 33.45321764485904\n"
     ]
    },
    {
     "name": "stderr",
     "output_type": "stream",
     "text": [
      "INFO:kulgap.config:Processed 20 out of 70 cases\n",
      "INFO:GP:initializing Y\n",
      "INFO:GP:initializing inference method\n",
      "INFO:GP:adding kernel and likelihood as parameters\n"
     ]
    },
    {
     "name": "stdout",
     "output_type": "stream",
     "text": [
      "Optimization restart 1/7, f = 31.999097960027044\n",
      "Optimization restart 2/7, f = 31.59045515217231\n",
      "Optimization restart 3/7, f = 41.03115092791589\n",
      "Optimization restart 4/7, f = 41.03115109180791\n",
      "Optimization restart 5/7, f = 31.590455152411145\n"
     ]
    },
    {
     "name": "stderr",
     "output_type": "stream",
     "text": [
      "INFO:GP:initializing Y\n",
      "INFO:GP:initializing inference method\n",
      "INFO:GP:adding kernel and likelihood as parameters\n"
     ]
    },
    {
     "name": "stdout",
     "output_type": "stream",
     "text": [
      "Optimization restart 6/7, f = 31.590455152962086\n",
      "Optimization restart 7/7, f = 41.03115109180821\n",
      "Optimization restart 1/7, f = 4.506678260431276\n",
      "Optimization restart 2/7, f = 18.658045027452523\n",
      "Optimization restart 3/7, f = 4.5066782620902615\n",
      "Optimization restart 4/7, f = 4.506678260323348\n",
      "Optimization restart 5/7, f = 18.65803972725921\n",
      "Optimization restart 6/7, f = 4.506678260299886\n",
      "Optimization restart 7/7, f = 4.506678260350682\n"
     ]
    },
    {
     "name": "stderr",
     "output_type": "stream",
     "text": [
      "INFO:kulgap.config:Processed 21 out of 70 cases\n",
      "INFO:GP:initializing Y\n",
      "INFO:GP:initializing inference method\n",
      "INFO:GP:adding kernel and likelihood as parameters\n"
     ]
    },
    {
     "name": "stdout",
     "output_type": "stream",
     "text": [
      "Optimization restart 1/7, f = 31.10307180997595\n",
      "Optimization restart 2/7, f = 40.64266447726125\n",
      "Optimization restart 3/7, f = 31.10307180938366\n",
      "Optimization restart 4/7, f = 40.64266880003952\n",
      "Optimization restart 5/7, f = 31.10307180937725\n",
      "Optimization restart 6/7, f = 40.64266880003909"
     ]
    },
    {
     "name": "stderr",
     "output_type": "stream",
     "text": [
      "INFO:GP:initializing Y\n",
      "INFO:GP:initializing inference method\n",
      "INFO:GP:adding kernel and likelihood as parameters\n"
     ]
    },
    {
     "name": "stdout",
     "output_type": "stream",
     "text": [
      "\n",
      "Optimization restart 7/7, f = 40.642668800055944\n",
      "Optimization restart 1/7, f = 1.3680555027129024\n",
      "Optimization restart 2/7, f = 1.3680555029321297\n",
      "Optimization restart 3/7, f = 15.758336211173848\n",
      "Optimization restart 4/7, f = 15.758336203711908\n",
      "Optimization restart 5/7, f = 1.3680555027134318\n",
      "Optimization restart 6/7, f = 1.3680555027122558\n",
      "Optimization restart 7/7, f = 1.368055502712215\n"
     ]
    },
    {
     "name": "stderr",
     "output_type": "stream",
     "text": [
      "INFO:kulgap.config:Processed 22 out of 70 cases\n",
      "INFO:GP:initializing Y\n",
      "INFO:GP:initializing inference method\n",
      "INFO:GP:adding kernel and likelihood as parameters\n"
     ]
    },
    {
     "name": "stdout",
     "output_type": "stream",
     "text": [
      "Optimization restart 1/7, f = 31.997859371059135\n",
      "Optimization restart 2/7, f = 31.997859370612304\n",
      "Optimization restart 3/7, f = 31.997859370271634\n",
      "Optimization restart 4/7, f = 31.997859374990064\n",
      "Optimization restart 5/7, f = 31.997859370361258\n"
     ]
    },
    {
     "name": "stderr",
     "output_type": "stream",
     "text": [
      "INFO:GP:initializing Y\n",
      "INFO:GP:initializing inference method\n",
      "INFO:GP:adding kernel and likelihood as parameters\n"
     ]
    },
    {
     "name": "stdout",
     "output_type": "stream",
     "text": [
      "Optimization restart 6/7, f = 41.45686060419858\n",
      "Optimization restart 7/7, f = 31.99785937027229\n",
      "Optimization restart 1/7, f = 4.347971944869711\n",
      "Optimization restart 2/7, f = 18.212788316621733\n",
      "Optimization restart 3/7, f = 4.347971944883822\n",
      "Optimization restart 4/7, f = 4.347971944876946\n",
      "Optimization restart 5/7, f = 4.347971944865954\n",
      "Optimization restart 6/7, f = 4.347971944866281\n",
      "Optimization restart 7/7, f = 4.347971944875432\n"
     ]
    },
    {
     "name": "stderr",
     "output_type": "stream",
     "text": [
      "INFO:kulgap.config:Processed 23 out of 70 cases\n",
      "INFO:GP:initializing Y\n",
      "INFO:GP:initializing inference method\n",
      "INFO:GP:adding kernel and likelihood as parameters\n"
     ]
    },
    {
     "name": "stdout",
     "output_type": "stream",
     "text": [
      "Optimization restart 1/7, f = 29.27978716633929\n",
      "Optimization restart 2/7, f = 38.98677643388082\n",
      "Optimization restart 3/7, f = 29.279787164311962\n",
      "Optimization restart 4/7, f = 38.98677093193933\n",
      "Optimization restart 5/7, f = 29.279787164273888\n"
     ]
    },
    {
     "name": "stderr",
     "output_type": "stream",
     "text": [
      "INFO:GP:initializing Y\n",
      "INFO:GP:initializing inference method\n",
      "INFO:GP:adding kernel and likelihood as parameters\n"
     ]
    },
    {
     "name": "stdout",
     "output_type": "stream",
     "text": [
      "Optimization restart 6/7, f = 29.279787164228367\n",
      "Optimization restart 7/7, f = 29.279787164359902\n",
      "Optimization restart 1/7, f = 0.9710370924170668\n",
      "Optimization restart 2/7, f = 15.68429283430507\n",
      "Optimization restart 3/7, f = 0.9710370924139919\n",
      "Optimization restart 4/7, f = 0.9710370924305636\n",
      "Optimization restart 5/7, f = 15.684294120058244\n",
      "Optimization restart 6/7, f = 0.9710370924139866\n",
      "Optimization restart 7/7, f = 0.9710370924493876\n"
     ]
    },
    {
     "name": "stderr",
     "output_type": "stream",
     "text": [
      "INFO:kulgap.config:Processed 24 out of 70 cases\n",
      "INFO:GP:initializing Y\n",
      "INFO:GP:initializing inference method\n",
      "INFO:GP:adding kernel and likelihood as parameters\n"
     ]
    },
    {
     "name": "stdout",
     "output_type": "stream",
     "text": [
      "Optimization restart 1/7, f = 30.415675728097554\n",
      "Optimization restart 2/7, f = 30.41567573115753\n",
      "Optimization restart 3/7, f = 40.014258411787424\n",
      "Optimization restart 4/7, f = 30.415675727685407\n",
      "Optimization restart 5/7, f = 40.01425846460779\n",
      "Optimization restart 6/7, f = 30.41567572767149\n"
     ]
    },
    {
     "name": "stderr",
     "output_type": "stream",
     "text": [
      "INFO:GP:initializing Y\n",
      "INFO:GP:initializing inference method\n",
      "INFO:GP:adding kernel and likelihood as parameters\n"
     ]
    },
    {
     "name": "stdout",
     "output_type": "stream",
     "text": [
      "Optimization restart 7/7, f = 30.415675727403553\n",
      "Optimization restart 1/7, f = 5.550912144722119\n",
      "Optimization restart 2/7, f = 5.550912144632658\n",
      "Optimization restart 3/7, f = 5.550912144628766\n",
      "Optimization restart 4/7, f = 19.454167066676533\n",
      "Optimization restart 5/7, f = 5.550912144556289\n",
      "Optimization restart 6/7, f = 5.550912144659119\n",
      "Optimization restart 7/7, f = 5.550912144556333\n"
     ]
    },
    {
     "name": "stderr",
     "output_type": "stream",
     "text": [
      "INFO:kulgap.config:Processed 25 out of 70 cases\n",
      "INFO:GP:initializing Y\n",
      "INFO:GP:initializing inference method\n",
      "INFO:GP:adding kernel and likelihood as parameters\n"
     ]
    },
    {
     "name": "stdout",
     "output_type": "stream",
     "text": [
      "Optimization restart 1/7, f = 29.809935429852658\n",
      "Optimization restart 2/7, f = 29.809935431697895\n",
      "Optimization restart 3/7, f = 29.809935428934452\n",
      "Optimization restart 4/7, f = 29.80993542894894\n"
     ]
    },
    {
     "name": "stderr",
     "output_type": "stream",
     "text": [
      "INFO:GP:initializing Y\n",
      "INFO:GP:initializing inference method\n",
      "INFO:GP:adding kernel and likelihood as parameters\n"
     ]
    },
    {
     "name": "stdout",
     "output_type": "stream",
     "text": [
      "Optimization restart 5/7, f = 29.809935428934438\n",
      "Optimization restart 6/7, f = 39.529420684943055\n",
      "Optimization restart 7/7, f = 29.80993542893428\n",
      "Optimization restart 1/7, f = 1.5788069268099356\n",
      "Optimization restart 2/7, f = 1.5788069268084648\n",
      "Optimization restart 3/7, f = 1.5788069291464684\n",
      "Optimization restart 4/7, f = 15.798410044520384\n",
      "Optimization restart 5/7, f = 15.798410044482722\n",
      "Optimization restart 6/7, f = 1.5788069268645373\n",
      "Optimization restart 7/7, f = 1.5788069268903957\n"
     ]
    },
    {
     "name": "stderr",
     "output_type": "stream",
     "text": [
      "INFO:kulgap.config:Processed 26 out of 70 cases\n",
      "INFO:GP:initializing Y\n",
      "INFO:GP:initializing inference method\n",
      "INFO:GP:adding kernel and likelihood as parameters\n",
      "INFO:GP:initializing Y\n",
      "INFO:GP:initializing inference method\n",
      "INFO:GP:adding kernel and likelihood as parameters\n"
     ]
    },
    {
     "name": "stdout",
     "output_type": "stream",
     "text": [
      "Optimization restart 1/7, f = 13.415989278716731\n",
      "Optimization restart 2/7, f = 26.647415992591007\n",
      "Optimization restart 3/7, f = 13.41598927830768\n",
      "Optimization restart 4/7, f = 26.647415992600852\n",
      "Optimization restart 5/7, f = 26.647415992594862\n",
      "Optimization restart 6/7, f = 13.415989278721\n",
      "Optimization restart 7/7, f = 26.647410031490683\n",
      "Optimization restart 1/7, f = 27.077620237494564\n",
      "Optimization restart 2/7, f = 26.97314976211566\n",
      "Optimization restart 3/7, f = 27.077620236509958\n",
      "Optimization restart 4/7, f = 27.077620236390665\n",
      "Optimization restart 5/7, f = 35.282763416853825\n",
      "Optimization restart 6/7, f = 35.282763392967425\n",
      "Optimization restart 7/7, f = 27.077620236409096"
     ]
    },
    {
     "name": "stderr",
     "output_type": "stream",
     "text": [
      "INFO:kulgap.config:Processed 27 out of 70 cases\n",
      "INFO:GP:initializing Y\n",
      "INFO:GP:initializing inference method\n",
      "INFO:GP:adding kernel and likelihood as parameters\n"
     ]
    },
    {
     "name": "stdout",
     "output_type": "stream",
     "text": [
      "\n",
      "Optimization restart 1/7, f = 13.73549987036435\n",
      "Optimization restart 2/7, f = 13.735499870613966\n",
      "Optimization restart 3/7, f = 13.735499870372742\n",
      "Optimization restart 4/7, f = 13.735499870363272\n"
     ]
    },
    {
     "name": "stderr",
     "output_type": "stream",
     "text": [
      "INFO:GP:initializing Y\n",
      "INFO:GP:initializing inference method\n",
      "INFO:GP:adding kernel and likelihood as parameters\n"
     ]
    },
    {
     "name": "stdout",
     "output_type": "stream",
     "text": [
      "Optimization restart 5/7, f = 13.73549987118477\n",
      "Optimization restart 6/7, f = 26.988030978288357\n",
      "Optimization restart 7/7, f = 13.73549987037111\n",
      "Optimization restart 1/7, f = 26.197571532937914\n",
      "Optimization restart 2/7, f = 34.65984307519911\n",
      "Optimization restart 3/7, f = 34.659842667352144\n",
      "Optimization restart 4/7, f = 34.65984307548902\n",
      "Optimization restart 5/7, f = 26.19752503836512\n",
      "Optimization restart 6/7, f = 26.19753588163218\n",
      "Optimization restart 7/7, f = 34.6598430749446\n"
     ]
    },
    {
     "name": "stderr",
     "output_type": "stream",
     "text": [
      "INFO:kulgap.config:Processed 28 out of 70 cases\n",
      "INFO:GP:initializing Y\n",
      "INFO:GP:initializing inference method\n",
      "INFO:GP:adding kernel and likelihood as parameters\n"
     ]
    },
    {
     "name": "stdout",
     "output_type": "stream",
     "text": [
      "Optimization restart 1/7, f = 26.022143971450284\n",
      "Optimization restart 2/7, f = 13.884058203340931\n",
      "Optimization restart 3/7, f = 13.884058203073774\n",
      "Optimization restart 4/7, f = 13.88405820307389\n"
     ]
    },
    {
     "name": "stderr",
     "output_type": "stream",
     "text": [
      "INFO:GP:initializing Y\n",
      "INFO:GP:initializing inference method\n",
      "INFO:GP:adding kernel and likelihood as parameters\n"
     ]
    },
    {
     "name": "stdout",
     "output_type": "stream",
     "text": [
      "Optimization restart 5/7, f = 13.884058203109067\n",
      "Optimization restart 6/7, f = 13.884058204215595\n",
      "Optimization restart 7/7, f = 27.177242553189238\n",
      "Optimization restart 1/7, f = 26.75339916515904\n",
      "Optimization restart 2/7, f = 34.943990432585295\n",
      "Optimization restart 3/7, f = 34.943990432587114\n",
      "Optimization restart 4/7, f = 26.753399158919958\n",
      "Optimization restart 5/7, f = 26.753399168240314\n",
      "Optimization restart 6/7, f = 26.599681806836692\n",
      "Optimization restart 7/7, f = 34.94399043258382\n"
     ]
    },
    {
     "name": "stderr",
     "output_type": "stream",
     "text": [
      "INFO:kulgap.config:Processed 29 out of 70 cases\n",
      "INFO:GP:initializing Y\n",
      "INFO:GP:initializing inference method\n",
      "INFO:GP:adding kernel and likelihood as parameters\n"
     ]
    },
    {
     "name": "stdout",
     "output_type": "stream",
     "text": [
      "Optimization restart 1/7, f = 24.19177886704236\n",
      "Optimization restart 2/7, f = 11.028545098732998\n",
      "Optimization restart 3/7, f = 24.64922955629779\n",
      "Optimization restart 4/7, f = 11.0285450987386\n",
      "Optimization restart 5/7, f = 24.64922955742331\n"
     ]
    },
    {
     "name": "stderr",
     "output_type": "stream",
     "text": [
      "INFO:GP:initializing Y\n",
      "INFO:GP:initializing inference method\n",
      "INFO:GP:adding kernel and likelihood as parameters\n"
     ]
    },
    {
     "name": "stdout",
     "output_type": "stream",
     "text": [
      "Optimization restart 6/7, f = 24.64922955799699\n",
      "Optimization restart 7/7, f = 24.649229557610187\n",
      "Optimization restart 1/7, f = 27.800616637346018\n",
      "Optimization restart 2/7, f = 27.800616630562637\n",
      "Optimization restart 3/7, f = 35.90756682358788\n",
      "Optimization restart 4/7, f = 27.738487330539165\n",
      "Optimization restart 5/7, f = 35.90756682358811\n",
      "Optimization restart 6/7, f = 35.907566823588766\n",
      "Optimization restart 7/7, f = 35.907566677580505\n"
     ]
    },
    {
     "name": "stderr",
     "output_type": "stream",
     "text": [
      "INFO:kulgap.config:Processed 30 out of 70 cases\n",
      "INFO:GP:initializing Y\n",
      "INFO:GP:initializing inference method\n",
      "INFO:GP:adding kernel and likelihood as parameters\n"
     ]
    },
    {
     "name": "stdout",
     "output_type": "stream",
     "text": [
      "Optimization restart 1/7, f = 31.99247362112182\n",
      "Optimization restart 2/7, f = 31.992473621070374\n",
      "Optimization restart 3/7, f = 41.857543773541366\n",
      "Optimization restart 4/7, f = 31.992473621077714\n"
     ]
    },
    {
     "name": "stderr",
     "output_type": "stream",
     "text": [
      "INFO:GP:initializing Y\n",
      "INFO:GP:initializing inference method\n",
      "INFO:GP:adding kernel and likelihood as parameters\n"
     ]
    },
    {
     "name": "stdout",
     "output_type": "stream",
     "text": [
      "Optimization restart 5/7, f = 31.992473621019915\n",
      "Optimization restart 6/7, f = 41.857543773495124\n",
      "Optimization restart 7/7, f = 41.85754377349173\n",
      "Optimization restart 1/7, f = 14.081411180634182\n",
      "Optimization restart 2/7, f = 25.62294498563879\n",
      "Optimization restart 3/7, f = 25.622944993005937\n",
      "Optimization restart 4/7, f = 14.08141118063312\n",
      "Optimization restart 5/7, f = 14.081411180633092\n",
      "Optimization restart 6/7, f = 14.081411180729459\n",
      "Optimization restart 7/7, f = 14.081411180717872\n"
     ]
    },
    {
     "name": "stderr",
     "output_type": "stream",
     "text": [
      "INFO:kulgap.config:Processed 31 out of 70 cases\n",
      "INFO:GP:initializing Y\n",
      "INFO:GP:initializing inference method\n",
      "INFO:GP:adding kernel and likelihood as parameters\n"
     ]
    },
    {
     "name": "stdout",
     "output_type": "stream",
     "text": [
      "Optimization restart 1/7, f = 32.599590138378794\n",
      "Optimization restart 2/7, f = 32.59958997367678\n",
      "Optimization restart 3/7, f = 32.599589973699466\n",
      "Optimization restart 4/7, f = 42.42188240931721\n",
      "Optimization restart 5/7, f = 32.93890412159478\n",
      "Optimization restart 6/7, f = 32.59958997417143\n"
     ]
    },
    {
     "name": "stderr",
     "output_type": "stream",
     "text": [
      "INFO:GP:initializing Y\n",
      "INFO:GP:initializing inference method\n",
      "INFO:GP:adding kernel and likelihood as parameters\n"
     ]
    },
    {
     "name": "stdout",
     "output_type": "stream",
     "text": [
      "Optimization restart 7/7, f = 32.59958997369115\n",
      "Optimization restart 1/7, f = 13.706365775472605\n",
      "Optimization restart 2/7, f = 25.271135349339797\n",
      "Optimization restart 3/7, f = 13.706365775645397\n",
      "Optimization restart 4/7, f = 25.271133853530994"
     ]
    },
    {
     "name": "stderr",
     "output_type": "stream",
     "text": [
      "INFO:kulgap.config:Processed 32 out of 70 cases\n",
      "INFO:GP:initializing Y\n",
      "INFO:GP:initializing inference method\n",
      "INFO:GP:adding kernel and likelihood as parameters\n"
     ]
    },
    {
     "name": "stdout",
     "output_type": "stream",
     "text": [
      "\n",
      "Optimization restart 5/7, f = 13.706365775985558\n",
      "Optimization restart 6/7, f = 25.271134624220082\n",
      "Optimization restart 7/7, f = 25.27113534933867\n",
      "Optimization restart 1/7, f = 32.28907102753433\n",
      "Optimization restart 2/7, f = 32.66658932071921\n",
      "Optimization restart 3/7, f = 42.17083728665848"
     ]
    },
    {
     "name": "stderr",
     "output_type": "stream",
     "text": [
      "INFO:GP:initializing Y\n",
      "INFO:GP:initializing inference method\n",
      "INFO:GP:adding kernel and likelihood as parameters\n"
     ]
    },
    {
     "name": "stdout",
     "output_type": "stream",
     "text": [
      "\n",
      "Optimization restart 4/7, f = 32.289071027482265\n",
      "Optimization restart 5/7, f = 42.170837286659115\n",
      "Optimization restart 6/7, f = 42.17083728344072\n",
      "Optimization restart 7/7, f = 32.28907102748181\n",
      "Optimization restart 1/7, f = 13.506746395606813\n",
      "Optimization restart 2/7, f = 13.506746395927076\n",
      "Optimization restart 3/7, f = 13.506746395597396\n",
      "Optimization restart 4/7, f = 24.991601709827012\n",
      "Optimization restart 5/7, f = 13.506746395599317\n",
      "Optimization restart 6/7, f = 24.991601710395614\n",
      "Optimization restart 7/7, f = 13.506746396680686\n"
     ]
    },
    {
     "name": "stderr",
     "output_type": "stream",
     "text": [
      "INFO:kulgap.config:Processed 33 out of 70 cases\n",
      "INFO:GP:initializing Y\n",
      "INFO:GP:initializing inference method\n",
      "INFO:GP:adding kernel and likelihood as parameters\n"
     ]
    },
    {
     "name": "stdout",
     "output_type": "stream",
     "text": [
      "Optimization restart 1/7, f = 31.01825791654091\n",
      "Optimization restart 2/7, f = 41.027839293944915\n",
      "Optimization restart 3/7, f = 31.018257838085546\n",
      "Optimization restart 4/7, f = 41.02783929454674\n",
      "Optimization restart 5/7, f = 31.01825783803673\n",
      "Optimization restart 6/7, f = 31.01825783801494\n"
     ]
    },
    {
     "name": "stderr",
     "output_type": "stream",
     "text": [
      "INFO:GP:initializing Y\n",
      "INFO:GP:initializing inference method\n",
      "INFO:GP:adding kernel and likelihood as parameters\n"
     ]
    },
    {
     "name": "stdout",
     "output_type": "stream",
     "text": [
      "Optimization restart 7/7, f = 41.027839293914425\n",
      "Optimization restart 1/7, f = 15.162241457288731\n",
      "Optimization restart 2/7, f = 15.162241457300379\n",
      "Optimization restart 3/7, f = 15.16224145772191\n",
      "Optimization restart 4/7, f = 15.162241457288665\n",
      "Optimization restart 5/7, f = 15.162241457291815\n",
      "Optimization restart 6/7, f = 26.53011356445684\n",
      "Optimization restart 7/7, f = 15.162241457287992\n"
     ]
    },
    {
     "name": "stderr",
     "output_type": "stream",
     "text": [
      "INFO:kulgap.config:Processed 34 out of 70 cases\n",
      "INFO:GP:initializing Y\n",
      "INFO:GP:initializing inference method\n",
      "INFO:GP:adding kernel and likelihood as parameters\n"
     ]
    },
    {
     "name": "stdout",
     "output_type": "stream",
     "text": [
      "Optimization restart 1/7, f = -9.145489191468181\n",
      "Optimization restart 2/7, f = -9.145489191495608\n",
      "Optimization restart 3/7, f = -9.145489191504844\n",
      "Optimization restart 4/7, f = -9.145489191508258\n",
      "Optimization restart 5/7, f = -9.14548919135246\n"
     ]
    },
    {
     "name": "stderr",
     "output_type": "stream",
     "text": [
      "INFO:GP:initializing Y\n",
      "INFO:GP:initializing inference method\n",
      "INFO:GP:adding kernel and likelihood as parameters\n"
     ]
    },
    {
     "name": "stdout",
     "output_type": "stream",
     "text": [
      "Optimization restart 6/7, f = -9.145489191511986\n",
      "Optimization restart 7/7, f = -9.145489191512485\n",
      "Optimization restart 1/7, f = 24.679507543513644\n",
      "Optimization restart 2/7, f = 24.67950752726356\n",
      "Optimization restart 3/7, f = 32.576114933606846\n",
      "Optimization restart 4/7, f = 24.67950752740814\n",
      "Optimization restart 5/7, f = 24.679507527119547\n",
      "Optimization restart 6/7, f = 24.679507527120812\n",
      "Optimization restart 7/7, f = 32.57611537622162"
     ]
    },
    {
     "name": "stderr",
     "output_type": "stream",
     "text": [
      "INFO:kulgap.config:Calculating the KL Divergence between treatment and control\n",
      "INFO:kulgap.config:Calculated KL divergence is: 28.260228\n",
      "INFO:kulgap.config:The calculated p value for treatment is: 0.027778.\n"
     ]
    },
    {
     "name": "stdout",
     "output_type": "stream",
     "text": [
      "\n"
     ]
    },
    {
     "data": {
      "text/plain": [
       "0.027777777777777776"
      ]
     },
     "execution_count": 9,
     "metadata": {},
     "output_type": "execute_result"
    }
   ],
   "source": [
    "treatment_metrics.kl_p_value(control_metrics)"
   ]
  },
  {
   "cell_type": "markdown",
   "metadata": {},
   "source": [
    "### Angles"
   ]
  },
  {
   "cell_type": "markdown",
   "metadata": {},
   "source": [
    "A line of best fit, fit using ordinary least squares."
   ]
  },
  {
   "cell_type": "markdown",
   "metadata": {},
   "source": [
    "### AUC"
   ]
  },
  {
   "cell_type": "markdown",
   "metadata": {},
   "source": [
    "Area under the curve metric"
   ]
  },
  {
   "cell_type": "markdown",
   "metadata": {},
   "source": [
    "### MRECIST (Modified Response Evaluation Criteria in Solid Tumors)"
   ]
  },
  {
   "cell_type": "markdown",
   "metadata": {},
   "source": [
    "Because this package was built for comparing tumour growths in patient-derived xenografts, we natively provide this metric."
   ]
  },
  {
   "cell_type": "markdown",
   "metadata": {},
   "source": [
    "### Credible Intervals"
   ]
  },
  {
   "cell_type": "markdown",
   "metadata": {},
   "source": [
    "And all of the derivatives from credible intervals..."
   ]
  },
  {
   "cell_type": "markdown",
   "metadata": {},
   "source": [
    "### GP Derivatives"
   ]
  },
  {
   "cell_type": "code",
   "execution_count": null,
   "metadata": {},
   "outputs": [],
   "source": []
  }
 ],
 "metadata": {
  "kernelspec": {
   "display_name": "Python 3",
   "language": "python",
   "name": "python3"
  },
  "language_info": {
   "codemirror_mode": {
    "name": "ipython",
    "version": 3
   },
   "file_extension": ".py",
   "mimetype": "text/x-python",
   "name": "python",
   "nbconvert_exporter": "python",
   "pygments_lexer": "ipython3",
   "version": "3.6.5"
  }
 },
 "nbformat": 4,
 "nbformat_minor": 2
}
