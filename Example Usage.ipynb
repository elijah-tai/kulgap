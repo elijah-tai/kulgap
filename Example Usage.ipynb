{
    "cells": [
        {
            "cell_type": "markdown",
            "metadata": {},
            "source": [
                "# Purpose"
            ]
        },
        {
            "cell_type": "markdown",
            "metadata": {},
            "source": [
                "Of this notebook is to demonstrate some common usages of the `kulgap` package."
            ]
        },
        {
            "cell_type": "markdown",
            "metadata": {},
            "source": [
                "### Define a Collection"
            ]
        },
        {
            "cell_type": "markdown",
            "metadata": {},
            "source": [
                "A collection is essentially is list of all of your timeseries data structured like:"
            ]
        },
        {
            "cell_type": "code",
            "execution_count": 1,
            "metadata": {},
            "outputs": [],
            "source": [
                "import numpy as np\n",
                "\n",
                "# import some data\n",
                "control_obs_times = np.array([0, 4, 7, 11, 14, 18, 21])\n",
                "control_obs_seqs = np.array(\n",
                "    [\n",
                "        [186.98, 368.7, 488.45, 782.15, 924.55, 970.16, 1081.03],\n",
                "        [267.6, 495.77, 628.39, 892.86, 984.88, 1096.8, 1314.03],\n",
                "        [164.48, 265.19, 321.11, 429.37, 554.81, 602.29, 801.5],\n",
                "        [201.21, 363.26, 443.48,660, 860.98, 961.62, 1005.79]\n",
                "    ]\n",
                ")\n",
                "\n",
                "treatment_obs_times = np.array([0, 4, 7, 11, 14, 18, 21])\n",
                "treatment_obs_seqs = np.array(\n",
                "    [\n",
                "        [118.82, 296.3, 465.59, 600.2, 482.71, 613.6, 408.73],\n",
                "        [151.67, 264.68, 384.61, 370.35, 304.5, 311.43, 213.42],\n",
                "        [127.3, 211.11, 270.17, 166.8, 87.16, 72.28, 54.18]\n",
                "    ]\n",
                ")"
            ]
        },
        {
            "cell_type": "markdown",
            "metadata": {},
            "source": [
                "`control_obs_times` is the sequence of times at which measurements were taken for the control case. `control_obs_seqs` is the sequence**s** of the actual measurements taken at each individual time."
            ]
        },
        {
            "cell_type": "code",
            "execution_count": 2,
            "metadata": {
                "scrolled": true
            },
            "outputs": [
                {
                    "name": "stderr",
                    "output_type": "stream",
                    "text": [
                        "INFO:kulgap.config:Normalizing data...\n",
                        "INFO:kulgap.config:Normalizing data...\n"
                    ]
                }
            ],
            "source": [
                "from kulgap.collection import Collection\n",
                "\n",
                "control_collection = Collection(\"control\", control_obs_times, control_obs_seqs)\n",
                "treatment_collection = Collection(\"treatment\", treatment_obs_times, treatment_obs_seqs)"
            ]
        },
        {
            "cell_type": "markdown",
            "metadata": {},
            "source": [
                "### Calculate Metrics for the Collection"
            ]
        },
        {
            "cell_type": "code",
            "execution_count": 3,
            "metadata": {},
            "outputs": [],
            "source": [
                "%matplotlib inline\n",
                "from matplotlib import pyplot as plt"
            ]
        },
        {
            "cell_type": "markdown",
            "metadata": {},
            "source": [
                "These are the supported metric types:"
            ]
        },
        {
            "cell_type": "code",
            "execution_count": 4,
            "metadata": {},
            "outputs": [
                {
                    "data": {
                        "text/plain": [
                            "('KL_DIVERGENCE',\n",
                            " 'KL_P_VALUE',\n",
                            " 'MRECIST',\n",
                            " 'MRECIST_COUNTS',\n",
                            " 'ANGLE',\n",
                            " 'ANGLE_RELATIVE',\n",
                            " 'ANGLE_AVERAGE',\n",
                            " 'ANGLE_AVERAGE_RELATIVE',\n",
                            " 'AUC',\n",
                            " 'AUC_NORM',\n",
                            " 'AUC_GP',\n",
                            " 'DIRECTION',\n",
                            " 'CREDIBLE_INTERVALS',\n",
                            " 'PERCENT_CREDIBLE_INTERVALS',\n",
                            " 'RATES_LIST',\n",
                            " 'DELTA_LOG_LIKELIHOOD_H0_H1')"
                        ]
                    },
                    "execution_count": 4,
                    "metadata": {},
                    "output_type": "execute_result"
                }
            ],
            "source": [
                "from kulgap.metrics import Metrics\n",
                "Metrics.TYPES"
            ]
        },
        {
            "cell_type": "raw",
            "metadata": {},
            "source": []
        },
        {
            "cell_type": "markdown",
            "metadata": {},
            "source": [
                "You need to pass into the Metrics the Collection on which you'd like to perform analysis on, and you're ready to calculate the metrics."
            ]
        },
        {
            "cell_type": "code",
            "execution_count": 5,
            "metadata": {},
            "outputs": [],
            "source": [
                "control_metrics = Metrics(collection=control_collection)\n",
                "treatment_metrics = Metrics(collection=treatment_collection)"
            ]
        },
        {
            "cell_type": "markdown",
            "metadata": {},
            "source": [
                "### KL Divergence"
            ]
        },
        {
            "cell_type": "markdown",
            "metadata": {},
            "source": [
                "The main supported distance metric between two Gaussian processes."
            ]
        },
        {
            "cell_type": "code",
            "execution_count": 6,
            "metadata": {
                "scrolled": true
            },
            "outputs": [
                {
                    "name": "stderr",
                    "output_type": "stream",
                    "text": [
                        "INFO:kulgap.config:Currently no fit GP on treatment, fitting a GP\n",
                        "INFO:GP:initializing Y\n",
                        "INFO:GP:initializing inference method\n",
                        "INFO:GP:adding kernel and likelihood as parameters\n"
                    ]
                },
                {
                    "name": "stdout",
                    "output_type": "stream",
                    "text": [
                        "Optimization restart 1/7, f = 24.679507527412888\n",
                        "Optimization restart 2/7, f = 32.57611537624202\n",
                        "Optimization restart 3/7, f = 24.679507527126788\n",
                        "Optimization restart 4/7, f = 24.679507527204464\n",
                        "Optimization restart 5/7, f = 24.679507527518503\n"
                    ]
                },
                {
                    "name": "stderr",
                    "output_type": "stream",
                    "text": [
                        "INFO:kulgap.config:Currently no fit GP on control, fitting a GP\n",
                        "INFO:GP:initializing Y\n",
                        "INFO:GP:initializing inference method\n",
                        "INFO:GP:adding kernel and likelihood as parameters\n"
                    ]
                },
                {
                    "name": "stdout",
                    "output_type": "stream",
                    "text": [
                        "Optimization restart 6/7, f = 24.679507527138348\n",
                        "Optimization restart 7/7, f = 24.679507527603718\n",
                        "Optimization restart 1/7, f = -9.145489191420284\n",
                        "Optimization restart 2/7, f = -9.145489191512223\n",
                        "Optimization restart 3/7, f = -9.145489191513194\n"
                    ]
                },
                {
                    "name": "stderr",
                    "output_type": "stream",
                    "text": [
                        "INFO:kulgap.config:Calculating the KL Divergence between treatment and control\n",
                        "INFO:kulgap.config:Calculated KL divergence is: 28.260228\n"
                    ]
                },
                {
                    "name": "stdout",
                    "output_type": "stream",
                    "text": [
                        "Optimization restart 4/7, f = 6.877801178671442\n",
                        "Optimization restart 5/7, f = 6.8778011786519855\n",
                        "Optimization restart 6/7, f = 6.8778011786632725\n",
                        "Optimization restart 7/7, f = -9.145489191512475\n"
                    ]
                },
                {
                    "data": {
                        "text/plain": [
                            "28.260228481619485"
                        ]
                    },
                    "execution_count": 6,
                    "metadata": {},
                    "output_type": "execute_result"
                }
            ],
            "source": [
                "treatment_metrics.kl_divergence(control_metrics)"
            ]
        },
        {
            "cell_type": "code",
            "execution_count": 7,
            "metadata": {},
            "outputs": [
                {
                    "data": {
                        "text/plain": [
                            "<matplotlib.axes._subplots.AxesSubplot at 0x10ce331d0>"
                        ]
                    },
                    "execution_count": 7,
                    "metadata": {},
                    "output_type": "execute_result"
                },
                {
                    "name": "stderr",
                    "output_type": "stream",
                    "text": [
                        " /usr/local/lib/python3.6/site-packages/matplotlib/figure.py:1742: UserWarning:This figure includes Axes that are not compatible with tight_layout, so its results might be incorrect.\n"
                    ]
                },
                {
                    "data": {
                        "image/png": "[encoded data removed]",
                        "text/plain": [
                            "<matplotlib.figure.Figure at 0x10ce1e470>"
                        ]
                    },
                    "metadata": {},
                    "output_type": "display_data"
                }
            ],
            "source": [
                "treatment_metrics.fit_gp.plot()"
            ]
        },
        {
            "cell_type": "code",
            "execution_count": 8,
            "metadata": {
                "scrolled": true
            },
            "outputs": [
                {
                    "name": "stderr",
                    "output_type": "stream",
                    "text": [
                        "INFO:kulgap.config:Calculating the KL Divergence between control and treatment\n",
                        "INFO:kulgap.config:Calculated KL divergence is: 468.151062\n"
                    ]
                },
                {
                    "data": {
                        "text/plain": [
                            "468.15106181523396"
                        ]
                    },
                    "execution_count": 8,
                    "metadata": {},
                    "output_type": "execute_result"
                }
            ],
            "source": [
                "control_metrics.kl_divergence(treatment_metrics)"
            ]
        },
        {
            "cell_type": "markdown",
            "metadata": {},
            "source": [
                "Of course, KL divergence is not symmetric."
            ]
        },
        {
            "cell_type": "code",
            "execution_count": 9,
            "metadata": {},
            "outputs": [
                {
                    "data": {
                        "text/plain": [
                            "<matplotlib.axes._subplots.AxesSubplot at 0x10cfab940>"
                        ]
                    },
                    "execution_count": 9,
                    "metadata": {},
                    "output_type": "execute_result"
                },
                {
                    "name": "stderr",
                    "output_type": "stream",
                    "text": [
                        " /usr/local/lib/python3.6/site-packages/matplotlib/figure.py:1742: UserWarning:This figure includes Axes that are not compatible with tight_layout, so its results might be incorrect.\n"
                    ]
                },
                {
                    "data": {
                        "image/png": "[encoded data removed]",
                        "text/plain": [
                            "<matplotlib.figure.Figure at 0x10cf6dd30>"
                        ]
                    },
                    "metadata": {},
                    "output_type": "display_data"
                }
            ],
            "source": [
                "control_metrics.fit_gp.plot()"
            ]
        },
        {
            "cell_type": "markdown",
            "metadata": {},
            "source": [
                "### Jensen Shannon Divergence"
            ]
        },
        {
            "cell_type": "markdown",
            "metadata": {},
            "source": [
                "The symmetric version of KL divergence."
            ]
        },
        {
            "cell_type": "markdown",
            "metadata": {},
            "source": [
                "### P value for the observed KL divergence"
            ]
        },
        {
            "cell_type": "code",
            "execution_count": 10,
            "metadata": {},
            "outputs": [
                {
                    "name": "stderr",
                    "output_type": "stream",
                    "text": [
                        "INFO:kulgap.config:Processed 0 out of 70 cases\n",
                        "INFO:GP:initializing Y\n",
                        "INFO:GP:initializing inference method\n",
                        "INFO:GP:adding kernel and likelihood as parameters\n",
                        "INFO:GP:initializing Y\n",
                        "INFO:GP:initializing inference method\n",
                        "INFO:GP:adding kernel and likelihood as parameters\n"
                    ]
                },
                {
                    "name": "stdout",
                    "output_type": "stream",
                    "text": [
                        "Optimization restart 1/7, f = 32.583690003298415\n",
                        "Optimization restart 2/7, f = 32.58369000333201\n",
                        "Optimization restart 3/7, f = 41.7060224829149\n",
                        "Optimization restart 4/7, f = 32.5836900044735\n",
                        "Optimization restart 5/7, f = 32.5836900032897\n",
                        "Optimization restart 6/7, f = 41.70602248291349\n",
                        "Optimization restart 7/7, f = 32.5836900038933\n",
                        "Optimization restart 1/7, f = -10.19285217255836\n",
                        "Optimization restart 2/7, f = 5.931897945302767\n",
                        "Optimization restart 3/7, f = 5.931897945302911\n",
                        "Optimization restart 4/7, f = -10.192852184317982\n"
                    ]
                },
                {
                    "name": "stderr",
                    "output_type": "stream",
                    "text": [
                        " /Users/wonjunetai/src/github.com/kulgap/kulgap/metrics.py:151: RuntimeWarning:invalid value encountered in log10\n",
                        " /usr/local/lib/python3.6/site-packages/scipy/integrate/quadpack.py:356: IntegrationWarning:The occurrence of roundoff error is detected, which prevents \n",
                        "  the requested tolerance from being achieved.  The error may be \n",
                        "  underestimated.\n",
                        "INFO:kulgap.config:Processed 1 out of 70 cases\n"
                    ]
                },
                {
                    "name": "stdout",
                    "output_type": "stream",
                    "text": [
                        "Optimization restart 5/7, f = 5.931897944933025\n",
                        "Optimization restart 6/7, f = -10.192852184317188\n",
                        "Optimization restart 7/7, f = -10.192852184199166\n"
                    ]
                },
                {
                    "name": "stderr",
                    "output_type": "stream",
                    "text": [
                        "INFO:GP:initializing Y\n",
                        "INFO:GP:initializing inference method\n",
                        "INFO:GP:adding kernel and likelihood as parameters\n"
                    ]
                },
                {
                    "name": "stdout",
                    "output_type": "stream",
                    "text": [
                        "Optimization restart 1/7, f = 31.146051935023184\n",
                        "Optimization restart 2/7, f = 31.14605193475651\n",
                        "Optimization restart 3/7, f = 40.34497430241122\n",
                        "Optimization restart 4/7, f = 31.14605194769628\n",
                        "Optimization restart 5/7, f = 31.146051934825103\n",
                        "Optimization restart 6/7, f = 31.14605193476109\n"
                    ]
                },
                {
                    "name": "stderr",
                    "output_type": "stream",
                    "text": [
                        "INFO:GP:initializing Y\n",
                        "INFO:GP:initializing inference method\n",
                        "INFO:GP:adding kernel and likelihood as parameters\n"
                    ]
                },
                {
                    "name": "stdout",
                    "output_type": "stream",
                    "text": [
                        "Optimization restart 7/7, f = 40.3449802070087\n",
                        "Optimization restart 1/7, f = -3.057560892774175\n",
                        "Optimization restart 2/7, f = -3.057560898676302\n",
                        "Optimization restart 3/7, f = -3.0575608986799256\n",
                        "Optimization restart 4/7, f = 12.63585686842206\n",
                        "Optimization restart 5/7, f = 12.635856867922204\n",
                        "Optimization restart 6/7, f = -3.0575608985938434\n",
                        "Optimization restart 7/7, f = 12.635856868338037\n"
                    ]
                },
                {
                    "name": "stderr",
                    "output_type": "stream",
                    "text": [
                        "INFO:kulgap.config:Processed 2 out of 70 cases\n",
                        "INFO:GP:initializing Y\n",
                        "INFO:GP:initializing inference method\n",
                        "INFO:GP:adding kernel and likelihood as parameters\n"
                    ]
                },
                {
                    "name": "stdout",
                    "output_type": "stream",
                    "text": [
                        "Optimization restart 1/7, f = 30.715772533242173\n",
                        "Optimization restart 2/7, f = 30.715772533284998\n",
                        "Optimization restart 3/7, f = 40.008003196083706\n",
                        "Optimization restart 4/7, f = 30.715772533240333\n",
                        "Optimization restart 5/7, f = 40.00800319607781\n"
                    ]
                },
                {
                    "name": "stderr",
                    "output_type": "stream",
                    "text": [
                        "INFO:GP:initializing Y\n",
                        "INFO:GP:initializing inference method\n",
                        "INFO:GP:adding kernel and likelihood as parameters\n"
                    ]
                },
                {
                    "name": "stdout",
                    "output_type": "stream",
                    "text": [
                        "Optimization restart 6/7, f = 30.71577254668352\n",
                        "Optimization restart 7/7, f = 30.715772533223223\n",
                        "Optimization restart 1/7, f = -9.284332883571418\n",
                        "Optimization restart 2/7, f = -9.284332883642827\n",
                        "Optimization restart 3/7, f = 6.903400259959124\n",
                        "Optimization restart 4/7, f = -9.284332883606702\n",
                        "Optimization restart 5/7, f = -9.284332883682573"
                    ]
                },
                {
                    "name": "stderr",
                    "output_type": "stream",
                    "text": [
                        "INFO:kulgap.config:Processed 3 out of 70 cases\n",
                        "INFO:GP:initializing Y\n",
                        "INFO:GP:initializing inference method\n",
                        "INFO:GP:adding kernel and likelihood as parameters\n"
                    ]
                },
                {
                    "name": "stdout",
                    "output_type": "stream",
                    "text": [
                        "\n",
                        "Optimization restart 6/7, f = 6.903400259973175\n",
                        "Optimization restart 7/7, f = -9.284332883702245\n",
                        "Optimization restart 1/7, f = 31.603501663839275\n",
                        "Optimization restart 2/7, f = 31.603501654730028\n",
                        "Optimization restart 3/7, f = 31.6035016553641\n",
                        "Optimization restart 4/7, f = 40.83412190899216\n",
                        "Optimization restart 5/7, f = 40.834121930732735\n",
                        "Optimization restart 6/7, f = 31.60350165458664\n"
                    ]
                },
                {
                    "name": "stderr",
                    "output_type": "stream",
                    "text": [
                        "INFO:GP:initializing Y\n",
                        "INFO:GP:initializing inference method\n",
                        "INFO:GP:adding kernel and likelihood as parameters\n"
                    ]
                },
                {
                    "name": "stdout",
                    "output_type": "stream",
                    "text": [
                        "Optimization restart 7/7, f = 31.603501657667827\n",
                        "Optimization restart 1/7, f = -2.5299521373096443\n",
                        "Optimization restart 2/7, f = -2.529952137307019\n",
                        "Optimization restart 3/7, f = 12.711477282781628\n",
                        "Optimization restart 4/7, f = 12.711477282544115\n",
                        "Optimization restart 5/7, f = -2.529952137321125\n",
                        "Optimization restart 6/7, f = 12.71147728278434\n",
                        "Optimization restart 7/7, f = -2.5299521373198584\n"
                    ]
                },
                {
                    "name": "stderr",
                    "output_type": "stream",
                    "text": [
                        "INFO:kulgap.config:Processed 4 out of 70 cases\n",
                        "INFO:GP:initializing Y\n",
                        "INFO:GP:initializing inference method\n",
                        "INFO:GP:adding kernel and likelihood as parameters\n"
                    ]
                },
                {
                    "name": "stdout",
                    "output_type": "stream",
                    "text": [
                        "Optimization restart 1/7, f = 15.652420615779914\n",
                        "Optimization restart 2/7, f = 15.652420615828103\n",
                        "Optimization restart 3/7, f = 15.652420619647991\n",
                        "Optimization restart 4/7, f = 15.652420615792636\n",
                        "Optimization restart 5/7, f = 15.652420633375122\n"
                    ]
                },
                {
                    "name": "stderr",
                    "output_type": "stream",
                    "text": [
                        "INFO:GP:initializing Y\n",
                        "INFO:GP:initializing inference method\n",
                        "INFO:GP:adding kernel and likelihood as parameters\n"
                    ]
                },
                {
                    "name": "stdout",
                    "output_type": "stream",
                    "text": [
                        "Optimization restart 6/7, f = 15.652420615762033\n",
                        "Optimization restart 7/7, f = 15.652420617402\n",
                        "Optimization restart 1/7, f = 25.412401326574646\n",
                        "Optimization restart 2/7, f = 25.412401326575143\n",
                        "Optimization restart 3/7, f = 25.412401326647878\n",
                        "Optimization restart 4/7, f = 25.412401326850564\n",
                        "Optimization restart 5/7, f = 34.16374256088086\n",
                        "Optimization restart 6/7, f = 34.163742577483546\n",
                        "Optimization restart 7/7, f = 34.163742577495796\n"
                    ]
                },
                {
                    "name": "stderr",
                    "output_type": "stream",
                    "text": [
                        "INFO:kulgap.config:Processed 5 out of 70 cases\n",
                        "INFO:GP:initializing Y\n",
                        "INFO:GP:initializing inference method\n",
                        "INFO:GP:adding kernel and likelihood as parameters\n",
                        "INFO:GP:initializing Y\n",
                        "INFO:GP:initializing inference method\n",
                        "INFO:GP:adding kernel and likelihood as parameters\n"
                    ]
                },
                {
                    "name": "stdout",
                    "output_type": "stream",
                    "text": [
                        "Optimization restart 1/7, f = 16.246128171567644\n",
                        "Optimization restart 2/7, f = 28.808347397850262\n",
                        "Optimization restart 3/7, f = 16.24612817355907\n",
                        "Optimization restart 4/7, f = 28.8083495793652\n",
                        "Optimization restart 5/7, f = 16.24612817157472\n",
                        "Optimization restart 6/7, f = 28.808349295512144\n",
                        "Optimization restart 7/7, f = 16.246128171537862\n",
                        "Optimization restart 1/7, f = 25.928570871592044\n",
                        "Optimization restart 2/7, f = 25.92857087129008\n",
                        "Optimization restart 3/7, f = 25.928570871644936\n",
                        "Optimization restart 4/7, f = 25.928570871147897\n",
                        "Optimization restart 5/7, f = 25.928570871141716\n",
                        "Optimization restart 6/7, f = 25.928570871564233\n",
                        "Optimization restart 7/7, f = 25.92857087113845"
                    ]
                },
                {
                    "name": "stderr",
                    "output_type": "stream",
                    "text": [
                        "INFO:kulgap.config:Processed 6 out of 70 cases\n",
                        "INFO:GP:initializing Y\n",
                        "INFO:GP:initializing inference method\n",
                        "INFO:GP:adding kernel and likelihood as parameters\n"
                    ]
                },
                {
                    "name": "stdout",
                    "output_type": "stream",
                    "text": [
                        "\n",
                        "Optimization restart 1/7, f = 16.00454096923107\n",
                        "Optimization restart 2/7, f = 28.634085823987444\n",
                        "Optimization restart 3/7, f = 16.0045409711717\n",
                        "Optimization restart 4/7, f = 16.00454096923116\n",
                        "Optimization restart 5/7, f = 16.004541017128073\n"
                    ]
                },
                {
                    "name": "stderr",
                    "output_type": "stream",
                    "text": [
                        "INFO:GP:initializing Y\n",
                        "INFO:GP:initializing inference method\n",
                        "INFO:GP:adding kernel and likelihood as parameters\n"
                    ]
                },
                {
                    "name": "stdout",
                    "output_type": "stream",
                    "text": [
                        "Optimization restart 6/7, f = 16.004540969290602\n",
                        "Optimization restart 7/7, f = 28.6340858133791\n",
                        "Optimization restart 1/7, f = 24.982910518069993\n",
                        "Optimization restart 2/7, f = 33.78366740217788\n",
                        "Optimization restart 3/7, f = 24.982910516263985\n",
                        "Optimization restart 4/7, f = 33.78366740218159\n",
                        "Optimization restart 5/7, f = 33.78366508506517\n",
                        "Optimization restart 6/7, f = 33.78366740220295\n",
                        "Optimization restart 7/7, f = 24.982910516395812\n"
                    ]
                },
                {
                    "name": "stderr",
                    "output_type": "stream",
                    "text": [
                        "INFO:kulgap.config:Processed 7 out of 70 cases\n",
                        "INFO:GP:initializing Y\n",
                        "INFO:GP:initializing inference method\n",
                        "INFO:GP:adding kernel and likelihood as parameters\n"
                    ]
                },
                {
                    "name": "stdout",
                    "output_type": "stream",
                    "text": [
                        "Optimization restart 1/7, f = 14.21621843844211\n",
                        "Optimization restart 2/7, f = 14.216218438657366\n",
                        "Optimization restart 3/7, f = 14.216218438502363\n",
                        "Optimization restart 4/7, f = 26.89425304123099\n",
                        "Optimization restart 5/7, f = 26.894253223583465\n",
                        "Optimization restart 6/7, f = 26.89425322346038\n",
                        "Optimization restart 7/7, f = 14.21621843853142\n"
                    ]
                },
                {
                    "name": "stderr",
                    "output_type": "stream",
                    "text": [
                        "INFO:GP:initializing Y\n",
                        "INFO:GP:initializing inference method\n",
                        "INFO:GP:adding kernel and likelihood as parameters\n"
                    ]
                },
                {
                    "name": "stdout",
                    "output_type": "stream",
                    "text": [
                        "Optimization restart 1/7, f = 27.160118289334783\n",
                        "Optimization restart 2/7, f = 35.62184406430913\n",
                        "Optimization restart 3/7, f = 27.16011830009205\n",
                        "Optimization restart 4/7, f = 35.62184405667802\n",
                        "Optimization restart 5/7, f = 27.160118289482167\n",
                        "Optimization restart 6/7, f = 35.621844064309116\n",
                        "Optimization restart 7/7, f = 27.16011828921144\n"
                    ]
                },
                {
                    "name": "stderr",
                    "output_type": "stream",
                    "text": [
                        "INFO:kulgap.config:Processed 8 out of 70 cases\n",
                        "INFO:GP:initializing Y\n",
                        "INFO:GP:initializing inference method\n",
                        "INFO:GP:adding kernel and likelihood as parameters\n"
                    ]
                },
                {
                    "name": "stdout",
                    "output_type": "stream",
                    "text": [
                        "Optimization restart 1/7, f = 14.408355454344449\n",
                        "Optimization restart 2/7, f = 27.1113499941713\n",
                        "Optimization restart 3/7, f = 14.408355454691652\n",
                        "Optimization restart 4/7, f = 27.111349966817613\n",
                        "Optimization restart 5/7, f = 14.408355454001844\n",
                        "Optimization restart 6/7, f = 27.111349240726916\n"
                    ]
                },
                {
                    "name": "stderr",
                    "output_type": "stream",
                    "text": [
                        "INFO:GP:initializing Y\n",
                        "INFO:GP:initializing inference method\n",
                        "INFO:GP:adding kernel and likelihood as parameters\n"
                    ]
                },
                {
                    "name": "stdout",
                    "output_type": "stream",
                    "text": [
                        "Optimization restart 7/7, f = 14.408355454025799\n",
                        "Optimization restart 1/7, f = 26.427504197529565\n",
                        "Optimization restart 2/7, f = 26.427504197304835\n",
                        "Optimization restart 3/7, f = 34.99467083093303\n",
                        "Optimization restart 4/7, f = 26.427504197162634\n",
                        "Optimization restart 5/7, f = 26.427504206506455\n",
                        "Optimization restart 6/7, f = 26.427504197254777\n",
                        "Optimization restart 7/7, f = 26.427504197296148\n"
                    ]
                },
                {
                    "name": "stderr",
                    "output_type": "stream",
                    "text": [
                        "INFO:kulgap.config:Processed 9 out of 70 cases\n",
                        "INFO:GP:initializing Y\n",
                        "INFO:GP:initializing inference method\n",
                        "INFO:GP:adding kernel and likelihood as parameters\n"
                    ]
                },
                {
                    "name": "stdout",
                    "output_type": "stream",
                    "text": [
                        "Optimization restart 1/7, f = 14.788928386464686\n",
                        "Optimization restart 2/7, f = 14.788928386457714\n",
                        "Optimization restart 3/7, f = 14.788928386460785\n",
                        "Optimization restart 4/7, f = 27.56052612033308\n",
                        "Optimization restart 5/7, f = 27.56052741796631\n"
                    ]
                },
                {
                    "name": "stderr",
                    "output_type": "stream",
                    "text": [
                        "INFO:GP:initializing Y\n",
                        "INFO:GP:initializing inference method\n",
                        "INFO:GP:adding kernel and likelihood as parameters\n"
                    ]
                },
                {
                    "name": "stdout",
                    "output_type": "stream",
                    "text": [
                        "Optimization restart 6/7, f = 14.788928386463343\n",
                        "Optimization restart 7/7, f = 27.560527417964106\n",
                        "Optimization restart 1/7, f = 26.842848645541718\n",
                        "Optimization restart 2/7, f = 26.84284864557003\n",
                        "Optimization restart 3/7, f = 35.32930503264055\n",
                        "Optimization restart 4/7, f = 26.842848645685372\n",
                        "Optimization restart 5/7, f = 26.842848645534367\n",
                        "Optimization restart 6/7, f = 35.32930476856319\n",
                        "Optimization restart 7/7, f = 26.84284864602725\n"
                    ]
                },
                {
                    "name": "stderr",
                    "output_type": "stream",
                    "text": [
                        "INFO:kulgap.config:Processed 10 out of 70 cases\n",
                        "INFO:GP:initializing Y\n",
                        "INFO:GP:initializing inference method\n",
                        "INFO:GP:adding kernel and likelihood as parameters\n",
                        " /usr/local/lib/python3.6/site-packages/GPy/kern/src/stationary.py:168: RuntimeWarning:overflow encountered in true_divide\n",
                        " /usr/local/lib/python3.6/site-packages/GPy/kern/src/rbf.py:54: RuntimeWarning:invalid value encountered in multiply\n"
                    ]
                },
                {
                    "name": "stdout",
                    "output_type": "stream",
                    "text": [
                        "Optimization restart 1/7, f = 33.48205899658167\n",
                        "Optimization restart 2/7, f = 33.280236265676436\n",
                        "Optimization restart 3/7, f = 42.79329788238666\n",
                        "Optimization restart 4/7, f = 33.28023626592814\n",
                        "Optimization restart 5/7, f = 42.793297882386675\n",
                        "Optimization restart 6/7, f = 42.79329789832673\n"
                    ]
                },
                {
                    "name": "stderr",
                    "output_type": "stream",
                    "text": [
                        "INFO:GP:initializing Y\n",
                        "INFO:GP:initializing inference method\n",
                        "INFO:GP:adding kernel and likelihood as parameters\n"
                    ]
                },
                {
                    "name": "stdout",
                    "output_type": "stream",
                    "text": [
                        "Optimization restart 7/7, f = 33.28023626564375\n",
                        "Optimization restart 1/7, f = 11.19305976719702\n",
                        "Optimization restart 2/7, f = 23.74466963017605\n",
                        "Optimization restart 3/7, f = 11.193059767181442\n",
                        "Optimization restart 4/7, f = 11.193059767791498\n",
                        "Optimization restart 5/7, f = 23.744669648284987\n"
                    ]
                },
                {
                    "name": "stderr",
                    "output_type": "stream",
                    "text": [
                        "INFO:kulgap.config:Processed 11 out of 70 cases\n",
                        "INFO:GP:initializing Y\n",
                        "INFO:GP:initializing inference method\n",
                        "INFO:GP:adding kernel and likelihood as parameters\n"
                    ]
                },
                {
                    "name": "stdout",
                    "output_type": "stream",
                    "text": [
                        "Optimization restart 6/7, f = 11.193059767204591\n",
                        "Optimization restart 7/7, f = 11.19305976719296\n",
                        "Optimization restart 1/7, f = 33.09660331263393\n",
                        "Optimization restart 2/7, f = 42.6613624035719\n",
                        "Optimization restart 3/7, f = 33.09660331259956\n"
                    ]
                },
                {
                    "name": "stderr",
                    "output_type": "stream",
                    "text": [
                        "INFO:GP:initializing Y\n",
                        "INFO:GP:initializing inference method\n",
                        "INFO:GP:adding kernel and likelihood as parameters\n"
                    ]
                },
                {
                    "name": "stdout",
                    "output_type": "stream",
                    "text": [
                        "Optimization restart 4/7, f = 42.661362404470985\n",
                        "Optimization restart 5/7, f = 33.096603312585785\n",
                        "Optimization restart 6/7, f = 33.09660331291418\n",
                        "Optimization restart 7/7, f = 42.661346179390634\n",
                        "Optimization restart 1/7, f = 11.653591580694147\n",
                        "Optimization restart 2/7, f = 11.653591580636693\n",
                        "Optimization restart 3/7, f = 11.653591580637052"
                    ]
                },
                {
                    "name": "stderr",
                    "output_type": "stream",
                    "text": [
                        "INFO:kulgap.config:Processed 12 out of 70 cases\n",
                        "INFO:GP:initializing Y\n",
                        "INFO:GP:initializing inference method\n",
                        "INFO:GP:adding kernel and likelihood as parameters\n"
                    ]
                },
                {
                    "name": "stdout",
                    "output_type": "stream",
                    "text": [
                        "\n",
                        "Optimization restart 4/7, f = 24.052296402362096\n",
                        "Optimization restart 5/7, f = 24.052297108963028\n",
                        "Optimization restart 6/7, f = 24.052295944410844\n",
                        "Optimization restart 7/7, f = 11.6535915806428\n",
                        "Optimization restart 1/7, f = 33.53450418828417\n",
                        "Optimization restart 2/7, f = 33.534504188581934\n"
                    ]
                },
                {
                    "name": "stderr",
                    "output_type": "stream",
                    "text": [
                        "INFO:GP:initializing Y\n",
                        "INFO:GP:initializing inference method\n",
                        "INFO:GP:adding kernel and likelihood as parameters\n"
                    ]
                },
                {
                    "name": "stdout",
                    "output_type": "stream",
                    "text": [
                        "Optimization restart 3/7, f = 43.083986659825854\n",
                        "Optimization restart 4/7, f = 43.083974462718565\n",
                        "Optimization restart 5/7, f = 43.08398665982916\n",
                        "Optimization restart 6/7, f = 43.083986652053426\n",
                        "Optimization restart 7/7, f = 43.08398663599523\n",
                        "Optimization restart 1/7, f = 10.350868309738921\n",
                        "Optimization restart 2/7, f = 22.934603129586975\n",
                        "Optimization restart 3/7, f = 22.934603129724977\n",
                        "Optimization restart 4/7, f = 10.350868309966598"
                    ]
                },
                {
                    "name": "stderr",
                    "output_type": "stream",
                    "text": [
                        "INFO:kulgap.config:Processed 13 out of 70 cases\n",
                        "INFO:GP:initializing Y\n",
                        "INFO:GP:initializing inference method\n",
                        "INFO:GP:adding kernel and likelihood as parameters\n"
                    ]
                },
                {
                    "name": "stdout",
                    "output_type": "stream",
                    "text": [
                        "\n",
                        "Optimization restart 5/7, f = 10.35086830938852\n",
                        "Optimization restart 6/7, f = 10.350868309489673\n",
                        "Optimization restart 7/7, f = 22.934603129634755\n",
                        "Optimization restart 1/7, f = 31.97883101765346\n",
                        "Optimization restart 2/7, f = 31.978831013514625\n",
                        "Optimization restart 3/7, f = 41.61559128012289\n",
                        "Optimization restart 4/7, f = 31.978831013707904\n",
                        "Optimization restart 5/7, f = 41.61559127977219\n",
                        "Optimization restart 6/7, f = 31.978831013836732\n",
                        "Optimization restart 7/7, f = 31.978831014919496\n"
                    ]
                },
                {
                    "name": "stderr",
                    "output_type": "stream",
                    "text": [
                        "INFO:GP:initializing Y\n",
                        "INFO:GP:initializing inference method\n",
                        "INFO:GP:adding kernel and likelihood as parameters\n"
                    ]
                },
                {
                    "name": "stdout",
                    "output_type": "stream",
                    "text": [
                        "Optimization restart 1/7, f = 13.950601448952098\n",
                        "Optimization restart 2/7, f = 14.585487263742472\n",
                        "Optimization restart 3/7, f = 25.97993675214438\n",
                        "Optimization restart 4/7, f = 13.950601448963068\n",
                        "Optimization restart 5/7, f = 25.979936757279695\n",
                        "Optimization restart 6/7, f = 25.979936757279454\n",
                        "Optimization restart 7/7, f = 13.950601450128408\n"
                    ]
                },
                {
                    "name": "stderr",
                    "output_type": "stream",
                    "text": [
                        "INFO:kulgap.config:Processed 14 out of 70 cases\n",
                        "INFO:GP:initializing Y\n",
                        "INFO:GP:initializing inference method\n",
                        "INFO:GP:adding kernel and likelihood as parameters\n"
                    ]
                },
                {
                    "name": "stdout",
                    "output_type": "stream",
                    "text": [
                        "Optimization restart 1/7, f = 32.560127195498126\n",
                        "Optimization restart 2/7, f = 42.16354731642082\n",
                        "Optimization restart 3/7, f = 32.56012719550362\n",
                        "Optimization restart 4/7, f = 32.5601271994574\n"
                    ]
                },
                {
                    "name": "stderr",
                    "output_type": "stream",
                    "text": [
                        "INFO:GP:initializing Y\n",
                        "INFO:GP:initializing inference method\n",
                        "INFO:GP:adding kernel and likelihood as parameters\n"
                    ]
                },
                {
                    "name": "stdout",
                    "output_type": "stream",
                    "text": [
                        "Optimization restart 5/7, f = 32.56012719668969\n",
                        "Optimization restart 6/7, f = 42.16354732272152\n",
                        "Optimization restart 7/7, f = 32.56012719551496\n",
                        "Optimization restart 1/7, f = 13.44641909672206\n",
                        "Optimization restart 2/7, f = 25.52139603654505\n",
                        "Optimization restart 3/7, f = 25.521396036905728"
                    ]
                },
                {
                    "name": "stderr",
                    "output_type": "stream",
                    "text": [
                        "INFO:kulgap.config:Processed 15 out of 70 cases\n"
                    ]
                },
                {
                    "name": "stdout",
                    "output_type": "stream",
                    "text": [
                        "\n",
                        "Optimization restart 4/7, f = 13.446419096177937\n",
                        "Optimization restart 5/7, f = 13.44641909639086\n",
                        "Optimization restart 6/7, f = 25.52139602190164\n",
                        "Optimization restart 7/7, f = 13.44641909617783\n"
                    ]
                },
                {
                    "name": "stderr",
                    "output_type": "stream",
                    "text": [
                        "INFO:GP:initializing Y\n",
                        "INFO:GP:initializing inference method\n",
                        "INFO:GP:adding kernel and likelihood as parameters\n",
                        "INFO:GP:initializing Y\n",
                        "INFO:GP:initializing inference method\n",
                        "INFO:GP:adding kernel and likelihood as parameters\n"
                    ]
                },
                {
                    "name": "stdout",
                    "output_type": "stream",
                    "text": [
                        "Optimization restart 1/7, f = 32.30145234435734\n",
                        "Optimization restart 2/7, f = 41.969308557737236\n",
                        "Optimization restart 3/7, f = 32.30145234466504\n",
                        "Optimization restart 4/7, f = 41.96930855773124\n",
                        "Optimization restart 5/7, f = 32.30145234438225\n",
                        "Optimization restart 6/7, f = 41.96930643876139\n",
                        "Optimization restart 7/7, f = 41.96930821210877\n",
                        "Optimization restart 1/7, f = 13.527199866675502\n",
                        "Optimization restart 2/7, f = 13.527199873399432\n",
                        "Optimization restart 3/7, f = 13.527199866809351\n",
                        "Optimization restart 4/7, f = 25.534090610328544\n",
                        "Optimization restart 5/7, f = 13.527199866681904\n",
                        "Optimization restart 6/7, f = 25.534090610342787\n",
                        "Optimization restart 7/7, f = 13.527199866701302\n"
                    ]
                },
                {
                    "name": "stderr",
                    "output_type": "stream",
                    "text": [
                        "INFO:kulgap.config:Processed 16 out of 70 cases\n",
                        "INFO:GP:initializing Y\n",
                        "INFO:GP:initializing inference method\n",
                        "INFO:GP:adding kernel and likelihood as parameters\n"
                    ]
                },
                {
                    "name": "stdout",
                    "output_type": "stream",
                    "text": [
                        "Optimization restart 1/7, f = 2.273991066046939\n",
                        "Optimization restart 2/7, f = 2.273991066051517\n",
                        "Optimization restart 3/7, f = 2.2739910660469516\n",
                        "Optimization restart 4/7, f = 2.273991066048163\n",
                        "Optimization restart 5/7, f = 16.970421094117604\n",
                        "Optimization restart 6/7, f = 16.970421052522354\n"
                    ]
                },
                {
                    "name": "stderr",
                    "output_type": "stream",
                    "text": [
                        "INFO:GP:initializing Y\n",
                        "INFO:GP:initializing inference method\n",
                        "INFO:GP:adding kernel and likelihood as parameters\n"
                    ]
                },
                {
                    "name": "stdout",
                    "output_type": "stream",
                    "text": [
                        "Optimization restart 7/7, f = 16.97041630554756\n",
                        "Optimization restart 1/7, f = 24.0104511155673\n",
                        "Optimization restart 2/7, f = 23.630753467811083\n"
                    ]
                },
                {
                    "name": "stderr",
                    "output_type": "stream",
                    "text": [
                        "INFO:kulgap.config:Processed 17 out of 70 cases\n",
                        "INFO:GP:initializing Y\n",
                        "INFO:GP:initializing inference method\n",
                        "INFO:GP:adding kernel and likelihood as parameters\n"
                    ]
                },
                {
                    "name": "stdout",
                    "output_type": "stream",
                    "text": [
                        "Optimization restart 3/7, f = 23.630787069651216\n",
                        "Optimization restart 4/7, f = 24.010451115542637\n",
                        "Optimization restart 5/7, f = 32.32694424432538\n",
                        "Optimization restart 6/7, f = 32.32694424432361\n",
                        "Optimization restart 7/7, f = 24.010451118332725\n",
                        "Optimization restart 1/7, f = 26.59514219357622\n"
                    ]
                },
                {
                    "name": "stderr",
                    "output_type": "stream",
                    "text": [
                        " /usr/local/lib/python3.6/site-packages/paramz/transformations.py:111: RuntimeWarning:overflow encountered in expm1\n"
                    ]
                },
                {
                    "name": "stdout",
                    "output_type": "stream",
                    "text": [
                        "Optimization restart 2/7, f = -2.2978904460261482\n",
                        "Optimization restart 3/7, f = -2.297890446033559\n",
                        "Optimization restart 4/7, f = -2.297890446030081\n",
                        "Optimization restart 5/7, f = -2.2978904460335148\n"
                    ]
                },
                {
                    "name": "stderr",
                    "output_type": "stream",
                    "text": [
                        "INFO:GP:initializing Y\n",
                        "INFO:GP:initializing inference method\n",
                        "INFO:GP:adding kernel and likelihood as parameters\n"
                    ]
                },
                {
                    "name": "stdout",
                    "output_type": "stream",
                    "text": [
                        "Optimization restart 6/7, f = -2.297890446028614\n",
                        "Optimization restart 7/7, f = 12.955369563906949\n",
                        "Optimization restart 1/7, f = 22.059705770590064\n",
                        "Optimization restart 2/7, f = 22.05969945682621\n"
                    ]
                },
                {
                    "name": "stderr",
                    "output_type": "stream",
                    "text": [
                        "INFO:kulgap.config:Processed 18 out of 70 cases\n"
                    ]
                },
                {
                    "name": "stdout",
                    "output_type": "stream",
                    "text": [
                        "Optimization restart 3/7, f = 22.05978283603266\n",
                        "Optimization restart 4/7, f = 22.059708917579805\n",
                        "Optimization restart 5/7, f = 31.041079067592158\n",
                        "Optimization restart 6/7, f = 22.059972402126704\n",
                        "Optimization restart 7/7, f = 22.059699817354463\n"
                    ]
                },
                {
                    "name": "stderr",
                    "output_type": "stream",
                    "text": [
                        "INFO:GP:initializing Y\n",
                        "INFO:GP:initializing inference method\n",
                        "INFO:GP:adding kernel and likelihood as parameters\n"
                    ]
                },
                {
                    "name": "stdout",
                    "output_type": "stream",
                    "text": [
                        "Optimization restart 1/7, f = 26.820949510245285\n",
                        "Optimization restart 2/7, f = 17.118120848670536\n",
                        "Optimization restart 3/7, f = 17.118120848673847\n",
                        "Optimization restart 4/7, f = 2.07425077997995\n",
                        "Optimization restart 5/7, f = 17.118120848668905\n",
                        "Optimization restart 6/7, f = 2.074250779812145\n"
                    ]
                },
                {
                    "name": "stderr",
                    "output_type": "stream",
                    "text": [
                        "INFO:GP:initializing Y\n",
                        "INFO:GP:initializing inference method\n",
                        "INFO:GP:adding kernel and likelihood as parameters\n"
                    ]
                },
                {
                    "name": "stdout",
                    "output_type": "stream",
                    "text": [
                        "Optimization restart 7/7, f = 2.0742507798734895\n",
                        "Optimization restart 1/7, f = 23.403781967704322\n",
                        "Optimization restart 2/7, f = 23.011628342247874\n",
                        "Optimization restart 3/7, f = 23.40378196823839\n",
                        "Optimization restart 4/7, f = 23.011391040773432\n",
                        "Optimization restart 5/7, f = 23.403781968280974\n"
                    ]
                },
                {
                    "name": "stderr",
                    "output_type": "stream",
                    "text": [
                        "INFO:kulgap.config:Processed 19 out of 70 cases\n",
                        "INFO:GP:initializing Y\n",
                        "INFO:GP:initializing inference method\n",
                        "INFO:GP:adding kernel and likelihood as parameters\n"
                    ]
                },
                {
                    "name": "stdout",
                    "output_type": "stream",
                    "text": [
                        "Optimization restart 6/7, f = 31.736372983178292\n",
                        "Optimization restart 7/7, f = 23.011412356589503\n",
                        "Optimization restart 1/7, f = 25.618796116023276\n",
                        "Optimization restart 2/7, f = 0.590392478593607\n",
                        "Optimization restart 3/7, f = 15.604830084799108\n",
                        "Optimization restart 4/7, f = 0.5903924787720101\n",
                        "Optimization restart 5/7, f = 0.5903924786357937\n",
                        "Optimization restart 6/7, f = 0.5903924785887682\n"
                    ]
                },
                {
                    "name": "stderr",
                    "output_type": "stream",
                    "text": [
                        "INFO:GP:initializing Y\n",
                        "INFO:GP:initializing inference method\n",
                        "INFO:GP:adding kernel and likelihood as parameters\n"
                    ]
                },
                {
                    "name": "stdout",
                    "output_type": "stream",
                    "text": [
                        "Optimization restart 7/7, f = 0.5903924785889423\n",
                        "Optimization restart 1/7, f = 25.35550260321517\n",
                        "Optimization restart 2/7, f = 33.45321764481073\n",
                        "Optimization restart 3/7, f = 33.45321764485131\n",
                        "Optimization restart 4/7, f = 33.45321764480233\n",
                        "Optimization restart 5/7, f = 25.355502601933694\n"
                    ]
                },
                {
                    "name": "stderr",
                    "output_type": "stream",
                    "text": [
                        "INFO:kulgap.config:Processed 20 out of 70 cases\n",
                        "INFO:GP:initializing Y\n",
                        "INFO:GP:initializing inference method\n",
                        "INFO:GP:adding kernel and likelihood as parameters\n"
                    ]
                },
                {
                    "name": "stdout",
                    "output_type": "stream",
                    "text": [
                        "Optimization restart 6/7, f = 25.35550260215991\n",
                        "Optimization restart 7/7, f = 25.355502601942554\n",
                        "Optimization restart 1/7, f = 31.590455152199926\n",
                        "Optimization restart 2/7, f = 31.590455152238167\n"
                    ]
                },
                {
                    "name": "stderr",
                    "output_type": "stream",
                    "text": [
                        " /usr/local/lib/python3.6/site-packages/GPy/kern/src/rbf.py:51: RuntimeWarning:overflow encountered in square\n",
                        "INFO:GP:initializing Y\n",
                        "INFO:GP:initializing inference method\n",
                        "INFO:GP:adding kernel and likelihood as parameters\n"
                    ]
                },
                {
                    "name": "stdout",
                    "output_type": "stream",
                    "text": [
                        "Optimization restart 3/7, f = 31.590455152162654\n",
                        "Optimization restart 4/7, f = 31.590455152190756\n",
                        "Optimization restart 5/7, f = 31.590455152742265\n",
                        "Optimization restart 6/7, f = 31.59045515216409\n",
                        "Optimization restart 7/7, f = 31.590455152232018\n",
                        "Optimization restart 1/7, f = 4.50667826042654\n",
                        "Optimization restart 2/7, f = 18.658045027456936\n",
                        "Optimization restart 3/7, f = 18.658045027447855\n",
                        "Optimization restart 4/7, f = 18.65804502745259\n",
                        "Optimization restart 5/7, f = 18.65804502745258\n",
                        "Optimization restart 6/7, f = 18.65804502683612\n",
                        "Optimization restart 7/7, f = 4.506678260299726\n"
                    ]
                },
                {
                    "name": "stderr",
                    "output_type": "stream",
                    "text": [
                        "INFO:kulgap.config:Processed 21 out of 70 cases\n",
                        "INFO:GP:initializing Y\n",
                        "INFO:GP:initializing inference method\n",
                        "INFO:GP:adding kernel and likelihood as parameters\n"
                    ]
                },
                {
                    "name": "stdout",
                    "output_type": "stream",
                    "text": [
                        "Optimization restart 1/7, f = 31.103071809975717\n",
                        "Optimization restart 2/7, f = 31.103071809296218\n",
                        "Optimization restart 3/7, f = 31.103071809287485\n"
                    ]
                },
                {
                    "name": "stderr",
                    "output_type": "stream",
                    "text": [
                        "INFO:GP:initializing Y\n",
                        "INFO:GP:initializing inference method\n",
                        "INFO:GP:adding kernel and likelihood as parameters\n"
                    ]
                },
                {
                    "name": "stdout",
                    "output_type": "stream",
                    "text": [
                        "Optimization restart 4/7, f = 31.103071809471004\n",
                        "Optimization restart 5/7, f = 31.10307180928152\n",
                        "Optimization restart 6/7, f = 31.103071810185853\n",
                        "Optimization restart 7/7, f = 31.103071809666638\n",
                        "Optimization restart 1/7, f = 1.3680555027128207\n",
                        "Optimization restart 2/7, f = 15.758336211208846\n",
                        "Optimization restart 3/7, f = 15.758336186839204\n",
                        "Optimization restart 4/7, f = 1.3680555027120889\n",
                        "Optimization restart 5/7, f = 1.3680555027118775\n",
                        "Optimization restart 6/7, f = 15.758336211179442\n",
                        "Optimization restart 7/7, f = 15.758336209379827\n"
                    ]
                },
                {
                    "name": "stderr",
                    "output_type": "stream",
                    "text": [
                        "INFO:kulgap.config:Processed 22 out of 70 cases\n",
                        "INFO:GP:initializing Y\n",
                        "INFO:GP:initializing inference method\n",
                        "INFO:GP:adding kernel and likelihood as parameters\n"
                    ]
                },
                {
                    "name": "stdout",
                    "output_type": "stream",
                    "text": [
                        "Optimization restart 1/7, f = 31.997859371058272\n",
                        "Optimization restart 2/7, f = 31.997859370279784\n",
                        "Optimization restart 3/7, f = 31.997859375140667\n",
                        "Optimization restart 4/7, f = 31.99785937026529\n"
                    ]
                },
                {
                    "name": "stderr",
                    "output_type": "stream",
                    "text": [
                        "INFO:GP:initializing Y\n",
                        "INFO:GP:initializing inference method\n",
                        "INFO:GP:adding kernel and likelihood as parameters\n"
                    ]
                },
                {
                    "name": "stdout",
                    "output_type": "stream",
                    "text": [
                        "Optimization restart 5/7, f = 31.997859370270312\n",
                        "Optimization restart 6/7, f = 41.45686061030566\n",
                        "Optimization restart 7/7, f = 31.99785937027972\n",
                        "Optimization restart 1/7, f = 4.347971944869727\n",
                        "Optimization restart 2/7, f = 4.347971944865979\n",
                        "Optimization restart 3/7, f = 18.21278832050413\n",
                        "Optimization restart 4/7, f = 4.34797194495264\n",
                        "Optimization restart 5/7, f = 18.212788316622238\n",
                        "Optimization restart 6/7, f = 18.212788139468074\n",
                        "Optimization restart 7/7, f = 4.347971945399092\n"
                    ]
                },
                {
                    "name": "stderr",
                    "output_type": "stream",
                    "text": [
                        "INFO:kulgap.config:Processed 23 out of 70 cases\n",
                        "INFO:GP:initializing Y\n",
                        "INFO:GP:initializing inference method\n",
                        "INFO:GP:adding kernel and likelihood as parameters\n"
                    ]
                },
                {
                    "name": "stdout",
                    "output_type": "stream",
                    "text": [
                        "Optimization restart 1/7, f = 29.279787166338934\n",
                        "Optimization restart 2/7, f = 29.279787164230203\n",
                        "Optimization restart 3/7, f = 38.986776433882845\n",
                        "Optimization restart 4/7, f = 38.986776290902114\n",
                        "Optimization restart 5/7, f = 38.98677643388021\n",
                        "Optimization restart 6/7, f = 29.27978716421301\n"
                    ]
                },
                {
                    "name": "stderr",
                    "output_type": "stream",
                    "text": [
                        "INFO:GP:initializing Y\n",
                        "INFO:GP:initializing inference method\n",
                        "INFO:GP:adding kernel and likelihood as parameters\n"
                    ]
                },
                {
                    "name": "stdout",
                    "output_type": "stream",
                    "text": [
                        "Optimization restart 7/7, f = 29.279787164213882\n",
                        "Optimization restart 1/7, f = 0.9710370924169798\n",
                        "Optimization restart 2/7, f = 0.971037092414262\n",
                        "Optimization restart 3/7, f = 0.9710370924283716\n",
                        "Optimization restart 4/7, f = 15.684294123782937\n",
                        "Optimization restart 5/7, f = 0.9710370924168785\n",
                        "Optimization restart 6/7, f = 0.9710370924138498\n",
                        "Optimization restart 7/7, f = 15.684294154105768\n"
                    ]
                },
                {
                    "name": "stderr",
                    "output_type": "stream",
                    "text": [
                        "INFO:kulgap.config:Processed 24 out of 70 cases\n",
                        "INFO:GP:initializing Y\n",
                        "INFO:GP:initializing inference method\n",
                        "INFO:GP:adding kernel and likelihood as parameters\n"
                    ]
                },
                {
                    "name": "stdout",
                    "output_type": "stream",
                    "text": [
                        "Optimization restart 1/7, f = 30.415675728097558\n",
                        "Optimization restart 2/7, f = 40.014258464608815\n",
                        "Optimization restart 3/7, f = 40.014258464605476\n",
                        "Optimization restart 4/7, f = 30.41567572777873\n",
                        "Optimization restart 5/7, f = 30.415675727392067\n",
                        "Optimization restart 6/7, f = 40.01425846457142\n"
                    ]
                },
                {
                    "name": "stderr",
                    "output_type": "stream",
                    "text": [
                        "INFO:GP:initializing Y\n",
                        "INFO:GP:initializing inference method\n",
                        "INFO:GP:adding kernel and likelihood as parameters\n"
                    ]
                },
                {
                    "name": "stdout",
                    "output_type": "stream",
                    "text": [
                        "Optimization restart 7/7, f = 30.415675727417664\n",
                        "Optimization restart 1/7, f = 5.550912144671708\n",
                        "Optimization restart 2/7, f = 19.454167066731223\n",
                        "Optimization restart 3/7, f = 19.454167066745548\n",
                        "Optimization restart 4/7, f = 19.45416706670968\n",
                        "Optimization restart 5/7, f = 19.454166644100113\n",
                        "Optimization restart 6/7, f = 5.550912144569455\n",
                        "Optimization restart 7/7, f = 5.550912144573532\n"
                    ]
                },
                {
                    "name": "stderr",
                    "output_type": "stream",
                    "text": [
                        "INFO:kulgap.config:Processed 25 out of 70 cases\n",
                        "INFO:GP:initializing Y\n",
                        "INFO:GP:initializing inference method\n",
                        "INFO:GP:adding kernel and likelihood as parameters\n"
                    ]
                },
                {
                    "name": "stdout",
                    "output_type": "stream",
                    "text": [
                        "Optimization restart 1/7, f = 29.809935429852615\n",
                        "Optimization restart 2/7, f = 29.80993542893541\n",
                        "Optimization restart 3/7, f = 29.809935428934956\n",
                        "Optimization restart 4/7, f = 39.529420674319454\n"
                    ]
                },
                {
                    "name": "stderr",
                    "output_type": "stream",
                    "text": [
                        "INFO:GP:initializing Y\n",
                        "INFO:GP:initializing inference method\n",
                        "INFO:GP:adding kernel and likelihood as parameters\n"
                    ]
                },
                {
                    "name": "stdout",
                    "output_type": "stream",
                    "text": [
                        "Optimization restart 5/7, f = 29.80993542897246\n",
                        "Optimization restart 6/7, f = 29.80993542918728\n",
                        "Optimization restart 7/7, f = 39.529420704855184\n",
                        "Optimization restart 1/7, f = 1.578806926809822\n",
                        "Optimization restart 2/7, f = 1.5788069268305627\n",
                        "Optimization restart 3/7, f = 1.5788069268100635\n",
                        "Optimization restart 4/7, f = 1.5788069268206293\n",
                        "Optimization restart 5/7, f = 1.578806926807312\n",
                        "Optimization restart 6/7, f = 15.798410044392831\n",
                        "Optimization restart 7/7, f = 1.5788069268072285\n"
                    ]
                },
                {
                    "name": "stderr",
                    "output_type": "stream",
                    "text": [
                        "INFO:kulgap.config:Processed 26 out of 70 cases\n",
                        "INFO:GP:initializing Y\n",
                        "INFO:GP:initializing inference method\n",
                        "INFO:GP:adding kernel and likelihood as parameters\n"
                    ]
                },
                {
                    "name": "stdout",
                    "output_type": "stream",
                    "text": [
                        "Optimization restart 1/7, f = 13.415989278716696\n",
                        "Optimization restart 2/7, f = 13.415989278386451\n",
                        "Optimization restart 3/7, f = 13.415989278294406\n",
                        "Optimization restart 4/7, f = 26.647415994129013\n",
                        "Optimization restart 5/7, f = 13.415989278751912\n",
                        "Optimization restart 6/7, f = 26.647415992620175\n"
                    ]
                },
                {
                    "name": "stderr",
                    "output_type": "stream",
                    "text": [
                        "INFO:GP:initializing Y\n",
                        "INFO:GP:initializing inference method\n",
                        "INFO:GP:adding kernel and likelihood as parameters\n"
                    ]
                },
                {
                    "name": "stdout",
                    "output_type": "stream",
                    "text": [
                        "Optimization restart 7/7, f = 13.415989278386059\n",
                        "Optimization restart 1/7, f = 27.0776202374937\n",
                        "Optimization restart 2/7, f = 27.077620237412802\n",
                        "Optimization restart 3/7, f = 35.282763416859645\n",
                        "Optimization restart 4/7, f = 26.973149761524475"
                    ]
                },
                {
                    "name": "stderr",
                    "output_type": "stream",
                    "text": [
                        "INFO:kulgap.config:Processed 27 out of 70 cases\n"
                    ]
                },
                {
                    "name": "stdout",
                    "output_type": "stream",
                    "text": [
                        "\n",
                        "Optimization restart 5/7, f = 35.28276341692877\n",
                        "Optimization restart 6/7, f = 35.28275853892729\n",
                        "Optimization restart 7/7, f = 26.97314976961748\n"
                    ]
                },
                {
                    "name": "stderr",
                    "output_type": "stream",
                    "text": [
                        "INFO:GP:initializing Y\n",
                        "INFO:GP:initializing inference method\n",
                        "INFO:GP:adding kernel and likelihood as parameters\n",
                        "INFO:GP:initializing Y\n",
                        "INFO:GP:initializing inference method\n",
                        "INFO:GP:adding kernel and likelihood as parameters\n"
                    ]
                },
                {
                    "name": "stdout",
                    "output_type": "stream",
                    "text": [
                        "Optimization restart 1/7, f = 13.735499870715003\n",
                        "Optimization restart 2/7, f = 13.735499870375952\n",
                        "Optimization restart 3/7, f = 26.988030978288336\n",
                        "Optimization restart 4/7, f = 26.98803097829127\n",
                        "Optimization restart 5/7, f = 13.735499870364864\n",
                        "Optimization restart 6/7, f = 26.988030427092028\n",
                        "Optimization restart 7/7, f = 26.98803097830587\n",
                        "Optimization restart 1/7, f = 26.197571534718506\n",
                        "Optimization restart 2/7, f = 26.197529432535575\n",
                        "Optimization restart 3/7, f = 26.197522348033083\n",
                        "Optimization restart 4/7, f = 34.6598430752105\n",
                        "Optimization restart 5/7, f = 26.19752595874793\n",
                        "Optimization restart 6/7, f = 26.197525217081854\n",
                        "Optimization restart 7/7, f = 34.659843075460245\n"
                    ]
                },
                {
                    "name": "stderr",
                    "output_type": "stream",
                    "text": [
                        "INFO:kulgap.config:Processed 28 out of 70 cases\n",
                        "INFO:GP:initializing Y\n",
                        "INFO:GP:initializing inference method\n",
                        "INFO:GP:adding kernel and likelihood as parameters\n"
                    ]
                },
                {
                    "name": "stdout",
                    "output_type": "stream",
                    "text": [
                        "Optimization restart 1/7, f = 26.038706177523856\n",
                        "Optimization restart 2/7, f = 27.177242553050128\n",
                        "Optimization restart 3/7, f = 27.17724021581394\n",
                        "Optimization restart 4/7, f = 13.884058203170238\n",
                        "Optimization restart 5/7, f = 13.88405820308069\n",
                        "Optimization restart 6/7, f = 13.884058203264397\n"
                    ]
                },
                {
                    "name": "stderr",
                    "output_type": "stream",
                    "text": [
                        "INFO:GP:initializing Y\n",
                        "INFO:GP:initializing inference method\n",
                        "INFO:GP:adding kernel and likelihood as parameters\n"
                    ]
                },
                {
                    "name": "stdout",
                    "output_type": "stream",
                    "text": [
                        "Optimization restart 7/7, f = 13.884058203234252\n",
                        "Optimization restart 1/7, f = 26.75339916518059\n",
                        "Optimization restart 2/7, f = 26.7533991577992\n",
                        "Optimization restart 3/7, f = 26.59968048205342\n",
                        "Optimization restart 4/7, f = 26.59970509462567\n",
                        "Optimization restart 5/7, f = 26.599683898964578\n",
                        "Optimization restart 6/7, f = 34.94399043258469\n",
                        "Optimization restart 7/7, f = 34.94399043258451\n"
                    ]
                },
                {
                    "name": "stderr",
                    "output_type": "stream",
                    "text": [
                        "INFO:kulgap.config:Processed 29 out of 70 cases\n",
                        "INFO:GP:initializing Y\n",
                        "INFO:GP:initializing inference method\n",
                        "INFO:GP:adding kernel and likelihood as parameters\n"
                    ]
                },
                {
                    "name": "stdout",
                    "output_type": "stream",
                    "text": [
                        "Optimization restart 1/7, f = 24.19309142546276\n",
                        "Optimization restart 2/7, f = 11.028545128983541\n",
                        "Optimization restart 3/7, f = 11.02854509875334\n",
                        "Optimization restart 4/7, f = 11.028545099687292\n",
                        "Optimization restart 5/7, f = 24.649228063269522\n"
                    ]
                },
                {
                    "name": "stderr",
                    "output_type": "stream",
                    "text": [
                        "INFO:GP:initializing Y\n",
                        "INFO:GP:initializing inference method\n",
                        "INFO:GP:adding kernel and likelihood as parameters\n"
                    ]
                },
                {
                    "name": "stdout",
                    "output_type": "stream",
                    "text": [
                        "Optimization restart 6/7, f = 11.028545098782782\n",
                        "Optimization restart 7/7, f = 11.028545098731772\n",
                        "Optimization restart 1/7, f = 27.800616637810464\n",
                        "Optimization restart 2/7, f = 27.73848733039117\n",
                        "Optimization restart 3/7, f = 27.738487333959576\n",
                        "Optimization restart 4/7, f = 27.73848733725859\n",
                        "Optimization restart 5/7, f = 27.738487330487374\n",
                        "Optimization restart 6/7, f = 35.907566320578596\n",
                        "Optimization restart 7/7, f = 27.73848733174403\n"
                    ]
                },
                {
                    "name": "stderr",
                    "output_type": "stream",
                    "text": [
                        "INFO:kulgap.config:Processed 30 out of 70 cases\n",
                        "INFO:GP:initializing Y\n",
                        "INFO:GP:initializing inference method\n",
                        "INFO:GP:adding kernel and likelihood as parameters\n"
                    ]
                },
                {
                    "name": "stdout",
                    "output_type": "stream",
                    "text": [
                        "Optimization restart 1/7, f = 31.992473621161643\n",
                        "Optimization restart 2/7, f = 31.992473621838847\n",
                        "Optimization restart 3/7, f = 31.99247362104039\n",
                        "Optimization restart 4/7, f = 31.992473621041785\n",
                        "Optimization restart 5/7, f = 41.857543466440646\n",
                        "Optimization restart 6/7, f = 31.992473637664727\n"
                    ]
                },
                {
                    "name": "stderr",
                    "output_type": "stream",
                    "text": [
                        "INFO:GP:initializing Y\n",
                        "INFO:GP:initializing inference method\n",
                        "INFO:GP:adding kernel and likelihood as parameters\n"
                    ]
                },
                {
                    "name": "stdout",
                    "output_type": "stream",
                    "text": [
                        "Optimization restart 7/7, f = 31.992473621031458\n",
                        "Optimization restart 1/7, f = 14.081411180634177\n",
                        "Optimization restart 2/7, f = 25.622945015969698\n",
                        "Optimization restart 3/7, f = 14.081411180679256\n",
                        "Optimization restart 4/7, f = 14.081411182647456\n"
                    ]
                },
                {
                    "name": "stderr",
                    "output_type": "stream",
                    "text": [
                        "INFO:kulgap.config:Processed 31 out of 70 cases\n",
                        "INFO:GP:initializing Y\n"
                    ]
                },
                {
                    "name": "stdout",
                    "output_type": "stream",
                    "text": [
                        "Optimization restart 5/7, f = 14.081411180633046\n",
                        "Optimization restart 6/7, f = 25.622936717934557\n",
                        "Optimization restart 7/7, f = 14.081411191654908\n"
                    ]
                },
                {
                    "name": "stderr",
                    "output_type": "stream",
                    "text": [
                        "INFO:GP:initializing inference method\n",
                        "INFO:GP:adding kernel and likelihood as parameters\n"
                    ]
                },
                {
                    "name": "stdout",
                    "output_type": "stream",
                    "text": [
                        "Optimization restart 1/7, f = 32.59959013837819\n",
                        "Optimization restart 2/7, f = 42.42188241351338\n",
                        "Optimization restart 3/7, f = 42.42188240940207\n",
                        "Optimization restart 4/7, f = 42.42188240932268\n",
                        "Optimization restart 5/7, f = 32.59958997367354\n",
                        "Optimization restart 6/7, f = 32.59958997367678\n"
                    ]
                },
                {
                    "name": "stderr",
                    "output_type": "stream",
                    "text": [
                        "INFO:GP:initializing Y\n",
                        "INFO:GP:initializing inference method\n",
                        "INFO:GP:adding kernel and likelihood as parameters\n"
                    ]
                },
                {
                    "name": "stdout",
                    "output_type": "stream",
                    "text": [
                        "Optimization restart 7/7, f = 32.59958997396097\n",
                        "Optimization restart 1/7, f = 13.706365775472563\n",
                        "Optimization restart 2/7, f = 25.27113534933983\n",
                        "Optimization restart 3/7, f = 13.706365776011008\n",
                        "Optimization restart 4/7, f = 25.271135349350892\n",
                        "Optimization restart 5/7, f = 13.70636577961947\n",
                        "Optimization restart 6/7, f = 13.706365776739801\n",
                        "Optimization restart 7/7, f = 13.706365775449628\n"
                    ]
                },
                {
                    "name": "stderr",
                    "output_type": "stream",
                    "text": [
                        "INFO:kulgap.config:Processed 32 out of 70 cases\n",
                        "INFO:GP:initializing Y\n",
                        "INFO:GP:initializing inference method\n",
                        "INFO:GP:adding kernel and likelihood as parameters\n"
                    ]
                },
                {
                    "name": "stdout",
                    "output_type": "stream",
                    "text": [
                        "Optimization restart 1/7, f = 32.2890710275325\n",
                        "Optimization restart 2/7, f = 32.289071027488795\n",
                        "Optimization restart 3/7, f = 32.28907102748186\n",
                        "Optimization restart 4/7, f = 42.17083728665944\n",
                        "Optimization restart 5/7, f = 32.28907102795371\n",
                        "Optimization restart 6/7, f = 32.28907102748426\n"
                    ]
                },
                {
                    "name": "stderr",
                    "output_type": "stream",
                    "text": [
                        "INFO:GP:initializing Y\n",
                        "INFO:GP:initializing inference method\n",
                        "INFO:GP:adding kernel and likelihood as parameters\n"
                    ]
                },
                {
                    "name": "stdout",
                    "output_type": "stream",
                    "text": [
                        "Optimization restart 7/7, f = 42.17083728665872\n",
                        "Optimization restart 1/7, f = 13.506746395606799\n",
                        "Optimization restart 2/7, f = 24.991601322520463\n",
                        "Optimization restart 3/7, f = 13.50674639559707\n",
                        "Optimization restart 4/7, f = 24.991601709816962\n",
                        "Optimization restart 5/7, f = 13.506746395597677\n",
                        "Optimization restart 6/7, f = 13.50674639572235\n",
                        "Optimization restart 7/7, f = 24.99160170981999\n"
                    ]
                },
                {
                    "name": "stderr",
                    "output_type": "stream",
                    "text": [
                        "INFO:kulgap.config:Processed 33 out of 70 cases\n",
                        "INFO:GP:initializing Y\n",
                        "INFO:GP:initializing inference method\n",
                        "INFO:GP:adding kernel and likelihood as parameters\n"
                    ]
                },
                {
                    "name": "stdout",
                    "output_type": "stream",
                    "text": [
                        "Optimization restart 1/7, f = 31.01825791657038\n",
                        "Optimization restart 2/7, f = 31.018257838440423\n",
                        "Optimization restart 3/7, f = 31.018257838015177\n"
                    ]
                },
                {
                    "name": "stderr",
                    "output_type": "stream",
                    "text": [
                        "INFO:GP:initializing Y\n",
                        "INFO:GP:initializing inference method\n",
                        "INFO:GP:adding kernel and likelihood as parameters\n"
                    ]
                },
                {
                    "name": "stdout",
                    "output_type": "stream",
                    "text": [
                        "Optimization restart 4/7, f = 31.018257838075577\n",
                        "Optimization restart 5/7, f = 31.018257838234994\n",
                        "Optimization restart 6/7, f = 31.018257838081134\n",
                        "Optimization restart 7/7, f = 31.01825783810379\n",
                        "Optimization restart 1/7, f = 15.162241457288735\n",
                        "Optimization restart 2/7, f = 26.530113564456848\n",
                        "Optimization restart 3/7, f = 26.530113564460358\n",
                        "Optimization restart 4/7, f = 26.530113564456606\n",
                        "Optimization restart 5/7, f = 26.530113564457437\n",
                        "Optimization restart 6/7, f = 15.162241457689328\n",
                        "Optimization restart 7/7, f = 26.530113564479592\n"
                    ]
                },
                {
                    "name": "stderr",
                    "output_type": "stream",
                    "text": [
                        "INFO:kulgap.config:Processed 34 out of 70 cases\n",
                        "INFO:GP:initializing Y\n",
                        "INFO:GP:initializing inference method\n",
                        "INFO:GP:adding kernel and likelihood as parameters\n"
                    ]
                },
                {
                    "name": "stdout",
                    "output_type": "stream",
                    "text": [
                        "Optimization restart 1/7, f = -9.14548919146812\n",
                        "Optimization restart 2/7, f = -9.14548919151292\n",
                        "Optimization restart 3/7, f = 6.877796210467858\n",
                        "Optimization restart 4/7, f = -9.145489191510565\n",
                        "Optimization restart 5/7, f = 6.87780117873565\n",
                        "Optimization restart 6/7, f = -9.14548919147967\n"
                    ]
                },
                {
                    "name": "stderr",
                    "output_type": "stream",
                    "text": [
                        "INFO:GP:initializing Y\n",
                        "INFO:GP:initializing inference method\n",
                        "INFO:GP:adding kernel and likelihood as parameters\n"
                    ]
                },
                {
                    "name": "stdout",
                    "output_type": "stream",
                    "text": [
                        "Optimization restart 7/7, f = -9.145489191416699\n",
                        "Optimization restart 1/7, f = 24.67950754370078\n",
                        "Optimization restart 2/7, f = 24.679507527148083\n",
                        "Optimization restart 3/7, f = 24.679507527212156\n",
                        "Optimization restart 4/7, f = 24.679507528546964\n"
                    ]
                },
                {
                    "name": "stderr",
                    "output_type": "stream",
                    "text": [
                        "INFO:kulgap.config:Calculating the KL Divergence between treatment and control\n",
                        "INFO:kulgap.config:Calculated KL divergence is: 28.260228\n",
                        "INFO:kulgap.config:The calculated p value for treatment is: 0.027778.\n"
                    ]
                },
                {
                    "name": "stdout",
                    "output_type": "stream",
                    "text": [
                        "Optimization restart 5/7, f = 24.67950752758397\n",
                        "Optimization restart 6/7, f = 32.57611537622185\n",
                        "Optimization restart 7/7, f = 32.576115376430714\n"
                    ]
                },
                {
                    "data": {
                        "text/plain": [
                            "0.027777777777777776"
                        ]
                    },
                    "execution_count": 10,
                    "metadata": {},
                    "output_type": "execute_result"
                }
            ],
            "source": [
                "treatment_metrics.kl_p_value(control_metrics)"
            ]
        },
        {
            "cell_type": "markdown",
            "metadata": {},
            "source": [
                "### Angles"
            ]
        },
        {
            "cell_type": "markdown",
            "metadata": {},
            "source": [
                "A line of best fit, fit using ordinary least squares."
            ]
        },
        {
            "cell_type": "code",
            "execution_count": null,
            "metadata": {},
            "outputs": [],
            "source": [
                "treatment_metrics.gp_angle()"
            ]
        },
        {
            "cell_type": "markdown",
            "metadata": {},
            "source": [
                "### AUC"
            ]
        },
        {
            "cell_type": "markdown",
            "metadata": {},
            "source": [
                "Area under the curve metric"
            ]
        },
        {
            "cell_type": "markdown",
            "metadata": {},
            "source": [
                "### MRECIST (Modified Response Evaluation Criteria in Solid Tumors)"
            ]
        },
        {
            "cell_type": "markdown",
            "metadata": {},
            "source": [
                "Because this package was built for comparing tumour growths in patient-derived xenografts, we natively provide this metric."
            ]
        },
        {
            "cell_type": "markdown",
            "metadata": {},
            "source": [
                "### Credible Intervals"
            ]
        },
        {
            "cell_type": "markdown",
            "metadata": {},
            "source": [
                "And all of the derivatives from credible intervals..."
            ]
        },
        {
            "cell_type": "markdown",
            "metadata": {},
            "source": [
                "### GP Derivatives"
            ]
        },
        {
            "cell_type": "code",
            "execution_count": null,
            "metadata": {},
            "outputs": [],
            "source": []
        }
    ],
    "metadata": {
        "kernelspec": {
            "display_name": "Python 3",
            "language": "python",
            "name": "python3"
        },
        "language_info": {
            "codemirror_mode": {
                "name": "ipython",
                "version": 3
            },
            "file_extension": ".py",
            "mimetype": "text/x-python",
            "name": "python",
            "nbconvert_exporter": "python",
            "pygments_lexer": "ipython3",
            "version": "3.6.5"
        }
    },
    "nbformat": 4,
    "nbformat_minor": 2
}
