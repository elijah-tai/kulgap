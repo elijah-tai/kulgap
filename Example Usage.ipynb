{
 "cells": [
  {
   "cell_type": "markdown",
   "metadata": {},
   "source": [
    "# Purpose"
   ]
  },
  {
   "cell_type": "markdown",
   "metadata": {},
   "source": [
    "Of this notebook is to demonstrate an example usage of the `kulgap` package."
   ]
  },
  {
   "cell_type": "markdown",
   "metadata": {},
   "source": [
    "### Define a Collection"
   ]
  },
  {
   "cell_type": "markdown",
   "metadata": {},
   "source": [
    "A collection is essentially is list of all of your timeseries data structured like:"
   ]
  },
  {
   "cell_type": "code",
   "execution_count": 1,
   "metadata": {},
   "outputs": [],
   "source": [
    "import numpy as np\n",
    "\n",
    "# import some data\n",
    "control_obs_times = np.array([0, 4, 7, 11, 14, 18, 21])\n",
    "control_obs_seqs = np.array([\n",
    "    [186.98, 368.7, 488.45, 782.15, 924.55, 970.16, 1081.03],\n",
    "    [267.6, 495.77, 628.39, 892.86, 984.88, 1096.8, 1314.03],\n",
    "    [164.48, 265.19, 321.11, 429.37, 554.81, 602.29, 801.5],\n",
    "    [201.21, 363.26, 443.48,660, 860.98, 961.62, 1005.79]\n",
    "])\n",
    "\n",
    "treatment_obs_times = np.array([0, 4, 7, 11, 14, 18, 21])\n",
    "treatment_obs_seqs = np.array(\n",
    "    [\n",
    "        [118.82, 296.3, 465.59, 600.2, 482.71, 613.6, 408.73],\n",
    "        [151.67, 264.68, 384.61, 370.35, 304.5, 311.43, 213.42],\n",
    "        [127.3, 211.11, 270.17, 166.8, 87.16, 72.28, 54.18]\n",
    "    ]\n",
    ")"
   ]
  },
  {
   "cell_type": "markdown",
   "metadata": {},
   "source": [
    "`control_obs_times` is the sequence of times at which measurements were taken for the control case. `control_obs_seqs` is the sequence**s** of the actual measurements taken at each individual time."
   ]
  },
  {
   "cell_type": "code",
   "execution_count": 2,
   "metadata": {
    "scrolled": true
   },
   "outputs": [
    {
     "name": "stderr",
     "output_type": "stream",
     "text": [
      "INFO:kulgap.config:Normalizing data...\n",
      "INFO:kulgap.config:Normalizing data...\n"
     ]
    }
   ],
   "source": [
    "from kulgap.collection import Collection\n",
    "\n",
    "control_collection = Collection(\"control\", control_obs_times, control_obs_seqs)\n",
    "treatment_collection = Collection(\"treatment\", treatment_obs_times, treatment_obs_seqs)"
   ]
  },
  {
   "cell_type": "markdown",
   "metadata": {},
   "source": [
    "### Calculate Metrics for the Collection"
   ]
  },
  {
   "cell_type": "code",
   "execution_count": 3,
   "metadata": {},
   "outputs": [],
   "source": [
    "%matplotlib inline\n",
    "from matplotlib import pyplot as plt"
   ]
  },
  {
   "cell_type": "code",
   "execution_count": 4,
   "metadata": {},
   "outputs": [],
   "source": [
    "from kulgap.metrics import Metrics"
   ]
  },
  {
   "cell_type": "markdown",
   "metadata": {},
   "source": [
    "These are the supported metric types:"
   ]
  },
  {
   "cell_type": "code",
   "execution_count": 5,
   "metadata": {},
   "outputs": [
    {
     "data": {
      "text/plain": [
       "('KL_P_CVSC',\n",
       " 'KL_DIVERGENCE',\n",
       " 'KL_P_VALUE',\n",
       " 'EMPIRICAL_KL',\n",
       " 'MRECIST',\n",
       " 'MRECIST_COUNTS',\n",
       " 'RESPONSE_ANGLE',\n",
       " 'RESPONSE_ANGLE_RELATIVE',\n",
       " 'RESPONSE_ANGLE_AVERAGE',\n",
       " 'RESPONSE_ANGLE_AVERAGE_RELATIVE',\n",
       " 'AUC',\n",
       " 'AUC_NORM',\n",
       " 'AUC_GP',\n",
       " 'DIRECTION',\n",
       " 'CREDIBLE_INTERVALS',\n",
       " 'PERCENT_CREDIBLE_INTERVALS',\n",
       " 'RATES_LIST',\n",
       " 'DELTA_LOG_LIKELIHOOD_H0_H1')"
      ]
     },
     "execution_count": 5,
     "metadata": {},
     "output_type": "execute_result"
    }
   ],
   "source": [
    "Metrics.TYPES"
   ]
  },
  {
   "cell_type": "markdown",
   "metadata": {},
   "source": [
    "You need to pass into the Metrics the Collection on which you'd like to perform analysis on, and you're ready to calculate the metrics."
   ]
  },
  {
   "cell_type": "code",
   "execution_count": 6,
   "metadata": {},
   "outputs": [],
   "source": [
    "control_metrics = Metrics(collection=control_collection)\n",
    "treatment_metrics = Metrics(collection=treatment_collection)"
   ]
  },
  {
   "cell_type": "code",
   "execution_count": 7,
   "metadata": {},
   "outputs": [
    {
     "name": "stderr",
     "output_type": "stream",
     "text": [
      "INFO:kulgap.config:Currently no fit GP on treatment, fitting a GP\n",
      "INFO:GP:initializing Y\n",
      "INFO:GP:initializing inference method\n",
      "INFO:GP:adding kernel and likelihood as parameters\n",
      "INFO:kulgap.config:Currently no fit GP on control, fitting a GP\n",
      "INFO:GP:initializing Y\n",
      "INFO:GP:initializing inference method\n",
      "INFO:GP:adding kernel and likelihood as parameters\n"
     ]
    },
    {
     "name": "stdout",
     "output_type": "stream",
     "text": [
      "Optimization restart 1/7, f = 24.679507527412888\n",
      "Optimization restart 2/7, f = 32.57611537622272\n",
      "Optimization restart 3/7, f = 32.57611537622163\n",
      "Optimization restart 4/7, f = 24.679507527118794\n",
      "Optimization restart 5/7, f = 32.57611537621091\n",
      "Optimization restart 6/7, f = 24.679507527162848\n",
      "Optimization restart 7/7, f = 24.679507527125708\n",
      "Optimization restart 1/7, f = -9.145489191420292\n",
      "Optimization restart 2/7, f = -9.145489190977388\n",
      "Optimization restart 3/7, f = 6.877801178675508\n"
     ]
    },
    {
     "name": "stderr",
     "output_type": "stream",
     "text": [
      "INFO:kulgap.config:Calculating the KL Divergence between treatment and control\n",
      "INFO:kulgap.config:Calculated KL divergence is: 28.260230\n"
     ]
    },
    {
     "name": "stdout",
     "output_type": "stream",
     "text": [
      "Optimization restart 4/7, f = -9.145489191512295\n",
      "Optimization restart 5/7, f = -9.14548919142824\n",
      "Optimization restart 6/7, f = -9.145489191258406\n",
      "Optimization restart 7/7, f = -9.145489191483193\n"
     ]
    },
    {
     "data": {
      "text/plain": [
       "28.260229576818524"
      ]
     },
     "execution_count": 7,
     "metadata": {},
     "output_type": "execute_result"
    }
   ],
   "source": [
    "# define the metrics you'd like to calculate\n",
    "metrics_to_calculate = ['kl_divergence']\n",
    "treatment_metrics.kl_divergence(control_metrics)"
   ]
  },
  {
   "cell_type": "code",
   "execution_count": 8,
   "metadata": {},
   "outputs": [
    {
     "name": "stderr",
     "output_type": "stream",
     "text": [
      "INFO:kulgap.config:Calculating the KL Divergence between control and treatment\n",
      "INFO:kulgap.config:Calculated KL divergence is: 468.150891\n"
     ]
    },
    {
     "data": {
      "text/plain": [
       "468.1508910317788"
      ]
     },
     "execution_count": 8,
     "metadata": {},
     "output_type": "execute_result"
    }
   ],
   "source": [
    "control_metrics.kl_divergence(treatment_metrics)"
   ]
  },
  {
   "cell_type": "code",
   "execution_count": null,
   "metadata": {},
   "outputs": [],
   "source": []
  }
 ],
 "metadata": {
  "kernelspec": {
   "display_name": "Python 3",
   "language": "python",
   "name": "python3"
  },
  "language_info": {
   "codemirror_mode": {
    "name": "ipython",
    "version": 3
   },
   "file_extension": ".py",
   "mimetype": "text/x-python",
   "name": "python",
   "nbconvert_exporter": "python",
   "pygments_lexer": "ipython3",
   "version": "3.6.5"
  }
 },
 "nbformat": 4,
 "nbformat_minor": 2
}
