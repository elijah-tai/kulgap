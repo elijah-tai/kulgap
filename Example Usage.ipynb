{
 "cells": [
  {
   "cell_type": "markdown",
   "metadata": {},
   "source": [
    "# Purpose"
   ]
  },
  {
   "cell_type": "markdown",
   "metadata": {},
   "source": [
    "Of this notebook is to demonstrate some common usages of the `kulgap` package."
   ]
  },
  {
   "cell_type": "markdown",
   "metadata": {},
   "source": [
    "### Define a Collection"
   ]
  },
  {
   "cell_type": "markdown",
   "metadata": {},
   "source": [
    "A collection is essentially is list of all of your timeseries data structured like:"
   ]
  },
  {
   "cell_type": "code",
   "execution_count": 1,
   "metadata": {},
   "outputs": [],
   "source": [
    "import numpy as np\n",
    "\n",
    "# import some data\n",
    "control_obs_times = np.array([0, 4, 7, 11, 14, 18, 21])\n",
    "control_obs_seqs = np.array([\n",
    "    [186.98, 368.7, 488.45, 782.15, 924.55, 970.16, 1081.03],\n",
    "    [267.6, 495.77, 628.39, 892.86, 984.88, 1096.8, 1314.03],\n",
    "    [164.48, 265.19, 321.11, 429.37, 554.81, 602.29, 801.5],\n",
    "    [201.21, 363.26, 443.48,660, 860.98, 961.62, 1005.79]\n",
    "])\n",
    "\n",
    "treatment_obs_times = np.array([0, 4, 7, 11, 14, 18, 21])\n",
    "treatment_obs_seqs = np.array(\n",
    "    [\n",
    "        [118.82, 296.3, 465.59, 600.2, 482.71, 613.6, 408.73],\n",
    "        [151.67, 264.68, 384.61, 370.35, 304.5, 311.43, 213.42],\n",
    "        [127.3, 211.11, 270.17, 166.8, 87.16, 72.28, 54.18]\n",
    "    ]\n",
    ")"
   ]
  },
  {
   "cell_type": "markdown",
   "metadata": {},
   "source": [
    "`control_obs_times` is the sequence of times at which measurements were taken for the control case. `control_obs_seqs` is the sequence**s** of the actual measurements taken at each individual time."
   ]
  },
  {
   "cell_type": "code",
   "execution_count": 7,
   "metadata": {
    "scrolled": true
   },
   "outputs": [
    {
     "name": "stderr",
     "output_type": "stream",
     "text": [
      "INFO:kulgap.config:Normalizing data...\n",
      "INFO:kulgap.config:Normalizing data...\n"
     ]
    }
   ],
   "source": [
    "from kulgap.collection import Collection\n",
    "\n",
    "control_collection = Collection(\"control\", control_obs_times, control_obs_seqs)\n",
    "treatment_collection = Collection(\"treatment\", treatment_obs_times, treatment_obs_seqs)"
   ]
  },
  {
   "cell_type": "markdown",
   "metadata": {},
   "source": [
    "### Calculate Metrics for the Collection"
   ]
  },
  {
   "cell_type": "code",
   "execution_count": 8,
   "metadata": {},
   "outputs": [],
   "source": [
    "%matplotlib inline\n",
    "from matplotlib import pyplot as plt"
   ]
  },
  {
   "cell_type": "markdown",
   "metadata": {},
   "source": [
    "These are the supported metric types:"
   ]
  },
  {
   "cell_type": "code",
   "execution_count": 10,
   "metadata": {},
   "outputs": [
    {
     "data": {
      "text/plain": [
       "('KL_DIVERGENCE',\n",
       " 'KL_P_VALUE',\n",
       " 'MRECIST',\n",
       " 'MRECIST_COUNTS',\n",
       " 'ANGLE',\n",
       " 'ANGLE_RELATIVE',\n",
       " 'ANGLE_AVERAGE',\n",
       " 'ANGLE_AVERAGE_RELATIVE',\n",
       " 'AUC',\n",
       " 'AUC_NORM',\n",
       " 'AUC_GP',\n",
       " 'DIRECTION',\n",
       " 'CREDIBLE_INTERVALS',\n",
       " 'PERCENT_CREDIBLE_INTERVALS',\n",
       " 'RATES_LIST',\n",
       " 'DELTA_LOG_LIKELIHOOD_H0_H1')"
      ]
     },
     "execution_count": 10,
     "metadata": {},
     "output_type": "execute_result"
    }
   ],
   "source": [
    "from kulgap.metrics import Metrics\n",
    "Metrics.TYPES"
   ]
  },
  {
   "cell_type": "markdown",
   "metadata": {},
   "source": [
    "You need to pass into the Metrics the Collection on which you'd like to perform analysis on, and you're ready to calculate the metrics."
   ]
  },
  {
   "cell_type": "code",
   "execution_count": 11,
   "metadata": {},
   "outputs": [],
   "source": [
    "control_metrics = Metrics(collection=control_collection)\n",
    "treatment_metrics = Metrics(collection=treatment_collection)"
   ]
  },
  {
   "cell_type": "markdown",
   "metadata": {},
   "source": [
    "### KL Divergence"
   ]
  },
  {
   "cell_type": "markdown",
   "metadata": {},
   "source": [
    "The main supported distance metric between two Gaussian processes."
   ]
  },
  {
   "cell_type": "code",
   "execution_count": 12,
   "metadata": {
    "scrolled": true
   },
   "outputs": [
    {
     "name": "stderr",
     "output_type": "stream",
     "text": [
      "INFO:kulgap.config:Currently no fit GP on treatment, fitting a GP\n",
      "INFO:GP:initializing Y\n",
      "INFO:GP:initializing inference method\n",
      "INFO:GP:adding kernel and likelihood as parameters\n",
      " /usr/local/lib/python3.6/site-packages/GPy/kern/src/rbf.py:51: RuntimeWarning:overflow encountered in square\n",
      "INFO:kulgap.config:Currently no fit GP on control, fitting a GP\n",
      "INFO:GP:initializing Y\n",
      "INFO:GP:initializing inference method\n",
      "INFO:GP:adding kernel and likelihood as parameters\n"
     ]
    },
    {
     "name": "stdout",
     "output_type": "stream",
     "text": [
      "Optimization restart 1/7, f = 24.679507527412888\n",
      "Optimization restart 2/7, f = 32.576115376221665\n",
      "Optimization restart 3/7, f = 32.57611090980552\n",
      "Optimization restart 4/7, f = 32.576115376233524\n",
      "Optimization restart 5/7, f = 24.67950752711931\n",
      "Optimization restart 6/7, f = 24.67950752730764\n",
      "Optimization restart 7/7, f = 32.576115376215164\n"
     ]
    },
    {
     "name": "stderr",
     "output_type": "stream",
     "text": [
      "INFO:kulgap.config:Calculating the KL Divergence between treatment and control\n"
     ]
    },
    {
     "name": "stdout",
     "output_type": "stream",
     "text": [
      "Optimization restart 1/7, f = -9.145489191420344\n",
      "Optimization restart 2/7, f = -9.145489191428956\n",
      "Optimization restart 3/7, f = 6.877800515901919\n",
      "Optimization restart 4/7, f = -9.145489191393034\n",
      "Optimization restart 5/7, f = 6.877801178673369\n",
      "Optimization restart 6/7, f = 6.8777996980477365\n",
      "Optimization restart 7/7, f = -9.145489191287687\n"
     ]
    },
    {
     "name": "stderr",
     "output_type": "stream",
     "text": [
      "INFO:kulgap.config:Calculated KL divergence is: 28.260223\n"
     ]
    },
    {
     "data": {
      "text/plain": [
       "28.260222824084451"
      ]
     },
     "execution_count": 12,
     "metadata": {},
     "output_type": "execute_result"
    }
   ],
   "source": [
    "treatment_metrics.kl_divergence(control_metrics)"
   ]
  },
  {
   "cell_type": "code",
   "execution_count": 13,
   "metadata": {},
   "outputs": [
    {
     "data": {
      "text/plain": [
       "<matplotlib.axes._subplots.AxesSubplot at 0x10efbaf98>"
      ]
     },
     "execution_count": 13,
     "metadata": {},
     "output_type": "execute_result"
    },
    {
     "name": "stderr",
     "output_type": "stream",
     "text": [
      " /usr/local/lib/python3.6/site-packages/matplotlib/figure.py:2022: UserWarning:This figure includes Axes that are not compatible with tight_layout, so results might be incorrect.\n"
     ]
    },
    {
     "data": {
      "image/png": "[encoded data removed]",
      "text/plain": [
       "<matplotlib.figure.Figure at 0x10efba9b0>"
      ]
     },
     "metadata": {},
     "output_type": "display_data"
    }
   ],
   "source": [
    "treatment_metrics.fit_gp.plot()"
   ]
  },
  {
   "cell_type": "code",
   "execution_count": null,
   "metadata": {
    "scrolled": true
   },
   "outputs": [],
   "source": [
    "control_metrics.kl_divergence(treatment_metrics)"
   ]
  },
  {
   "cell_type": "markdown",
   "metadata": {},
   "source": [
    "Of course, KL divergence is not symmetric."
   ]
  },
  {
   "cell_type": "code",
   "execution_count": null,
   "metadata": {},
   "outputs": [],
   "source": [
    "control_metrics.fit_gp.plot()"
   ]
  },
  {
   "cell_type": "markdown",
   "metadata": {},
   "source": [
    "### Jensen Shannon Divergence"
   ]
  },
  {
   "cell_type": "markdown",
   "metadata": {},
   "source": [
    "The symmetric version of KL divergence."
   ]
  },
  {
   "cell_type": "markdown",
   "metadata": {},
   "source": [
    "### P value for the observed KL divergence"
   ]
  },
  {
   "cell_type": "code",
   "execution_count": null,
   "metadata": {},
   "outputs": [],
   "source": [
    "treatment_metrics.kl_p_value(control_metrics)"
   ]
  },
  {
   "cell_type": "markdown",
   "metadata": {},
   "source": [
    "### Angles"
   ]
  },
  {
   "cell_type": "markdown",
   "metadata": {},
   "source": [
    "A line of best fit, fit using ordinary least squares."
   ]
  },
  {
   "cell_type": "markdown",
   "metadata": {},
   "source": [
    "### AUC"
   ]
  },
  {
   "cell_type": "markdown",
   "metadata": {},
   "source": [
    "Area under the curve metric"
   ]
  },
  {
   "cell_type": "markdown",
   "metadata": {},
   "source": [
    "### MRECIST (Modified Response Evaluation Criteria in Solid Tumors)"
   ]
  },
  {
   "cell_type": "markdown",
   "metadata": {},
   "source": [
    "Because this package was built for comparing tumour growths in patient-derived xenografts, we natively provide this metric."
   ]
  },
  {
   "cell_type": "markdown",
   "metadata": {},
   "source": [
    "### Credible Intervals"
   ]
  },
  {
   "cell_type": "markdown",
   "metadata": {},
   "source": [
    "And all of the derivatives from credible intervals..."
   ]
  },
  {
   "cell_type": "markdown",
   "metadata": {},
   "source": [
    "### GP Derivatives"
   ]
  },
  {
   "cell_type": "code",
   "execution_count": null,
   "metadata": {},
   "outputs": [],
   "source": []
  }
 ],
 "metadata": {
  "kernelspec": {
   "display_name": "Python 3",
   "language": "python",
   "name": "python3"
  },
  "language_info": {
   "codemirror_mode": {
    "name": "ipython",
    "version": 3
   },
   "file_extension": ".py",
   "mimetype": "text/x-python",
   "name": "python",
   "nbconvert_exporter": "python",
   "pygments_lexer": "ipython3",
   "version": "3.6.5"
  }
 },
 "nbformat": 4,
 "nbformat_minor": 2
}
